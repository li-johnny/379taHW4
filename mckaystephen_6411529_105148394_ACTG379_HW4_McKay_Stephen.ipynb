{
 "cells": [
  {
   "cell_type": "markdown",
   "id": "26727723",
   "metadata": {},
   "source": [
    "# Import PANDAS Library"
   ]
  },
  {
   "cell_type": "markdown",
   "id": "95c12af2",
   "metadata": {},
   "source": [
    "Notice that we are using pd as an abbreviation so each time we want to use the PANDAS library, we can simply type pd instead of pandas."
   ]
  },
  {
   "cell_type": "code",
   "execution_count": 91,
   "id": "310512c1",
   "metadata": {},
   "outputs": [],
   "source": [
    "import pandas as pd"
   ]
  },
  {
   "cell_type": "markdown",
   "id": "de360231",
   "metadata": {},
   "source": [
    "# Import Dataset (either full dataset or simplified)"
   ]
  },
  {
   "cell_type": "markdown",
   "id": "e12f49f5",
   "metadata": {},
   "source": [
    "You can use either set of datafiles (full or simplified). In the past some students' computers could not handle the full dataset. If you worry that your computer will not handle the full dataset (or if you find your code is running very slow), use the simplified version. \n",
    "\n",
    "The simplified version was created by taking a sample of the full data; hence the simplified files have \"Sample\" added to the end of the file names. Some files were not large to begin with and didn't need to be reduced. Those files do not have Sample added to the end of the file name."
   ]
  },
  {
   "cell_type": "markdown",
   "id": "5fcdb8f9",
   "metadata": {},
   "source": [
    "You will want to replace the begining of the address below (i.e., everything before OneDrive - Oregon State University/)"
   ]
  },
  {
   "cell_type": "markdown",
   "id": "a81d00b1",
   "metadata": {},
   "source": [
    "## Deliverable 1A and 1B"
   ]
  },
  {
   "cell_type": "code",
   "execution_count": 92,
   "id": "1b0b00e0",
   "metadata": {
    "scrolled": true
   },
   "outputs": [],
   "source": [
    "begInv = pd.read_csv(\"BegInvFINAL12-31-16Sample.csv\")"
   ]
  },
  {
   "cell_type": "markdown",
   "id": "7164e2a6-813e-41a0-a9d5-da3afd124a5f",
   "metadata": {},
   "source": [
    "I'm aware you recomend that we just change the name of the user, but I couldn't get the code running unless I saved the file to my desktop."
   ]
  },
  {
   "cell_type": "code",
   "execution_count": 93,
   "id": "745b0e67",
   "metadata": {},
   "outputs": [
    {
     "data": {
      "text/html": [
       "<div>\n",
       "<style scoped>\n",
       "    .dataframe tbody tr th:only-of-type {\n",
       "        vertical-align: middle;\n",
       "    }\n",
       "\n",
       "    .dataframe tbody tr th {\n",
       "        vertical-align: top;\n",
       "    }\n",
       "\n",
       "    .dataframe thead th {\n",
       "        text-align: right;\n",
       "    }\n",
       "</style>\n",
       "<table border=\"1\" class=\"dataframe\">\n",
       "  <thead>\n",
       "    <tr style=\"text-align: right;\">\n",
       "      <th></th>\n",
       "      <th>InventoryId</th>\n",
       "      <th>Store</th>\n",
       "      <th>City</th>\n",
       "      <th>Brand</th>\n",
       "      <th>Description</th>\n",
       "      <th>Size</th>\n",
       "      <th>onHand</th>\n",
       "      <th>Price</th>\n",
       "      <th>startDate</th>\n",
       "    </tr>\n",
       "  </thead>\n",
       "  <tbody>\n",
       "    <tr>\n",
       "      <th>0</th>\n",
       "      <td>1_HARDERSFIELD_58</td>\n",
       "      <td>1</td>\n",
       "      <td>HARDERSFIELD</td>\n",
       "      <td>58</td>\n",
       "      <td>Gekkeikan Black &amp; Gold Sake</td>\n",
       "      <td>750mL</td>\n",
       "      <td>8</td>\n",
       "      <td>12.99</td>\n",
       "      <td>2016-01-01</td>\n",
       "    </tr>\n",
       "    <tr>\n",
       "      <th>1</th>\n",
       "      <td>1_HARDERSFIELD_60</td>\n",
       "      <td>1</td>\n",
       "      <td>HARDERSFIELD</td>\n",
       "      <td>60</td>\n",
       "      <td>Canadian Club 1858 VAP</td>\n",
       "      <td>750mL</td>\n",
       "      <td>7</td>\n",
       "      <td>10.99</td>\n",
       "      <td>2016-01-01</td>\n",
       "    </tr>\n",
       "  </tbody>\n",
       "</table>\n",
       "</div>"
      ],
      "text/plain": [
       "         InventoryId  Store          City  Brand                  Description   \n",
       "0  1_HARDERSFIELD_58      1  HARDERSFIELD     58  Gekkeikan Black & Gold Sake  \\\n",
       "1  1_HARDERSFIELD_60      1  HARDERSFIELD     60       Canadian Club 1858 VAP   \n",
       "\n",
       "    Size  onHand  Price   startDate  \n",
       "0  750mL       8  12.99  2016-01-01  \n",
       "1  750mL       7  10.99  2016-01-01  "
      ]
     },
     "execution_count": 93,
     "metadata": {},
     "output_type": "execute_result"
    }
   ],
   "source": [
    "begInv.head(2)"
   ]
  },
  {
   "cell_type": "code",
   "execution_count": 94,
   "id": "4aec2074",
   "metadata": {},
   "outputs": [
    {
     "name": "stdout",
     "output_type": "stream",
     "text": [
      "Top 10 Stores Holding the Highest $ Value of Inventory at the Start of the Year:\n",
      "    Store  onHand  TotalValue\n",
      "33     34  153852  3291170.24\n",
      "72     73  162551  3142497.36\n",
      "66     67  158996  3079578.63\n",
      "65     66  149314  2973033.90\n",
      "75     76  140208  2952418.44\n",
      "68     69  144255  2946726.65\n",
      "37     38  114368  2232698.77\n",
      "54     55  119641  2001263.66\n",
      "49     50   94720  1649808.22\n",
      "78     79   95330  1503149.48\n"
     ]
    }
   ],
   "source": [
    "df = pd.DataFrame(begInv)\n",
    "\n",
    "# Convert startDate to datetime\n",
    "df['startDate'] = pd.to_datetime(df['startDate'])\n",
    "\n",
    "# Calculate total $ value of inventory for each store\n",
    "df['TotalValue'] = df['onHand'] * df['Price']\n",
    "\n",
    "# Group by Store and sum the total value\n",
    "store_inventory = df.groupby('Store').agg({'onHand': 'sum', 'TotalValue': 'sum'}).reset_index()\n",
    "\n",
    "# Select the top 10 stores holding the highest $ value of inventory at the start of the year\n",
    "top_10_stores = store_inventory.nlargest(10, 'TotalValue')\n",
    "\n",
    "print(\"Top 10 Stores Holding the Highest $ Value of Inventory at the Start of the Year:\")\n",
    "print(top_10_stores)"
   ]
  },
  {
   "cell_type": "code",
   "execution_count": 95,
   "id": "a1c86acf",
   "metadata": {},
   "outputs": [
    {
     "name": "stdout",
     "output_type": "stream",
     "text": [
      "Top 10 Stores Holding the Highest $ Value of Inventory at the Start of the Year:\n",
      "      Brand  onHand  TotalValue\n",
      "1389   3545   14499   463823.01\n",
      "493    1233   12016   432455.84\n",
      "2635   8068   15341   383371.59\n",
      "1748   4261   15499   340823.01\n",
      "1573   3858   13649   327439.51\n",
      "986    2753    4625   286703.75\n",
      "2641   8082    9287   278517.13\n",
      "2864   8680    7066   275503.34\n",
      "888    2589    6766   270572.34\n",
      "1580   3876   14829   266773.71\n"
     ]
    }
   ],
   "source": [
    "df = pd.DataFrame(begInv)\n",
    "\n",
    "# Convert startDate to datetime\n",
    "df['startDate'] = pd.to_datetime(df['startDate'])\n",
    "\n",
    "# Calculate total $ value of inventory for each store\n",
    "df['TotalValue'] = df['onHand'] * df['Price']\n",
    "\n",
    "# Group by Brand and sum the total value\n",
    "store_inventory = df.groupby('Brand').agg({'onHand': 'sum', 'TotalValue': 'sum'}).reset_index()\n",
    "\n",
    "# Select the top 10 stores holding the highest $ value of inventory at the start of the year\n",
    "top_10_stores = store_inventory.nlargest(10, 'TotalValue')\n",
    "\n",
    "print(\"Top 10 Stores Holding the Highest $ Value of Inventory at the Start of the Year:\")\n",
    "print(top_10_stores)"
   ]
  },
  {
   "cell_type": "markdown",
   "id": "3b42674c-c163-4703-a171-b223e3c8e0d1",
   "metadata": {},
   "source": [
    "## Deliverable 2A and 2B"
   ]
  },
  {
   "cell_type": "code",
   "execution_count": 96,
   "id": "d0c9d054-3658-4d18-8d0f-2d0c9172b183",
   "metadata": {},
   "outputs": [],
   "source": [
    "endInv = pd.read_csv(\"EndInvFINAL12-31-16Sample.csv\")"
   ]
  },
  {
   "cell_type": "code",
   "execution_count": 97,
   "id": "2e493a92-eda6-4fa5-a111-9436d4ebf676",
   "metadata": {},
   "outputs": [
    {
     "data": {
      "text/html": [
       "<div>\n",
       "<style scoped>\n",
       "    .dataframe tbody tr th:only-of-type {\n",
       "        vertical-align: middle;\n",
       "    }\n",
       "\n",
       "    .dataframe tbody tr th {\n",
       "        vertical-align: top;\n",
       "    }\n",
       "\n",
       "    .dataframe thead th {\n",
       "        text-align: right;\n",
       "    }\n",
       "</style>\n",
       "<table border=\"1\" class=\"dataframe\">\n",
       "  <thead>\n",
       "    <tr style=\"text-align: right;\">\n",
       "      <th></th>\n",
       "      <th>InventoryId</th>\n",
       "      <th>Store</th>\n",
       "      <th>City</th>\n",
       "      <th>Brand</th>\n",
       "      <th>Description</th>\n",
       "      <th>Size</th>\n",
       "      <th>onHand</th>\n",
       "      <th>Price</th>\n",
       "      <th>endDate</th>\n",
       "    </tr>\n",
       "  </thead>\n",
       "  <tbody>\n",
       "    <tr>\n",
       "      <th>0</th>\n",
       "      <td>1_HARDERSFIELD_58</td>\n",
       "      <td>1</td>\n",
       "      <td>HARDERSFIELD</td>\n",
       "      <td>58</td>\n",
       "      <td>Gekkeikan Black &amp; Gold Sake</td>\n",
       "      <td>750mL</td>\n",
       "      <td>11</td>\n",
       "      <td>12.99</td>\n",
       "      <td>2016-12-31</td>\n",
       "    </tr>\n",
       "    <tr>\n",
       "      <th>1</th>\n",
       "      <td>1_HARDERSFIELD_62</td>\n",
       "      <td>1</td>\n",
       "      <td>HARDERSFIELD</td>\n",
       "      <td>62</td>\n",
       "      <td>Herradura Silver Tequila</td>\n",
       "      <td>750mL</td>\n",
       "      <td>7</td>\n",
       "      <td>36.99</td>\n",
       "      <td>2016-12-31</td>\n",
       "    </tr>\n",
       "  </tbody>\n",
       "</table>\n",
       "</div>"
      ],
      "text/plain": [
       "         InventoryId  Store          City  Brand                  Description   \n",
       "0  1_HARDERSFIELD_58      1  HARDERSFIELD     58  Gekkeikan Black & Gold Sake  \\\n",
       "1  1_HARDERSFIELD_62      1  HARDERSFIELD     62     Herradura Silver Tequila   \n",
       "\n",
       "    Size  onHand  Price     endDate  \n",
       "0  750mL      11  12.99  2016-12-31  \n",
       "1  750mL       7  36.99  2016-12-31  "
      ]
     },
     "execution_count": 97,
     "metadata": {},
     "output_type": "execute_result"
    }
   ],
   "source": [
    "endInv.head(2)"
   ]
  },
  {
   "cell_type": "code",
   "execution_count": 98,
   "id": "d4cca6d3",
   "metadata": {},
   "outputs": [
    {
     "name": "stdout",
     "output_type": "stream",
     "text": [
      "Top 10 Stores Holding the Highest $ Value of Inventory at the Start of the Year:\n",
      "    Store  onHand  TotalValue\n",
      "49     50  260717  4887260.68\n",
      "72     73  164589  3254662.81\n",
      "66     67  163765  3076114.82\n",
      "33     34  145829  3074616.75\n",
      "75     76  143866  2975945.18\n",
      "68     69  150848  2968678.82\n",
      "65     66  144579  2860504.99\n",
      "73     74  166015  2803645.13\n",
      "37     38  129397  2463906.85\n",
      "54     55  125584  2234836.35\n"
     ]
    }
   ],
   "source": [
    "df = pd.DataFrame(endInv)\n",
    "\n",
    "# Convert endDate to endtime\n",
    "df['endDate'] = pd.to_datetime(df['endDate'])\n",
    "\n",
    "# Calculate total $ value of inventory for each store\n",
    "df['TotalValue'] = df['onHand'] * df['Price']\n",
    "\n",
    "# Group by Store and sum the total value\n",
    "store_inventory = df.groupby('Store').agg({'onHand': 'sum', 'TotalValue': 'sum'}).reset_index()\n",
    "\n",
    "# Select the top 10 stores holding the highest $ value of inventory at the start of the year\n",
    "top_10_stores = store_inventory.nlargest(10, 'TotalValue')\n",
    "\n",
    "print(\"Top 10 Stores Holding the Highest $ Value of Inventory at the Start of the Year:\")\n",
    "print(top_10_stores)"
   ]
  },
  {
   "cell_type": "code",
   "execution_count": 99,
   "id": "78503522",
   "metadata": {},
   "outputs": [
    {
     "name": "stdout",
     "output_type": "stream",
     "text": [
      "Top 10 Stores Holding the Highest $ Value of Inventory at the Start of the Year:\n",
      "      Brand  onHand  TotalValue\n",
      "496    1233   15047   526494.53\n",
      "1507   3545   16770   502932.30\n",
      "1090   2753    7849   470861.51\n",
      "2817   8068   15608   366631.92\n",
      "1430   3405   12268   355649.32\n",
      "1876   4261   16769   351981.31\n",
      "1093   2757   11603   336370.97\n",
      "991    2589    7922   300956.78\n",
      "552    1376   13180   276648.20\n",
      "988    2585   10487   272557.13\n"
     ]
    }
   ],
   "source": [
    "df = pd.DataFrame(endInv)\n",
    "\n",
    "# Convert endDate to endtime\n",
    "df['endDate'] = pd.to_datetime(df['endDate'])\n",
    "\n",
    "# Calculate total $ value of inventory for each store\n",
    "df['TotalValue'] = df['onHand'] * df['Price']\n",
    "\n",
    "# Group by Brand and sum the total value\n",
    "store_inventory = df.groupby('Brand').agg({'onHand': 'sum', 'TotalValue': 'sum'}).reset_index()\n",
    "\n",
    "# Select the top 10 stores holding the highest $ value of inventory at the start of the year\n",
    "top_10_stores = store_inventory.nlargest(10, 'TotalValue')\n",
    "\n",
    "print(\"Top 10 Stores Holding the Highest $ Value of Inventory at the Start of the Year:\")\n",
    "print(top_10_stores)"
   ]
  },
  {
   "cell_type": "markdown",
   "id": "5ae09a3b-ce58-406d-a371-02f67035dca6",
   "metadata": {},
   "source": [
    "## Deliverable 3"
   ]
  },
  {
   "cell_type": "code",
   "execution_count": 100,
   "id": "69f43cb0",
   "metadata": {},
   "outputs": [],
   "source": [
    "# # Convert startDate to datetime\n",
    "# df['startDate'] = pd.to_datetime(df['startDate'])\n",
    "\n",
    "# # Calculate total $ value of inventory for each InventoryId\n",
    "# df['TotalValue'] = df['onHand'] * df['Price']\n",
    "\n",
    "# # Merge beginning and ending inventory balances\n",
    "# inventory_balance = pd.merge(begInv[['InventoryId', 'onHand', 'TotalValue']], \n",
    "#                               endInv[['InventoryId', 'onHand', 'TotalValue']], \n",
    "#                               on='InventoryId', \n",
    "#                               suffixes=('_Beginning', '_Ending'))\n",
    "\n",
    "# # Rename columns\n",
    "# inventory_balance.columns = ['InventoryId', 'BOY16Qty', 'BOY16Value', 'EOY16Qty', 'EOY16Value']\n",
    "\n",
    "# inventory_balance = inventory_balance.sort_values(by='EOY16Value', ascending=False).head()\n",
    "\n",
    "# print(\"Inventory Balances:\")\n",
    "# print(inventory_balance)\n",
    "# len(inventory_balance)"
   ]
  },
  {
   "cell_type": "markdown",
   "id": "574278e3-30b2-46cd-841e-bf5836bd64bc",
   "metadata": {},
   "source": [
    "## Deliverable 4"
   ]
  },
  {
   "cell_type": "code",
   "execution_count": 101,
   "id": "8799fe87-9b8d-463f-a8fc-09da6ea43817",
   "metadata": {},
   "outputs": [
    {
     "name": "stdout",
     "output_type": "stream",
     "text": [
      "Top 10 Vendors based on Dollars Purchased:\n",
      "    VendorNumber      Dollars\n",
      "39          3960  21315299.75\n",
      "41          4425  11724670.82\n",
      "94         12546  10232521.65\n",
      "98         17035  10224899.93\n",
      "7            480   7420630.63\n",
      "16          1392   6584032.72\n",
      "12          1128   5719375.62\n",
      "79          9165   5545766.29\n",
      "33          3252   5177067.61\n",
      "82          9552   4647908.17\n"
     ]
    }
   ],
   "source": [
    "purchases = pd.read_csv(\"PurchasesFINAL12-31-16Sample.csv\")\n",
    "\n",
    "df = pd.DataFrame(purchases)\n",
    "\n",
    "# Group by VendorName and sum the Dollars\n",
    "top_vendors = df.groupby('VendorNumber')['Dollars'].sum().reset_index()\n",
    "\n",
    "# Sort the top_vendors by Dollars in descending order\n",
    "top_vendors = top_vendors.sort_values(by='Dollars', ascending=False).head(10)\n",
    "\n",
    "print(\"Top 10 Vendors based on Dollars Purchased:\")\n",
    "print(top_vendors)"
   ]
  },
  {
   "cell_type": "code",
   "execution_count": 102,
   "id": "b8598b97-c42a-4fc3-8a02-1363517edb4e",
   "metadata": {},
   "outputs": [
    {
     "name": "stdout",
     "output_type": "stream",
     "text": [
      "Top 10 Vendors with the Highest Per $ Freight:\n",
      "                       VendorName  Freight_per_$  Total_Freight_Paid\n",
      "165   CALEDONIA SPIRITS INC                 0.11             1319.77\n",
      "329   CHARLES JACQUIN ET CIE INC            0.05             1675.39\n",
      "877   FLAG HILL WINERY & VINEYARD           0.05             1573.31\n",
      "1427  MCCORMICK DISTILLING CO               0.05             1567.85\n",
      "1975  REMY COINTREAU USA INC                0.05            16978.67\n",
      "2305      STATE WINE & SPIRITS              0.05             8014.98\n",
      "1810  PHILLIPS PRODUCTS CO.                 0.04             2211.83\n",
      "1645  PALM BAY INTERNATIONAL INC            0.04            13605.41\n",
      "2690  VINILANDIA USA                        0.04             2802.64\n",
      "659   DISARONNO INTERNATIONAL LLC           0.04             5861.03\n",
      "\n",
      "Top 5 Vendors with the Lowest Per $ Freight:\n",
      "                       VendorName  Freight_per_$  Total_Freight_Paid\n",
      "620   DIAGEO NORTH AMERICA INC               0.0           257032.07\n",
      "1699  PALM BAY INTERNATIONAL INC             0.0            13605.41\n",
      "1698  PALM BAY INTERNATIONAL INC             0.0            13605.41\n",
      "1697  PALM BAY INTERNATIONAL INC             0.0            13605.41\n",
      "1455  MCCORMICK DISTILLING CO                0.0             1567.85\n"
     ]
    },
    {
     "name": "stderr",
     "output_type": "stream",
     "text": [
      "C:\\Users\\medic\\AppData\\Local\\Temp\\ipykernel_23164\\2802084317.py:13: SettingWithCopyWarning: \n",
      "A value is trying to be set on a copy of a slice from a DataFrame.\n",
      "Try using .loc[row_indexer,col_indexer] = value instead\n",
      "\n",
      "See the caveats in the documentation: https://pandas.pydata.org/pandas-docs/stable/user_guide/indexing.html#returning-a-view-versus-a-copy\n",
      "  qualified_df['Freight_per_$'] = (qualified_df['Freight'] / qualified_df['Dollars']).round(2)\n"
     ]
    }
   ],
   "source": [
    "invoice = pd.read_csv(\"InvoicePurchases12-31-16Sample.csv\")\n",
    "\n",
    "df = pd.DataFrame(invoice)\n",
    "\n",
    "# Filter vendors where Bibitor purchased at least $250,000 of inventory during 2016\n",
    "vendor_totals = df.groupby('VendorName')['Dollars'].sum()\n",
    "qualified_vendors = vendor_totals[vendor_totals >= 250000].index\n",
    "\n",
    "# Filter dataframe based on qualified vendors\n",
    "qualified_df = df[df['VendorName'].isin(qualified_vendors)]\n",
    "\n",
    "# Calculate freight per $ purchased\n",
    "qualified_df['Freight_per_$'] = (qualified_df['Freight'] / qualified_df['Dollars']).round(2)\n",
    "\n",
    "# Calculate total freight paid\n",
    "total_freight_paid = qualified_df.groupby('VendorName')['Freight'].sum().reset_index()\n",
    "qualified_df = pd.merge(qualified_df, total_freight_paid, on='VendorName', suffixes=('', '_Total'))\n",
    "qualified_df.rename(columns={'Freight_Total': 'Total_Freight_Paid'}, inplace=True)\n",
    "\n",
    "# Sort by freight per $ purchased\n",
    "sorted_df = qualified_df.sort_values(by='Freight_per_$', ascending=False)\n",
    "\n",
    "# Get the top 10 vendors with the highest freight per $ purchased\n",
    "top_10_highest = sorted_df.head(10)\n",
    "\n",
    "# Get the top 5 vendors with the lowest freight per $ purchased\n",
    "top_5_lowest = sorted_df.tail(5)\n",
    "\n",
    "print(\"Top 10 Vendors with the Highest Per $ Freight:\")\n",
    "print(top_10_highest[['VendorName', 'Freight_per_$', 'Total_Freight_Paid']])\n",
    "\n",
    "print(\"\\nTop 5 Vendors with the Lowest Per $ Freight:\")\n",
    "print(top_5_lowest[['VendorName', 'Freight_per_$', 'Total_Freight_Paid']])"
   ]
  },
  {
   "cell_type": "code",
   "execution_count": 103,
   "id": "e9586b43-4763-4e41-a327-1fb8ccd903a5",
   "metadata": {},
   "outputs": [
    {
     "name": "stdout",
     "output_type": "stream",
     "text": [
      "Vendors with the Highest Freight Cost (Freight > $100 and Units <= 1000):\n",
      "                     VendorName  Freight\n",
      "4   EDRINGTON AMERICAS           2944.67\n",
      "15  STOLI GROUP,(USA) LLC         349.02\n",
      "12  REMY COINTREAU USA INC        348.07\n",
      "14      STATE WINE & SPIRITS      303.70\n",
      "11  PALM BAY INTERNATIONAL INC    242.73\n"
     ]
    }
   ],
   "source": [
    "# Identify transactions where the freight cost was greater than $100 and the units were less than or equal to 1,000 units\n",
    "filtered_df = df[(df['Freight'] > 100) & (df['Quantity'] <= 1000)]\n",
    "\n",
    "# Find which vendors had the highest freight cost under these conditions\n",
    "highest_freight_vendors = filtered_df.groupby('VendorName')['Freight'].sum().reset_index()\n",
    "highest_freight_vendors = highest_freight_vendors.sort_values(by='Freight', ascending=False).head(5)\n",
    "\n",
    "print(\"Vendors with the Highest Freight Cost (Freight > $100 and Units <= 1000):\")\n",
    "print(highest_freight_vendors)"
   ]
  },
  {
   "cell_type": "code",
   "execution_count": 104,
   "id": "89b1fbc9-39a2-4193-81e5-cf947b89f400",
   "metadata": {},
   "outputs": [
    {
     "name": "stdout",
     "output_type": "stream",
     "text": [
      "Average Freight Per Unit for Companies with Sales Over $250,000:  0.06\n",
      "Average Freight Per Unit for Companies with Sales Below $250,000:  0.08\n",
      "Overall Average Freight Per Unit:  0.07\n"
     ]
    }
   ],
   "source": [
    "# Calculate total sales for each vendor\n",
    "vendor_sales = df.groupby('VendorName')['Dollars'].sum().reset_index()\n",
    "\n",
    "# Define a function to calculate the freight per unit\n",
    "def freight_per_unit(x):\n",
    "    return x['Freight'] / x['Quantity']\n",
    "\n",
    "# Apply the function to the dataframe\n",
    "df['Freight_per_Unit'] = df.apply(freight_per_unit, axis=1)\n",
    "\n",
    "# Calculate the average freight per unit\n",
    "avg_freight_per_unit = df['Freight_per_Unit'].mean()\n",
    "\n",
    "# Separate the dataframe into two groups: vendors with over $250,000 of sales and those below $250,000 of sales\n",
    "df_over_250k = df[df['VendorName'].isin(vendor_sales[vendor_sales['Dollars'] >= 250000]['VendorName'])]\n",
    "df_below_250k = df[df['VendorName'].isin(vendor_sales[vendor_sales['Dollars'] < 250000]['VendorName'])]\n",
    "\n",
    "# Calculate freight per unit for each group\n",
    "avg_freight_per_unit_over_250k = df_over_250k['Freight_per_Unit'].mean()\n",
    "avg_freight_per_unit_below_250k = df_below_250k['Freight_per_Unit'].mean()\n",
    "\n",
    "print(\"Average Freight Per Unit for Companies with Sales Over $250,000: \", round(avg_freight_per_unit_over_250k, 2))\n",
    "print(\"Average Freight Per Unit for Companies with Sales Below $250,000: \", round(avg_freight_per_unit_below_250k, 2))\n",
    "print(\"Overall Average Freight Per Unit: \", round(avg_freight_per_unit, 2))"
   ]
  },
  {
   "cell_type": "code",
   "execution_count": 105,
   "id": "a0994f0a-9de3-43fd-a9cc-490327d23742",
   "metadata": {},
   "outputs": [
    {
     "name": "stdout",
     "output_type": "stream",
     "text": [
      "Item with the Highest Sales Quantity:\n",
      "                InventoryId  Brand  SalesQuantity  SalesPrice\n",
      "986135   74_PAENTMARWY_8111   8111           1231        0.99\n",
      "777280    61_AETHELNEY_4277   4277            841        4.49\n",
      "544719    78_EASTHAVEN_4246   4246            721        5.49\n",
      "831703      33_HORNSEY_5404   5404            720        5.49\n",
      "879074    73_DONCASTER_3102   3102            560       16.99\n",
      "533831   73_DONCASTER_20660  20660            552       11.99\n",
      "510002  59_CLAETHORPES_5197   5197            505        8.99\n",
      "352322     7_STANMORE_17094  17094            479       10.99\n",
      "477255    32_MOUNTMEND_3851   3851            448       12.99\n",
      "473286    27_MOUNTMEND_3858   3858            397       22.99\n"
     ]
    }
   ],
   "source": [
    "sales = pd.read_csv(\"SalesFINAL12-31-16Sample.csv\")\n",
    "\n",
    "df = pd.DataFrame(sales)\n",
    "\n",
    "# Sort the DataFrame by SalesQuantity in descending order and get the top row\n",
    "highest_sales_quantity = df.sort_values(by='SalesQuantity', ascending=False).head(10)\n",
    "\n",
    "print(\"Item with the Highest Sales Quantity:\")\n",
    "print(highest_sales_quantity[['InventoryId', 'Brand', 'SalesQuantity', 'SalesPrice']])"
   ]
  },
  {
   "cell_type": "markdown",
   "id": "928cccc2-cef5-4a7c-9194-1600aa79d0f7",
   "metadata": {},
   "source": [
    "###an internal accountant might use this this calculation to recomend which brands increase purchases for. "
   ]
  }
 ],
 "metadata": {
  "kernelspec": {
   "display_name": "Python 3 (ipykernel)",
   "language": "python",
   "name": "python3"
  },
  "language_info": {
   "codemirror_mode": {
    "name": "ipython",
    "version": 3
   },
   "file_extension": ".py",
   "mimetype": "text/x-python",
   "name": "python",
   "nbconvert_exporter": "python",
   "pygments_lexer": "ipython3",
   "version": "3.10.9"
  }
 },
 "nbformat": 4,
 "nbformat_minor": 5
}
