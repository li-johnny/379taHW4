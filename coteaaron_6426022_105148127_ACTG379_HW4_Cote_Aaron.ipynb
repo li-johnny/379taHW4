{
 "cells": [
  {
   "cell_type": "code",
   "execution_count": 107,
   "id": "dbef4f63-ba87-4cbd-a192-dc44419b9f16",
   "metadata": {},
   "outputs": [],
   "source": [
    "import pandas as pd"
   ]
  },
  {
   "cell_type": "code",
   "execution_count": 12,
   "id": "debf35ad-fa15-43a6-975f-7b0f1f2b8778",
   "metadata": {},
   "outputs": [],
   "source": [
    "begInv = pd.read_csv(\"BegInvFINAL12312016Sample.csv\")"
   ]
  },
  {
   "cell_type": "markdown",
   "id": "42da52ad-d574-4fdb-ade8-bb75e29d222a",
   "metadata": {},
   "source": [
    "# Deliverable 1A"
   ]
  },
  {
   "cell_type": "code",
   "execution_count": 35,
   "id": "313d2e02-ed45-48e9-882b-2277606298a0",
   "metadata": {},
   "outputs": [
    {
     "data": {
      "text/html": [
       "<div>\n",
       "<style scoped>\n",
       "    .dataframe tbody tr th:only-of-type {\n",
       "        vertical-align: middle;\n",
       "    }\n",
       "\n",
       "    .dataframe tbody tr th {\n",
       "        vertical-align: top;\n",
       "    }\n",
       "\n",
       "    .dataframe thead th {\n",
       "        text-align: right;\n",
       "    }\n",
       "</style>\n",
       "<table border=\"1\" class=\"dataframe\">\n",
       "  <thead>\n",
       "    <tr style=\"text-align: right;\">\n",
       "      <th></th>\n",
       "      <th>01_01_2016_Qty</th>\n",
       "      <th>InvCost01_01_2016</th>\n",
       "    </tr>\n",
       "    <tr>\n",
       "      <th>Store</th>\n",
       "      <th></th>\n",
       "      <th></th>\n",
       "    </tr>\n",
       "  </thead>\n",
       "  <tbody>\n",
       "    <tr>\n",
       "      <th>34</th>\n",
       "      <td>153852</td>\n",
       "      <td>3291170.24</td>\n",
       "    </tr>\n",
       "    <tr>\n",
       "      <th>73</th>\n",
       "      <td>162551</td>\n",
       "      <td>3142497.36</td>\n",
       "    </tr>\n",
       "    <tr>\n",
       "      <th>67</th>\n",
       "      <td>158996</td>\n",
       "      <td>3079578.63</td>\n",
       "    </tr>\n",
       "    <tr>\n",
       "      <th>66</th>\n",
       "      <td>149314</td>\n",
       "      <td>2973033.90</td>\n",
       "    </tr>\n",
       "    <tr>\n",
       "      <th>76</th>\n",
       "      <td>140208</td>\n",
       "      <td>2952418.44</td>\n",
       "    </tr>\n",
       "    <tr>\n",
       "      <th>69</th>\n",
       "      <td>144255</td>\n",
       "      <td>2946726.65</td>\n",
       "    </tr>\n",
       "    <tr>\n",
       "      <th>38</th>\n",
       "      <td>114368</td>\n",
       "      <td>2232698.77</td>\n",
       "    </tr>\n",
       "    <tr>\n",
       "      <th>55</th>\n",
       "      <td>119641</td>\n",
       "      <td>2001263.66</td>\n",
       "    </tr>\n",
       "    <tr>\n",
       "      <th>50</th>\n",
       "      <td>94720</td>\n",
       "      <td>1649808.22</td>\n",
       "    </tr>\n",
       "    <tr>\n",
       "      <th>79</th>\n",
       "      <td>95330</td>\n",
       "      <td>1503149.48</td>\n",
       "    </tr>\n",
       "  </tbody>\n",
       "</table>\n",
       "</div>"
      ],
      "text/plain": [
       "       01_01_2016_Qty  InvCost01_01_2016\n",
       "Store                                   \n",
       "34             153852         3291170.24\n",
       "73             162551         3142497.36\n",
       "67             158996         3079578.63\n",
       "66             149314         2973033.90\n",
       "76             140208         2952418.44\n",
       "69             144255         2946726.65\n",
       "38             114368         2232698.77\n",
       "55             119641         2001263.66\n",
       "50              94720         1649808.22\n",
       "79              95330         1503149.48"
      ]
     },
     "execution_count": 35,
     "metadata": {},
     "output_type": "execute_result"
    }
   ],
   "source": [
    "begInv = begInv.rename(columns = {'onHand':'01_01_2016_Qty'})\n",
    "begInv['InvCost01_01_2016'] = begInv['01_01_2016_Qty'] * begInv['Price']\n",
    "begInv_Store = begInv[['Store','01_01_2016_Qty','InvCost01_01_2016']].groupby('Store').sum()\n",
    "begInv_Store.sort_values(by='InvCost01_01_2016',ascending=False).head(10)\n",
    "begInv_Store.sort_values(by='InvCost01_01_2016').tail(10).sort_values(by='InvCost01_01_2016', ascending = False)"
   ]
  },
  {
   "cell_type": "markdown",
   "id": "92dab88a-d3c1-4d2b-a5cf-34df0d4c51e1",
   "metadata": {},
   "source": [
    "# Deliverable 1B"
   ]
  },
  {
   "cell_type": "code",
   "execution_count": 41,
   "id": "feb0aab4-6977-4d75-8e10-155b35955ea4",
   "metadata": {},
   "outputs": [
    {
     "data": {
      "text/html": [
       "<div>\n",
       "<style scoped>\n",
       "    .dataframe tbody tr th:only-of-type {\n",
       "        vertical-align: middle;\n",
       "    }\n",
       "\n",
       "    .dataframe tbody tr th {\n",
       "        vertical-align: top;\n",
       "    }\n",
       "\n",
       "    .dataframe thead th {\n",
       "        text-align: right;\n",
       "    }\n",
       "</style>\n",
       "<table border=\"1\" class=\"dataframe\">\n",
       "  <thead>\n",
       "    <tr style=\"text-align: right;\">\n",
       "      <th></th>\n",
       "      <th>01_01_2016_Qty</th>\n",
       "      <th>InvCost01_01_2016</th>\n",
       "    </tr>\n",
       "    <tr>\n",
       "      <th>Brand</th>\n",
       "      <th></th>\n",
       "      <th></th>\n",
       "    </tr>\n",
       "  </thead>\n",
       "  <tbody>\n",
       "    <tr>\n",
       "      <th>3545</th>\n",
       "      <td>14499</td>\n",
       "      <td>463823.01</td>\n",
       "    </tr>\n",
       "    <tr>\n",
       "      <th>1233</th>\n",
       "      <td>12016</td>\n",
       "      <td>432455.84</td>\n",
       "    </tr>\n",
       "    <tr>\n",
       "      <th>8068</th>\n",
       "      <td>15341</td>\n",
       "      <td>383371.59</td>\n",
       "    </tr>\n",
       "    <tr>\n",
       "      <th>4261</th>\n",
       "      <td>15499</td>\n",
       "      <td>340823.01</td>\n",
       "    </tr>\n",
       "    <tr>\n",
       "      <th>3858</th>\n",
       "      <td>13649</td>\n",
       "      <td>327439.51</td>\n",
       "    </tr>\n",
       "    <tr>\n",
       "      <th>2753</th>\n",
       "      <td>4625</td>\n",
       "      <td>286703.75</td>\n",
       "    </tr>\n",
       "    <tr>\n",
       "      <th>8082</th>\n",
       "      <td>9287</td>\n",
       "      <td>278517.13</td>\n",
       "    </tr>\n",
       "    <tr>\n",
       "      <th>8680</th>\n",
       "      <td>7066</td>\n",
       "      <td>275503.34</td>\n",
       "    </tr>\n",
       "    <tr>\n",
       "      <th>2589</th>\n",
       "      <td>6766</td>\n",
       "      <td>270572.34</td>\n",
       "    </tr>\n",
       "    <tr>\n",
       "      <th>3876</th>\n",
       "      <td>14829</td>\n",
       "      <td>266773.71</td>\n",
       "    </tr>\n",
       "  </tbody>\n",
       "</table>\n",
       "</div>"
      ],
      "text/plain": [
       "       01_01_2016_Qty  InvCost01_01_2016\n",
       "Brand                                   \n",
       "3545            14499          463823.01\n",
       "1233            12016          432455.84\n",
       "8068            15341          383371.59\n",
       "4261            15499          340823.01\n",
       "3858            13649          327439.51\n",
       "2753             4625          286703.75\n",
       "8082             9287          278517.13\n",
       "8680             7066          275503.34\n",
       "2589             6766          270572.34\n",
       "3876            14829          266773.71"
      ]
     },
     "execution_count": 41,
     "metadata": {},
     "output_type": "execute_result"
    }
   ],
   "source": [
    "bebegInv = begInv.rename(columns = {'onHand':'01_01_2016_Qty'})\n",
    "begInv['InvCost01_01_2016'] = begInv['01_01_2016_Qty'] * begInv['Price']\n",
    "begInv_Brand = begInv[['Brand','01_01_2016_Qty','InvCost01_01_2016']].groupby('Brand').sum()\n",
    "begInv_Brand.sort_values(by='InvCost01_01_2016',ascending=False).head(10)\n",
    "begInv_Brand.sort_values(by='InvCost01_01_2016').tail(10).sort_values(by='InvCost01_01_2016', ascending = False)"
   ]
  },
  {
   "cell_type": "markdown",
   "id": "0a1a51c3-15b5-47f5-9a45-01ad58722e24",
   "metadata": {},
   "source": [
    "# Deliverable 2A"
   ]
  },
  {
   "cell_type": "code",
   "execution_count": 26,
   "id": "5dcea7e7-f5cb-4d35-ae4f-9ec41f9ffb92",
   "metadata": {},
   "outputs": [
    {
     "data": {
      "text/html": [
       "<div>\n",
       "<style scoped>\n",
       "    .dataframe tbody tr th:only-of-type {\n",
       "        vertical-align: middle;\n",
       "    }\n",
       "\n",
       "    .dataframe tbody tr th {\n",
       "        vertical-align: top;\n",
       "    }\n",
       "\n",
       "    .dataframe thead th {\n",
       "        text-align: right;\n",
       "    }\n",
       "</style>\n",
       "<table border=\"1\" class=\"dataframe\">\n",
       "  <thead>\n",
       "    <tr style=\"text-align: right;\">\n",
       "      <th></th>\n",
       "      <th>EOY16Qty</th>\n",
       "      <th>EOY16Value</th>\n",
       "    </tr>\n",
       "    <tr>\n",
       "      <th>Store</th>\n",
       "      <th></th>\n",
       "      <th></th>\n",
       "    </tr>\n",
       "  </thead>\n",
       "  <tbody>\n",
       "    <tr>\n",
       "      <th>50</th>\n",
       "      <td>260717</td>\n",
       "      <td>4887260.68</td>\n",
       "    </tr>\n",
       "    <tr>\n",
       "      <th>73</th>\n",
       "      <td>164589</td>\n",
       "      <td>3254662.81</td>\n",
       "    </tr>\n",
       "    <tr>\n",
       "      <th>67</th>\n",
       "      <td>163765</td>\n",
       "      <td>3076114.82</td>\n",
       "    </tr>\n",
       "    <tr>\n",
       "      <th>34</th>\n",
       "      <td>145829</td>\n",
       "      <td>3074616.75</td>\n",
       "    </tr>\n",
       "    <tr>\n",
       "      <th>76</th>\n",
       "      <td>143866</td>\n",
       "      <td>2975945.18</td>\n",
       "    </tr>\n",
       "    <tr>\n",
       "      <th>69</th>\n",
       "      <td>150848</td>\n",
       "      <td>2968678.82</td>\n",
       "    </tr>\n",
       "    <tr>\n",
       "      <th>66</th>\n",
       "      <td>144579</td>\n",
       "      <td>2860504.99</td>\n",
       "    </tr>\n",
       "    <tr>\n",
       "      <th>74</th>\n",
       "      <td>166015</td>\n",
       "      <td>2803645.13</td>\n",
       "    </tr>\n",
       "    <tr>\n",
       "      <th>38</th>\n",
       "      <td>129397</td>\n",
       "      <td>2463906.85</td>\n",
       "    </tr>\n",
       "    <tr>\n",
       "      <th>55</th>\n",
       "      <td>125584</td>\n",
       "      <td>2234836.35</td>\n",
       "    </tr>\n",
       "  </tbody>\n",
       "</table>\n",
       "</div>"
      ],
      "text/plain": [
       "       EOY16Qty  EOY16Value\n",
       "Store                      \n",
       "50       260717  4887260.68\n",
       "73       164589  3254662.81\n",
       "67       163765  3076114.82\n",
       "34       145829  3074616.75\n",
       "76       143866  2975945.18\n",
       "69       150848  2968678.82\n",
       "66       144579  2860504.99\n",
       "74       166015  2803645.13\n",
       "38       129397  2463906.85\n",
       "55       125584  2234836.35"
      ]
     },
     "execution_count": 26,
     "metadata": {},
     "output_type": "execute_result"
    }
   ],
   "source": [
    "endInv = pd.read_csv(\"EndInvFINAL12312016.csv\")\n",
    "endInv = endInv.rename(columns = {'onHand':'EOY16Qty'})\n",
    "endInv['EOY16Value'] = endInv['EOY16Qty'] * endInv['Price']\n",
    "endInv_Store = endInv[['Store','EOY16Qty','EOY16Value']].groupby('Store').sum()\n",
    "endInv_Store.sort_values(by='EOY16Qty',ascending=False).head(10)\n",
    "endInv_Store.sort_values(by='EOY16Value').tail(10).sort_values(by='EOY16Value', ascending = False)"
   ]
  },
  {
   "cell_type": "markdown",
   "id": "705bdced-1eb9-4fe4-ba81-7b29137a9328",
   "metadata": {},
   "source": [
    "# Deliverable 2B"
   ]
  },
  {
   "cell_type": "code",
   "execution_count": 25,
   "id": "a52d0efb-fba7-45fb-ba34-c867b6dddef1",
   "metadata": {},
   "outputs": [
    {
     "data": {
      "text/html": [
       "<div>\n",
       "<style scoped>\n",
       "    .dataframe tbody tr th:only-of-type {\n",
       "        vertical-align: middle;\n",
       "    }\n",
       "\n",
       "    .dataframe tbody tr th {\n",
       "        vertical-align: top;\n",
       "    }\n",
       "\n",
       "    .dataframe thead th {\n",
       "        text-align: right;\n",
       "    }\n",
       "</style>\n",
       "<table border=\"1\" class=\"dataframe\">\n",
       "  <thead>\n",
       "    <tr style=\"text-align: right;\">\n",
       "      <th></th>\n",
       "      <th>EOY16Qty</th>\n",
       "      <th>EOY16Value</th>\n",
       "    </tr>\n",
       "    <tr>\n",
       "      <th>Brand</th>\n",
       "      <th></th>\n",
       "      <th></th>\n",
       "    </tr>\n",
       "  </thead>\n",
       "  <tbody>\n",
       "    <tr>\n",
       "      <th>1233</th>\n",
       "      <td>15047</td>\n",
       "      <td>526494.53</td>\n",
       "    </tr>\n",
       "    <tr>\n",
       "      <th>3545</th>\n",
       "      <td>16770</td>\n",
       "      <td>502932.30</td>\n",
       "    </tr>\n",
       "    <tr>\n",
       "      <th>2753</th>\n",
       "      <td>7849</td>\n",
       "      <td>470861.51</td>\n",
       "    </tr>\n",
       "    <tr>\n",
       "      <th>8068</th>\n",
       "      <td>15608</td>\n",
       "      <td>366631.92</td>\n",
       "    </tr>\n",
       "    <tr>\n",
       "      <th>3405</th>\n",
       "      <td>12268</td>\n",
       "      <td>355649.32</td>\n",
       "    </tr>\n",
       "    <tr>\n",
       "      <th>4261</th>\n",
       "      <td>16769</td>\n",
       "      <td>351981.31</td>\n",
       "    </tr>\n",
       "    <tr>\n",
       "      <th>2757</th>\n",
       "      <td>11603</td>\n",
       "      <td>336370.97</td>\n",
       "    </tr>\n",
       "    <tr>\n",
       "      <th>2589</th>\n",
       "      <td>7922</td>\n",
       "      <td>300956.78</td>\n",
       "    </tr>\n",
       "    <tr>\n",
       "      <th>1376</th>\n",
       "      <td>13180</td>\n",
       "      <td>276648.20</td>\n",
       "    </tr>\n",
       "    <tr>\n",
       "      <th>2585</th>\n",
       "      <td>10487</td>\n",
       "      <td>272557.13</td>\n",
       "    </tr>\n",
       "  </tbody>\n",
       "</table>\n",
       "</div>"
      ],
      "text/plain": [
       "       EOY16Qty  EOY16Value\n",
       "Brand                      \n",
       "1233      15047   526494.53\n",
       "3545      16770   502932.30\n",
       "2753       7849   470861.51\n",
       "8068      15608   366631.92\n",
       "3405      12268   355649.32\n",
       "4261      16769   351981.31\n",
       "2757      11603   336370.97\n",
       "2589       7922   300956.78\n",
       "1376      13180   276648.20\n",
       "2585      10487   272557.13"
      ]
     },
     "execution_count": 25,
     "metadata": {},
     "output_type": "execute_result"
    }
   ],
   "source": [
    "endInv = pd.read_csv(\"EndInvFINAL12312016.csv\")\n",
    "endInv = endInv.rename(columns = {'onHand':'EOY16Qty'})\n",
    "endInv['EOY16Value'] = endInv['EOY16Qty'] * endInv['Price']\n",
    "endInv_Brand = endInv[['Brand','EOY16Qty','EOY16Value']].groupby('Brand').sum()\n",
    "endInv_Brand.sort_values(by='EOY16Value',ascending=False).head(10)\n",
    "endInv_Brand.sort_values(by='EOY16Value').tail(10).sort_values(by='EOY16Value', ascending = False)"
   ]
  },
  {
   "cell_type": "markdown",
   "id": "1c057230-0031-4a07-9e84-a2057ea9f746",
   "metadata": {},
   "source": [
    "# Deliverable 3"
   ]
  },
  {
   "cell_type": "code",
   "execution_count": 16,
   "id": "c1d15579-25bd-414a-a3f2-34521eebb6c7",
   "metadata": {},
   "outputs": [],
   "source": [
    "merge3 = pd.merge(left = begInv, right = endInv, how = 'outer', on = ['InventoryId'])"
   ]
  },
  {
   "cell_type": "code",
   "execution_count": 46,
   "id": "63014c72-a668-4b9b-9437-235c797267fe",
   "metadata": {},
   "outputs": [],
   "source": [
    "Inventory = merge3[[\"InventoryId\", \"01_01_2016_Qty_x\", \"InvCost01_01_2016_x\", \"01_01_2016_Qty_y\", \"InvCost01_01_2016_y\"]]"
   ]
  },
  {
   "cell_type": "code",
   "execution_count": 47,
   "id": "31cf8719-979f-4f70-985b-a584f1d3638e",
   "metadata": {},
   "outputs": [
    {
     "data": {
      "text/html": [
       "<div>\n",
       "<style scoped>\n",
       "    .dataframe tbody tr th:only-of-type {\n",
       "        vertical-align: middle;\n",
       "    }\n",
       "\n",
       "    .dataframe tbody tr th {\n",
       "        vertical-align: top;\n",
       "    }\n",
       "\n",
       "    .dataframe thead th {\n",
       "        text-align: right;\n",
       "    }\n",
       "</style>\n",
       "<table border=\"1\" class=\"dataframe\">\n",
       "  <thead>\n",
       "    <tr style=\"text-align: right;\">\n",
       "      <th></th>\n",
       "      <th>InventoryId</th>\n",
       "      <th>01_01_2016_Qty_x</th>\n",
       "      <th>InvCost01_01_2016_x</th>\n",
       "      <th>01_01_2016_Qty_y</th>\n",
       "      <th>InvCost01_01_2016_y</th>\n",
       "    </tr>\n",
       "  </thead>\n",
       "  <tbody>\n",
       "    <tr>\n",
       "      <th>0</th>\n",
       "      <td>1_HARDERSFIELD_58</td>\n",
       "      <td>8.0</td>\n",
       "      <td>103.92</td>\n",
       "      <td>11.0</td>\n",
       "      <td>142.89</td>\n",
       "    </tr>\n",
       "    <tr>\n",
       "      <th>1</th>\n",
       "      <td>1_HARDERSFIELD_60</td>\n",
       "      <td>7.0</td>\n",
       "      <td>76.93</td>\n",
       "      <td>NaN</td>\n",
       "      <td>NaN</td>\n",
       "    </tr>\n",
       "    <tr>\n",
       "      <th>2</th>\n",
       "      <td>1_HARDERSFIELD_62</td>\n",
       "      <td>6.0</td>\n",
       "      <td>221.94</td>\n",
       "      <td>7.0</td>\n",
       "      <td>258.93</td>\n",
       "    </tr>\n",
       "    <tr>\n",
       "      <th>3</th>\n",
       "      <td>1_HARDERSFIELD_63</td>\n",
       "      <td>3.0</td>\n",
       "      <td>116.97</td>\n",
       "      <td>7.0</td>\n",
       "      <td>272.93</td>\n",
       "    </tr>\n",
       "    <tr>\n",
       "      <th>4</th>\n",
       "      <td>1_HARDERSFIELD_72</td>\n",
       "      <td>6.0</td>\n",
       "      <td>209.94</td>\n",
       "      <td>4.0</td>\n",
       "      <td>139.96</td>\n",
       "    </tr>\n",
       "  </tbody>\n",
       "</table>\n",
       "</div>"
      ],
      "text/plain": [
       "         InventoryId  01_01_2016_Qty_x  InvCost01_01_2016_x  01_01_2016_Qty_y  \\\n",
       "0  1_HARDERSFIELD_58               8.0               103.92              11.0   \n",
       "1  1_HARDERSFIELD_60               7.0                76.93               NaN   \n",
       "2  1_HARDERSFIELD_62               6.0               221.94               7.0   \n",
       "3  1_HARDERSFIELD_63               3.0               116.97               7.0   \n",
       "4  1_HARDERSFIELD_72               6.0               209.94               4.0   \n",
       "\n",
       "   InvCost01_01_2016_y  \n",
       "0               142.89  \n",
       "1                  NaN  \n",
       "2               258.93  \n",
       "3               272.93  \n",
       "4               139.96  "
      ]
     },
     "execution_count": 47,
     "metadata": {},
     "output_type": "execute_result"
    }
   ],
   "source": [
    "Inventory.head()"
   ]
  },
  {
   "cell_type": "code",
   "execution_count": 48,
   "id": "12d60660-55b3-4299-8c58-c2ca1d32d21c",
   "metadata": {},
   "outputs": [
    {
     "data": {
      "text/plain": [
       "256042"
      ]
     },
     "execution_count": 48,
     "metadata": {},
     "output_type": "execute_result"
    }
   ],
   "source": [
    "len(Inventory)"
   ]
  },
  {
   "cell_type": "markdown",
   "id": "bd7f69ed-5392-49da-8ce5-f492b90d82a3",
   "metadata": {},
   "source": [
    "# Deliverable 4a"
   ]
  },
  {
   "cell_type": "code",
   "execution_count": 54,
   "id": "8fa83c23-f786-4be4-a049-28f015351925",
   "metadata": {},
   "outputs": [],
   "source": [
    "Invoices = pd.read_csv(\"InvoicePurchases12-31-16Sample.csv\")"
   ]
  },
  {
   "cell_type": "code",
   "execution_count": 55,
   "id": "0c830686-09b3-405a-9ddd-42509a16a678",
   "metadata": {},
   "outputs": [],
   "source": [
    "Purchases = pd.read_csv(\"PurchasesFINAL12-31-16Sample.csv\")"
   ]
  },
  {
   "cell_type": "code",
   "execution_count": 65,
   "id": "4191e871-1130-452c-a3af-9a028e347fcd",
   "metadata": {},
   "outputs": [],
   "source": [
    "vendor_dollars = Purchases.groupby('VendorName')['Dollars'].sum()"
   ]
  },
  {
   "cell_type": "code",
   "execution_count": 66,
   "id": "1f1a4be1-741d-405a-aed9-d6cbec947430",
   "metadata": {},
   "outputs": [],
   "source": [
    "top_vendors = vendor_dollars.sort_values(ascending=False)"
   ]
  },
  {
   "cell_type": "code",
   "execution_count": 67,
   "id": "84e59bc9-d890-4314-a56d-fed4b70bc209",
   "metadata": {},
   "outputs": [
    {
     "data": {
      "text/plain": [
       "VendorName\n",
       "DIAGEO NORTH AMERICA INC       21315299.75\n",
       "MARTIGNETTI COMPANIES          11709222.19\n",
       "JIM BEAM BRANDS COMPANY        10232521.65\n",
       "PERNOD RICARD USA              10224899.93\n",
       "BACARDI USA INC                 7420630.63\n",
       "CONSTELLATION BRANDS INC        6584032.72\n",
       "BROWN-FORMAN CORP               5719375.62\n",
       "ULTRA BEVERAGE COMPANY LLP      5545766.29\n",
       "E & J GALLO WINERY              5177067.61\n",
       "M S WALKER INC                  4647908.17\n",
       "Name: Dollars, dtype: float64"
      ]
     },
     "execution_count": 67,
     "metadata": {},
     "output_type": "execute_result"
    }
   ],
   "source": [
    "top_vendors.head(10)"
   ]
  },
  {
   "cell_type": "markdown",
   "id": "88c6060f-1c0f-4f6e-96f4-36c37d82db67",
   "metadata": {},
   "source": [
    "# Deliverable 4b"
   ]
  },
  {
   "cell_type": "code",
   "execution_count": 75,
   "id": "f15b2e8c-483a-4c49-8b97-bc2e44177699",
   "metadata": {},
   "outputs": [],
   "source": [
    "vendor_freight = Invoices.groupby('VendorName')['Freight'].sum()"
   ]
  },
  {
   "cell_type": "code",
   "execution_count": 76,
   "id": "ea8cbe2a-b377-4305-95c9-56b7b04db9b6",
   "metadata": {},
   "outputs": [],
   "source": [
    "top_vendors_freight = vendor_freight.sort_values(ascending=False)"
   ]
  },
  {
   "cell_type": "code",
   "execution_count": 77,
   "id": "bc03f426-d0bf-4f9b-b61f-52fb66593725",
   "metadata": {},
   "outputs": [
    {
     "data": {
      "text/plain": [
       "VendorName\n",
       "DIAGEO NORTH AMERICA INC       257032.07\n",
       "MARTIGNETTI COMPANIES          144719.92\n",
       "JIM BEAM BRANDS COMPANY        123880.97\n",
       "PERNOD RICARD USA              123780.22\n",
       "BACARDI USA INC                 89286.27\n",
       "CONSTELLATION BRANDS INC        79528.99\n",
       "BROWN-FORMAN CORP               68601.68\n",
       "ULTRA BEVERAGE COMPANY LLP      68054.70\n",
       "E & J GALLO WINERY              61966.91\n",
       "M S WALKER INC                  55551.82\n",
       "Name: Freight, dtype: float64"
      ]
     },
     "execution_count": 77,
     "metadata": {},
     "output_type": "execute_result"
    }
   ],
   "source": [
    "top_vendors_freight.head(10)"
   ]
  },
  {
   "cell_type": "markdown",
   "id": "c25b98f3-8720-4d87-ac26-18d22cac3d9b",
   "metadata": {},
   "source": [
    "# Deliverable 4c"
   ]
  },
  {
   "cell_type": "code",
   "execution_count": 79,
   "id": "ae9345e1-39aa-430e-992e-2a5fa9762cb2",
   "metadata": {},
   "outputs": [],
   "source": [
    "VendorInfo = Invoices.groupby('VendorName').agg({'Dollars': 'sum', 'Freight': 'sum'})"
   ]
  },
  {
   "cell_type": "code",
   "execution_count": 83,
   "id": "5cad67a1-240f-47eb-9b3b-cc4c794c13a0",
   "metadata": {},
   "outputs": [],
   "source": [
    "VendorInfo = VendorInfo[VendorInfo['Dollars'] >= 250000]"
   ]
  },
  {
   "cell_type": "code",
   "execution_count": 87,
   "id": "61eadf77-5f4a-407c-8dfe-b0f673701d10",
   "metadata": {},
   "outputs": [],
   "source": [
    "Freight_per_dollar = VendorInfo['Freight'] / VendorInfo['Dollars']"
   ]
  },
  {
   "cell_type": "code",
   "execution_count": 88,
   "id": "12a44e71-a81d-4b0a-8b9f-0ea40ec52247",
   "metadata": {},
   "outputs": [],
   "source": [
    "sorted_vendors = VendorInfo.sort_values(by='Freight_per_dollar', ascending=False)"
   ]
  },
  {
   "cell_type": "code",
   "execution_count": 89,
   "id": "8b174ff8-086f-45d9-933a-c44a46b4233e",
   "metadata": {},
   "outputs": [
    {
     "data": {
      "text/html": [
       "<div>\n",
       "<style scoped>\n",
       "    .dataframe tbody tr th:only-of-type {\n",
       "        vertical-align: middle;\n",
       "    }\n",
       "\n",
       "    .dataframe tbody tr th {\n",
       "        vertical-align: top;\n",
       "    }\n",
       "\n",
       "    .dataframe thead th {\n",
       "        text-align: right;\n",
       "    }\n",
       "</style>\n",
       "<table border=\"1\" class=\"dataframe\">\n",
       "  <thead>\n",
       "    <tr style=\"text-align: right;\">\n",
       "      <th></th>\n",
       "      <th>Dollars</th>\n",
       "      <th>Freight</th>\n",
       "      <th>Freight_per_dollar</th>\n",
       "      <th>Freight/Dollar</th>\n",
       "    </tr>\n",
       "    <tr>\n",
       "      <th>VendorName</th>\n",
       "      <th></th>\n",
       "      <th></th>\n",
       "      <th></th>\n",
       "      <th></th>\n",
       "    </tr>\n",
       "  </thead>\n",
       "  <tbody>\n",
       "    <tr>\n",
       "      <th>WESTERN SPIRITS BEVERAGE CO</th>\n",
       "      <td>361249.21</td>\n",
       "      <td>1933.19</td>\n",
       "      <td>0.005351</td>\n",
       "      <td>0.005351</td>\n",
       "    </tr>\n",
       "    <tr>\n",
       "      <th>DIAGEO CHATEAU ESTATE WINES</th>\n",
       "      <td>1365472.83</td>\n",
       "      <td>7259.75</td>\n",
       "      <td>0.005317</td>\n",
       "      <td>0.005317</td>\n",
       "    </tr>\n",
       "    <tr>\n",
       "      <th>FREDERICK WILDMAN &amp; SONS</th>\n",
       "      <td>759449.24</td>\n",
       "      <td>3999.93</td>\n",
       "      <td>0.005267</td>\n",
       "      <td>0.005267</td>\n",
       "    </tr>\n",
       "    <tr>\n",
       "      <th>STATE WINE &amp; SPIRITS</th>\n",
       "      <td>1529682.04</td>\n",
       "      <td>8014.98</td>\n",
       "      <td>0.005240</td>\n",
       "      <td>0.005240</td>\n",
       "    </tr>\n",
       "    <tr>\n",
       "      <th>FLAG HILL WINERY &amp; VINEYARD</th>\n",
       "      <td>300403.20</td>\n",
       "      <td>1573.31</td>\n",
       "      <td>0.005237</td>\n",
       "      <td>0.005237</td>\n",
       "    </tr>\n",
       "    <tr>\n",
       "      <th>BANFI PRODUCTS CORP</th>\n",
       "      <td>1628866.68</td>\n",
       "      <td>8510.41</td>\n",
       "      <td>0.005225</td>\n",
       "      <td>0.005225</td>\n",
       "    </tr>\n",
       "    <tr>\n",
       "      <th>MARTIGNETTI COMPANIES</th>\n",
       "      <td>27821473.91</td>\n",
       "      <td>144719.92</td>\n",
       "      <td>0.005202</td>\n",
       "      <td>0.005202</td>\n",
       "    </tr>\n",
       "    <tr>\n",
       "      <th>STE MICHELLE WINE ESTATES</th>\n",
       "      <td>3086650.70</td>\n",
       "      <td>15919.70</td>\n",
       "      <td>0.005158</td>\n",
       "      <td>0.005158</td>\n",
       "    </tr>\n",
       "    <tr>\n",
       "      <th>WINE GROUP INC</th>\n",
       "      <td>5258636.79</td>\n",
       "      <td>27100.41</td>\n",
       "      <td>0.005154</td>\n",
       "      <td>0.005154</td>\n",
       "    </tr>\n",
       "    <tr>\n",
       "      <th>ULTRA BEVERAGE COMPANY LLP</th>\n",
       "      <td>13210613.93</td>\n",
       "      <td>68054.70</td>\n",
       "      <td>0.005152</td>\n",
       "      <td>0.005152</td>\n",
       "    </tr>\n",
       "  </tbody>\n",
       "</table>\n",
       "</div>"
      ],
      "text/plain": [
       "                                 Dollars    Freight  Freight_per_dollar  \\\n",
       "VendorName                                                                \n",
       "WESTERN SPIRITS BEVERAGE CO    361249.21    1933.19            0.005351   \n",
       "DIAGEO CHATEAU ESTATE WINES   1365472.83    7259.75            0.005317   \n",
       "FREDERICK WILDMAN & SONS       759449.24    3999.93            0.005267   \n",
       "STATE WINE & SPIRITS          1529682.04    8014.98            0.005240   \n",
       "FLAG HILL WINERY & VINEYARD    300403.20    1573.31            0.005237   \n",
       "BANFI PRODUCTS CORP           1628866.68    8510.41            0.005225   \n",
       "MARTIGNETTI COMPANIES        27821473.91  144719.92            0.005202   \n",
       "STE MICHELLE WINE ESTATES     3086650.70   15919.70            0.005158   \n",
       "WINE GROUP INC                5258636.79   27100.41            0.005154   \n",
       "ULTRA BEVERAGE COMPANY LLP   13210613.93   68054.70            0.005152   \n",
       "\n",
       "                             Freight/Dollar  \n",
       "VendorName                                   \n",
       "WESTERN SPIRITS BEVERAGE CO        0.005351  \n",
       "DIAGEO CHATEAU ESTATE WINES        0.005317  \n",
       "FREDERICK WILDMAN & SONS           0.005267  \n",
       "STATE WINE & SPIRITS               0.005240  \n",
       "FLAG HILL WINERY & VINEYARD        0.005237  \n",
       "BANFI PRODUCTS CORP                0.005225  \n",
       "MARTIGNETTI COMPANIES              0.005202  \n",
       "STE MICHELLE WINE ESTATES          0.005158  \n",
       "WINE GROUP INC                     0.005154  \n",
       "ULTRA BEVERAGE COMPANY LLP         0.005152  "
      ]
     },
     "execution_count": 89,
     "metadata": {},
     "output_type": "execute_result"
    }
   ],
   "source": [
    "sorted_vendors.head(10)"
   ]
  },
  {
   "cell_type": "markdown",
   "id": "b4ee1727-fff4-4749-9fb0-50eeaf072ed9",
   "metadata": {},
   "source": [
    "# Deliverable 4d"
   ]
  },
  {
   "cell_type": "code",
   "execution_count": 121,
   "id": "33e7849c-ca1d-4de0-960f-fe961aa2b82b",
   "metadata": {},
   "outputs": [],
   "source": [
    "transactions = Invoices[(Invoices['Freight'] > 100) & (Invoices['Quantity'] <= 1000)]"
   ]
  },
  {
   "cell_type": "code",
   "execution_count": 124,
   "id": "47fe69d8-a1ca-4346-a88c-649ccf5ce3f1",
   "metadata": {},
   "outputs": [
    {
     "data": {
      "text/html": [
       "<div>\n",
       "<style scoped>\n",
       "    .dataframe tbody tr th:only-of-type {\n",
       "        vertical-align: middle;\n",
       "    }\n",
       "\n",
       "    .dataframe tbody tr th {\n",
       "        vertical-align: top;\n",
       "    }\n",
       "\n",
       "    .dataframe thead th {\n",
       "        text-align: right;\n",
       "    }\n",
       "</style>\n",
       "<table border=\"1\" class=\"dataframe\">\n",
       "  <thead>\n",
       "    <tr style=\"text-align: right;\">\n",
       "      <th></th>\n",
       "      <th>VendorNumber</th>\n",
       "      <th>VendorName</th>\n",
       "      <th>InvoiceDate</th>\n",
       "      <th>PONumber</th>\n",
       "      <th>PODate</th>\n",
       "      <th>PayDate</th>\n",
       "      <th>Quantity</th>\n",
       "      <th>Dollars</th>\n",
       "      <th>Freight</th>\n",
       "      <th>Approval</th>\n",
       "    </tr>\n",
       "  </thead>\n",
       "  <tbody>\n",
       "    <tr>\n",
       "      <th>11</th>\n",
       "      <td>1485</td>\n",
       "      <td>CASTLE BRANDS CORP.</td>\n",
       "      <td>2016-01-08</td>\n",
       "      <td>8152</td>\n",
       "      <td>2015-12-23</td>\n",
       "      <td>2016-02-19</td>\n",
       "      <td>320</td>\n",
       "      <td>5420.41</td>\n",
       "      <td>179.26</td>\n",
       "      <td>NaN</td>\n",
       "    </tr>\n",
       "    <tr>\n",
       "      <th>16</th>\n",
       "      <td>2242</td>\n",
       "      <td>DELICATO VINEYARDS INC</td>\n",
       "      <td>2016-01-06</td>\n",
       "      <td>8139</td>\n",
       "      <td>2015-12-22</td>\n",
       "      <td>2016-02-10</td>\n",
       "      <td>808</td>\n",
       "      <td>6646.46</td>\n",
       "      <td>127.05</td>\n",
       "      <td>NaN</td>\n",
       "    </tr>\n",
       "    <tr>\n",
       "      <th>19</th>\n",
       "      <td>2555</td>\n",
       "      <td>DISARONNO INTERNATIONAL LLC</td>\n",
       "      <td>2016-01-11</td>\n",
       "      <td>8192</td>\n",
       "      <td>2015-12-25</td>\n",
       "      <td>2016-02-17</td>\n",
       "      <td>385</td>\n",
       "      <td>3506.41</td>\n",
       "      <td>146.86</td>\n",
       "      <td>NaN</td>\n",
       "    </tr>\n",
       "    <tr>\n",
       "      <th>23</th>\n",
       "      <td>2561</td>\n",
       "      <td>EDRINGTON AMERICAS</td>\n",
       "      <td>2016-01-08</td>\n",
       "      <td>8175</td>\n",
       "      <td>2015-12-24</td>\n",
       "      <td>2016-02-10</td>\n",
       "      <td>136</td>\n",
       "      <td>5645.24</td>\n",
       "      <td>218.18</td>\n",
       "      <td>NaN</td>\n",
       "    </tr>\n",
       "    <tr>\n",
       "      <th>28</th>\n",
       "      <td>3924</td>\n",
       "      <td>HEAVEN HILL DISTILLERIES</td>\n",
       "      <td>2016-01-08</td>\n",
       "      <td>8155</td>\n",
       "      <td>2015-12-23</td>\n",
       "      <td>2016-02-15</td>\n",
       "      <td>818</td>\n",
       "      <td>7079.02</td>\n",
       "      <td>200.02</td>\n",
       "      <td>NaN</td>\n",
       "    </tr>\n",
       "  </tbody>\n",
       "</table>\n",
       "</div>"
      ],
      "text/plain": [
       "    VendorNumber                   VendorName InvoiceDate  PONumber  \\\n",
       "11          1485  CASTLE BRANDS CORP.          2016-01-08      8152   \n",
       "16          2242  DELICATO VINEYARDS INC       2016-01-06      8139   \n",
       "19          2555  DISARONNO INTERNATIONAL LLC  2016-01-11      8192   \n",
       "23          2561  EDRINGTON AMERICAS           2016-01-08      8175   \n",
       "28          3924  HEAVEN HILL DISTILLERIES     2016-01-08      8155   \n",
       "\n",
       "        PODate     PayDate  Quantity  Dollars  Freight Approval  \n",
       "11  2015-12-23  2016-02-19       320  5420.41   179.26      NaN  \n",
       "16  2015-12-22  2016-02-10       808  6646.46   127.05      NaN  \n",
       "19  2015-12-25  2016-02-17       385  3506.41   146.86      NaN  \n",
       "23  2015-12-24  2016-02-10       136  5645.24   218.18      NaN  \n",
       "28  2015-12-23  2016-02-15       818  7079.02   200.02      NaN  "
      ]
     },
     "execution_count": 124,
     "metadata": {},
     "output_type": "execute_result"
    }
   ],
   "source": [
    "Invoices[(Invoices['Freight'] > 100) & (Invoices['Quantity'] <= 1000)].head()"
   ]
  },
  {
   "cell_type": "code",
   "execution_count": 136,
   "id": "1261c707-0060-4be2-acef-28c64714f22c",
   "metadata": {},
   "outputs": [
    {
     "data": {
      "text/html": [
       "<div>\n",
       "<style scoped>\n",
       "    .dataframe tbody tr th:only-of-type {\n",
       "        vertical-align: middle;\n",
       "    }\n",
       "\n",
       "    .dataframe tbody tr th {\n",
       "        vertical-align: top;\n",
       "    }\n",
       "\n",
       "    .dataframe thead th {\n",
       "        text-align: right;\n",
       "    }\n",
       "</style>\n",
       "<table border=\"1\" class=\"dataframe\">\n",
       "  <thead>\n",
       "    <tr style=\"text-align: right;\">\n",
       "      <th></th>\n",
       "      <th>Freight</th>\n",
       "      <th>Quantity</th>\n",
       "    </tr>\n",
       "    <tr>\n",
       "      <th>VendorName</th>\n",
       "      <th></th>\n",
       "      <th></th>\n",
       "    </tr>\n",
       "  </thead>\n",
       "  <tbody>\n",
       "    <tr>\n",
       "      <th>CALEDONIA SPIRITS INC</th>\n",
       "      <td>109.80</td>\n",
       "      <td>576</td>\n",
       "    </tr>\n",
       "    <tr>\n",
       "      <th>CASTLE BRANDS CORP.</th>\n",
       "      <td>179.26</td>\n",
       "      <td>320</td>\n",
       "    </tr>\n",
       "    <tr>\n",
       "      <th>DELICATO VINEYARDS INC</th>\n",
       "      <td>127.05</td>\n",
       "      <td>808</td>\n",
       "    </tr>\n",
       "    <tr>\n",
       "      <th>DISARONNO INTERNATIONAL LLC</th>\n",
       "      <td>146.86</td>\n",
       "      <td>385</td>\n",
       "    </tr>\n",
       "    <tr>\n",
       "      <th>EDRINGTON AMERICAS</th>\n",
       "      <td>2944.67</td>\n",
       "      <td>18120</td>\n",
       "    </tr>\n",
       "    <tr>\n",
       "      <th>HEAVEN HILL DISTILLERIES</th>\n",
       "      <td>200.02</td>\n",
       "      <td>818</td>\n",
       "    </tr>\n",
       "    <tr>\n",
       "      <th>KOBRAND CORPORATION</th>\n",
       "      <td>185.93</td>\n",
       "      <td>427</td>\n",
       "    </tr>\n",
       "    <tr>\n",
       "      <th>LAIRD &amp; CO</th>\n",
       "      <td>100.37</td>\n",
       "      <td>982</td>\n",
       "    </tr>\n",
       "    <tr>\n",
       "      <th>LUXCO INC</th>\n",
       "      <td>196.61</td>\n",
       "      <td>819</td>\n",
       "    </tr>\n",
       "    <tr>\n",
       "      <th>MAJESTIC FINE WINES</th>\n",
       "      <td>218.05</td>\n",
       "      <td>875</td>\n",
       "    </tr>\n",
       "    <tr>\n",
       "      <th>MHW LTD</th>\n",
       "      <td>177.50</td>\n",
       "      <td>412</td>\n",
       "    </tr>\n",
       "    <tr>\n",
       "      <th>PALM BAY INTERNATIONAL INC</th>\n",
       "      <td>242.73</td>\n",
       "      <td>715</td>\n",
       "    </tr>\n",
       "    <tr>\n",
       "      <th>REMY COINTREAU USA INC</th>\n",
       "      <td>348.07</td>\n",
       "      <td>382</td>\n",
       "    </tr>\n",
       "    <tr>\n",
       "      <th>SIDNEY FRANK IMPORTING CO</th>\n",
       "      <td>133.83</td>\n",
       "      <td>379</td>\n",
       "    </tr>\n",
       "    <tr>\n",
       "      <th>STATE WINE &amp; SPIRITS</th>\n",
       "      <td>303.70</td>\n",
       "      <td>541</td>\n",
       "    </tr>\n",
       "    <tr>\n",
       "      <th>STOLI GROUP,(USA) LLC</th>\n",
       "      <td>349.02</td>\n",
       "      <td>975</td>\n",
       "    </tr>\n",
       "    <tr>\n",
       "      <th>Serralles Usa LLC</th>\n",
       "      <td>122.24</td>\n",
       "      <td>733</td>\n",
       "    </tr>\n",
       "    <tr>\n",
       "      <th>WESTERN SPIRITS BEVERAGE CO</th>\n",
       "      <td>169.46</td>\n",
       "      <td>795</td>\n",
       "    </tr>\n",
       "  </tbody>\n",
       "</table>\n",
       "</div>"
      ],
      "text/plain": [
       "                             Freight  Quantity\n",
       "VendorName                                    \n",
       "CALEDONIA SPIRITS INC         109.80       576\n",
       "CASTLE BRANDS CORP.           179.26       320\n",
       "DELICATO VINEYARDS INC        127.05       808\n",
       "DISARONNO INTERNATIONAL LLC   146.86       385\n",
       "EDRINGTON AMERICAS           2944.67     18120\n",
       "HEAVEN HILL DISTILLERIES      200.02       818\n",
       "KOBRAND CORPORATION           185.93       427\n",
       "LAIRD & CO                    100.37       982\n",
       "LUXCO INC                     196.61       819\n",
       "MAJESTIC FINE WINES           218.05       875\n",
       "MHW LTD                       177.50       412\n",
       "PALM BAY INTERNATIONAL INC    242.73       715\n",
       "REMY COINTREAU USA INC        348.07       382\n",
       "SIDNEY FRANK IMPORTING CO     133.83       379\n",
       "STATE WINE & SPIRITS          303.70       541\n",
       "STOLI GROUP,(USA) LLC         349.02       975\n",
       "Serralles Usa LLC             122.24       733\n",
       "WESTERN SPIRITS BEVERAGE CO   169.46       795"
      ]
     },
     "execution_count": 136,
     "metadata": {},
     "output_type": "execute_result"
    }
   ],
   "source": [
    "vendor_stats = transactions.groupby('VendorName').agg({'Freight': 'sum', 'Quantity': 'sum', 'Dollars': 'sum'})\n",
    "transactions.groupby('VendorName').agg({'Freight': 'sum', 'Quantity': 'sum'})"
   ]
  },
  {
   "cell_type": "code",
   "execution_count": 129,
   "id": "0947dcc3-6087-4260-abc0-feaa6c858ff8",
   "metadata": {},
   "outputs": [],
   "source": [
    "freight_quantity = transactions.groupby('VendorName')['Freight'].sum()\n"
   ]
  },
  {
   "cell_type": "code",
   "execution_count": 130,
   "id": "5cdbd844-d4d9-44d2-b706-4c82b2bb2236",
   "metadata": {},
   "outputs": [
    {
     "data": {
      "text/plain": [
       "VendorName\n",
       "EDRINGTON AMERICAS             2944.67\n",
       "Name: Freight, dtype: float64"
      ]
     },
     "execution_count": 130,
     "metadata": {},
     "output_type": "execute_result"
    }
   ],
   "source": [
    "freight_quantity[freight_quantity == freight_quantity.max()]"
   ]
  },
  {
   "cell_type": "markdown",
   "id": "4349b471-eecf-4de8-92d1-0f0f15ef5af9",
   "metadata": {},
   "source": [
    "## I am confused about my answer to this. It does not match the check figure. However, when I listed out the individual transactions, there were some from companies not in the check figure that fit the criteria. For example, Castle Brands Corp. had a freight of 179.26 and a Quantity of 320."
   ]
  },
  {
   "cell_type": "markdown",
   "id": "f9e1a8ee-b462-444d-a485-51639f212906",
   "metadata": {},
   "source": [
    "# Deliverable 4e"
   ]
  },
  {
   "cell_type": "code",
   "execution_count": 159,
   "id": "b591f06a-780a-4334-9d26-bb9f0ee10ca0",
   "metadata": {},
   "outputs": [],
   "source": [
    "fourE = freight_quantity['Freight_per_dollar'] = Invoices['Freight'] / Invoices['Dollars']\n",
    "fourE = freight_quantity['Freight_per_unit'] = Invoices['Freight'] / Invoices ['Quantity']"
   ]
  },
  {
   "cell_type": "code",
   "execution_count": 160,
   "id": "4a77fa85-87d6-4475-87de-7c101df7f851",
   "metadata": {},
   "outputs": [
    {
     "name": "stdout",
     "output_type": "stream",
     "text": [
      "0       0.578333\n",
      "1       0.571333\n",
      "2       0.922000\n",
      "3       0.290614\n",
      "4       0.221809\n",
      "          ...   \n",
      "5538    0.095556\n",
      "5539    0.040394\n",
      "5540    0.094735\n",
      "5541    0.033117\n",
      "5542    0.037986\n",
      "Length: 5543, dtype: float64\n"
     ]
    }
   ],
   "source": [
    "print(fourE)"
   ]
  },
  {
   "cell_type": "markdown",
   "id": "81ad4328-7f98-42da-95e5-2bd116fa558e",
   "metadata": {},
   "source": [
    "# Deliverable 5"
   ]
  },
  {
   "cell_type": "markdown",
   "id": "41c01b38-6f4a-4078-b2cc-7b7f229040bb",
   "metadata": {},
   "source": [
    "## Top 10 vendors by total sales"
   ]
  },
  {
   "cell_type": "code",
   "execution_count": 171,
   "id": "e66cabd1-1fc7-4a6c-8ba4-c28d65c06822",
   "metadata": {},
   "outputs": [],
   "source": [
    "vendor_total_sales = Invoices.groupby('VendorName')['Dollars'].sum()"
   ]
  },
  {
   "cell_type": "code",
   "execution_count": 177,
   "id": "dd991b7e-aa7e-4cee-9791-0c3d583f05a1",
   "metadata": {},
   "outputs": [],
   "source": [
    "top_10_vendor_total_sales = vendor_total_sales.sort_values(ascending=False)"
   ]
  },
  {
   "cell_type": "code",
   "execution_count": 178,
   "id": "8b90cde6-0681-4e08-8427-3137c5160b47",
   "metadata": {},
   "outputs": [
    {
     "data": {
      "text/plain": [
       "VendorName\n",
       "DIAGEO NORTH AMERICA INC       50959796.85\n",
       "MARTIGNETTI COMPANIES          27821473.91\n",
       "JIM BEAM BRANDS COMPANY        24203151.05\n",
       "PERNOD RICARD USA              24124091.56\n",
       "BACARDI USA INC                17624378.72\n",
       "CONSTELLATION BRANDS INC       15573917.90\n",
       "BROWN-FORMAN CORP              13529433.08\n",
       "ULTRA BEVERAGE COMPANY LLP     13210613.93\n",
       "E & J GALLO WINERY             12289608.09\n",
       "M S WALKER INC                 10935817.30\n",
       "Name: Dollars, dtype: float64"
      ]
     },
     "execution_count": 178,
     "metadata": {},
     "output_type": "execute_result"
    }
   ],
   "source": [
    "top_10_vendor_total_sales.head(10)"
   ]
  },
  {
   "cell_type": "code",
   "execution_count": null,
   "id": "7c8b76bd-3dec-46c5-a460-4629863f4338",
   "metadata": {},
   "outputs": [],
   "source": []
  }
 ],
 "metadata": {
  "kernelspec": {
   "display_name": "Python 3 (ipykernel)",
   "language": "python",
   "name": "python3"
  },
  "language_info": {
   "codemirror_mode": {
    "name": "ipython",
    "version": 3
   },
   "file_extension": ".py",
   "mimetype": "text/x-python",
   "name": "python",
   "nbconvert_exporter": "python",
   "pygments_lexer": "ipython3",
   "version": "3.11.7"
  }
 },
 "nbformat": 4,
 "nbformat_minor": 5
}
