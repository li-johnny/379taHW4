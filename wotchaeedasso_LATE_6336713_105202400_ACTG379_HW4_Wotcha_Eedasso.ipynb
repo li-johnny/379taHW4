{
 "cells": [
  {
   "cell_type": "code",
   "execution_count": 16,
   "id": "a9f55f12",
   "metadata": {},
   "outputs": [],
   "source": [
    "import pandas as pd"
   ]
  },
  {
   "cell_type": "markdown",
   "id": "945ccbf3",
   "metadata": {},
   "source": [
    "## Deliberable 1A"
   ]
  },
  {
   "cell_type": "code",
   "execution_count": 17,
   "id": "75641d5b",
   "metadata": {},
   "outputs": [],
   "source": [
    "begInv = pd.read_csv(\"BegInvFINAL12-31-16Sample.csv\")"
   ]
  },
  {
   "cell_type": "code",
   "execution_count": 18,
   "id": "8db55f4f",
   "metadata": {},
   "outputs": [],
   "source": [
    "begInv = begInv.rename(columns = {'onHand' : '01_01_2016_Qty'})"
   ]
  },
  {
   "cell_type": "code",
   "execution_count": 19,
   "id": "a70521a2",
   "metadata": {},
   "outputs": [],
   "source": [
    "begInv['InvCost_01_01_2016'] = begInv['01_01_2016_Qty'] * begInv['Price']"
   ]
  },
  {
   "cell_type": "code",
   "execution_count": 20,
   "id": "35be0e24",
   "metadata": {
    "scrolled": true
   },
   "outputs": [
    {
     "data": {
      "text/html": [
       "<div>\n",
       "<style scoped>\n",
       "    .dataframe tbody tr th:only-of-type {\n",
       "        vertical-align: middle;\n",
       "    }\n",
       "\n",
       "    .dataframe tbody tr th {\n",
       "        vertical-align: top;\n",
       "    }\n",
       "\n",
       "    .dataframe thead th {\n",
       "        text-align: right;\n",
       "    }\n",
       "</style>\n",
       "<table border=\"1\" class=\"dataframe\">\n",
       "  <thead>\n",
       "    <tr style=\"text-align: right;\">\n",
       "      <th></th>\n",
       "      <th>InventoryId</th>\n",
       "      <th>Store</th>\n",
       "      <th>City</th>\n",
       "      <th>Brand</th>\n",
       "      <th>Description</th>\n",
       "      <th>Size</th>\n",
       "      <th>01_01_2016_Qty</th>\n",
       "      <th>Price</th>\n",
       "      <th>startDate</th>\n",
       "      <th>InvCost_01_01_2016</th>\n",
       "    </tr>\n",
       "  </thead>\n",
       "  <tbody>\n",
       "    <tr>\n",
       "      <th>0</th>\n",
       "      <td>1_HARDERSFIELD_58</td>\n",
       "      <td>1</td>\n",
       "      <td>HARDERSFIELD</td>\n",
       "      <td>58</td>\n",
       "      <td>Gekkeikan Black &amp; Gold Sake</td>\n",
       "      <td>750mL</td>\n",
       "      <td>8</td>\n",
       "      <td>12.99</td>\n",
       "      <td>2016-01-01</td>\n",
       "      <td>103.92</td>\n",
       "    </tr>\n",
       "    <tr>\n",
       "      <th>1</th>\n",
       "      <td>1_HARDERSFIELD_60</td>\n",
       "      <td>1</td>\n",
       "      <td>HARDERSFIELD</td>\n",
       "      <td>60</td>\n",
       "      <td>Canadian Club 1858 VAP</td>\n",
       "      <td>750mL</td>\n",
       "      <td>7</td>\n",
       "      <td>10.99</td>\n",
       "      <td>2016-01-01</td>\n",
       "      <td>76.93</td>\n",
       "    </tr>\n",
       "  </tbody>\n",
       "</table>\n",
       "</div>"
      ],
      "text/plain": [
       "         InventoryId  Store          City  Brand                  Description  \\\n",
       "0  1_HARDERSFIELD_58      1  HARDERSFIELD     58  Gekkeikan Black & Gold Sake   \n",
       "1  1_HARDERSFIELD_60      1  HARDERSFIELD     60       Canadian Club 1858 VAP   \n",
       "\n",
       "    Size  01_01_2016_Qty  Price   startDate  InvCost_01_01_2016  \n",
       "0  750mL               8  12.99  2016-01-01              103.92  \n",
       "1  750mL               7  10.99  2016-01-01               76.93  "
      ]
     },
     "execution_count": 20,
     "metadata": {},
     "output_type": "execute_result"
    }
   ],
   "source": [
    "begInv.head(2)"
   ]
  },
  {
   "cell_type": "code",
   "execution_count": 22,
   "id": "a98dbfd4",
   "metadata": {},
   "outputs": [],
   "source": [
    "begInv_Store = begInv[['Store','01_01_2016_Qty','InvCost_01_01_2016']].groupby('Store').sum()"
   ]
  },
  {
   "cell_type": "code",
   "execution_count": 24,
   "id": "ad84b1e7",
   "metadata": {},
   "outputs": [
    {
     "data": {
      "text/html": [
       "<div>\n",
       "<style scoped>\n",
       "    .dataframe tbody tr th:only-of-type {\n",
       "        vertical-align: middle;\n",
       "    }\n",
       "\n",
       "    .dataframe tbody tr th {\n",
       "        vertical-align: top;\n",
       "    }\n",
       "\n",
       "    .dataframe thead th {\n",
       "        text-align: right;\n",
       "    }\n",
       "</style>\n",
       "<table border=\"1\" class=\"dataframe\">\n",
       "  <thead>\n",
       "    <tr style=\"text-align: right;\">\n",
       "      <th></th>\n",
       "      <th>01_01_2016_Qty</th>\n",
       "      <th>InvCost_01_01_2016</th>\n",
       "    </tr>\n",
       "    <tr>\n",
       "      <th>Store</th>\n",
       "      <th></th>\n",
       "      <th></th>\n",
       "    </tr>\n",
       "  </thead>\n",
       "  <tbody>\n",
       "    <tr>\n",
       "      <th>34</th>\n",
       "      <td>153852</td>\n",
       "      <td>3291170.24</td>\n",
       "    </tr>\n",
       "    <tr>\n",
       "      <th>73</th>\n",
       "      <td>162551</td>\n",
       "      <td>3142497.36</td>\n",
       "    </tr>\n",
       "    <tr>\n",
       "      <th>67</th>\n",
       "      <td>158996</td>\n",
       "      <td>3079578.63</td>\n",
       "    </tr>\n",
       "    <tr>\n",
       "      <th>66</th>\n",
       "      <td>149314</td>\n",
       "      <td>2973033.90</td>\n",
       "    </tr>\n",
       "    <tr>\n",
       "      <th>76</th>\n",
       "      <td>140208</td>\n",
       "      <td>2952418.44</td>\n",
       "    </tr>\n",
       "    <tr>\n",
       "      <th>69</th>\n",
       "      <td>144255</td>\n",
       "      <td>2946726.65</td>\n",
       "    </tr>\n",
       "    <tr>\n",
       "      <th>38</th>\n",
       "      <td>114368</td>\n",
       "      <td>2232698.77</td>\n",
       "    </tr>\n",
       "    <tr>\n",
       "      <th>55</th>\n",
       "      <td>119641</td>\n",
       "      <td>2001263.66</td>\n",
       "    </tr>\n",
       "    <tr>\n",
       "      <th>50</th>\n",
       "      <td>94720</td>\n",
       "      <td>1649808.22</td>\n",
       "    </tr>\n",
       "    <tr>\n",
       "      <th>79</th>\n",
       "      <td>95330</td>\n",
       "      <td>1503149.48</td>\n",
       "    </tr>\n",
       "  </tbody>\n",
       "</table>\n",
       "</div>"
      ],
      "text/plain": [
       "       01_01_2016_Qty  InvCost_01_01_2016\n",
       "Store                                    \n",
       "34             153852          3291170.24\n",
       "73             162551          3142497.36\n",
       "67             158996          3079578.63\n",
       "66             149314          2973033.90\n",
       "76             140208          2952418.44\n",
       "69             144255          2946726.65\n",
       "38             114368          2232698.77\n",
       "55             119641          2001263.66\n",
       "50              94720          1649808.22\n",
       "79              95330          1503149.48"
      ]
     },
     "execution_count": 24,
     "metadata": {},
     "output_type": "execute_result"
    }
   ],
   "source": [
    "begInv_Store.sort_values(by='InvCost_01_01_2016', ascending=False).head(10)"
   ]
  },
  {
   "cell_type": "markdown",
   "id": "6edccf80",
   "metadata": {},
   "source": [
    "## Deliverable 1B"
   ]
  },
  {
   "cell_type": "code",
   "execution_count": 30,
   "id": "a7f04af8",
   "metadata": {},
   "outputs": [],
   "source": [
    "begInv = pd.read_csv(\"BegInvFINAL12-31-16Sample.csv\")"
   ]
  },
  {
   "cell_type": "code",
   "execution_count": 31,
   "id": "7469517d",
   "metadata": {},
   "outputs": [],
   "source": [
    "begInv = begInv.rename(columns = {'onHand' : '01_01_2016_Qty'})"
   ]
  },
  {
   "cell_type": "code",
   "execution_count": 32,
   "id": "20a0da6c",
   "metadata": {},
   "outputs": [],
   "source": [
    "begInv['InvCost_01_01_2016'] = begInv['01_01_2016_Qty'] * begInv['Price']"
   ]
  },
  {
   "cell_type": "code",
   "execution_count": 34,
   "id": "6e0b28a5",
   "metadata": {},
   "outputs": [],
   "source": [
    "begInv_Brand = begInv[['Brand','01_01_2016_Qty','InvCost_01_01_2016']].groupby('Brand').sum()"
   ]
  },
  {
   "cell_type": "code",
   "execution_count": 35,
   "id": "886e2d92",
   "metadata": {},
   "outputs": [
    {
     "data": {
      "text/html": [
       "<div>\n",
       "<style scoped>\n",
       "    .dataframe tbody tr th:only-of-type {\n",
       "        vertical-align: middle;\n",
       "    }\n",
       "\n",
       "    .dataframe tbody tr th {\n",
       "        vertical-align: top;\n",
       "    }\n",
       "\n",
       "    .dataframe thead th {\n",
       "        text-align: right;\n",
       "    }\n",
       "</style>\n",
       "<table border=\"1\" class=\"dataframe\">\n",
       "  <thead>\n",
       "    <tr style=\"text-align: right;\">\n",
       "      <th></th>\n",
       "      <th>01_01_2016_Qty</th>\n",
       "      <th>InvCost_01_01_2016</th>\n",
       "    </tr>\n",
       "    <tr>\n",
       "      <th>Brand</th>\n",
       "      <th></th>\n",
       "      <th></th>\n",
       "    </tr>\n",
       "  </thead>\n",
       "  <tbody>\n",
       "    <tr>\n",
       "      <th>3545</th>\n",
       "      <td>14499</td>\n",
       "      <td>463823.01</td>\n",
       "    </tr>\n",
       "    <tr>\n",
       "      <th>1233</th>\n",
       "      <td>12016</td>\n",
       "      <td>432455.84</td>\n",
       "    </tr>\n",
       "    <tr>\n",
       "      <th>8068</th>\n",
       "      <td>15341</td>\n",
       "      <td>383371.59</td>\n",
       "    </tr>\n",
       "    <tr>\n",
       "      <th>4261</th>\n",
       "      <td>15499</td>\n",
       "      <td>340823.01</td>\n",
       "    </tr>\n",
       "    <tr>\n",
       "      <th>3858</th>\n",
       "      <td>13649</td>\n",
       "      <td>327439.51</td>\n",
       "    </tr>\n",
       "    <tr>\n",
       "      <th>2753</th>\n",
       "      <td>4625</td>\n",
       "      <td>286703.75</td>\n",
       "    </tr>\n",
       "    <tr>\n",
       "      <th>8082</th>\n",
       "      <td>9287</td>\n",
       "      <td>278517.13</td>\n",
       "    </tr>\n",
       "    <tr>\n",
       "      <th>8680</th>\n",
       "      <td>7066</td>\n",
       "      <td>275503.34</td>\n",
       "    </tr>\n",
       "    <tr>\n",
       "      <th>2589</th>\n",
       "      <td>6766</td>\n",
       "      <td>270572.34</td>\n",
       "    </tr>\n",
       "    <tr>\n",
       "      <th>3876</th>\n",
       "      <td>14829</td>\n",
       "      <td>266773.71</td>\n",
       "    </tr>\n",
       "  </tbody>\n",
       "</table>\n",
       "</div>"
      ],
      "text/plain": [
       "       01_01_2016_Qty  InvCost_01_01_2016\n",
       "Brand                                    \n",
       "3545            14499           463823.01\n",
       "1233            12016           432455.84\n",
       "8068            15341           383371.59\n",
       "4261            15499           340823.01\n",
       "3858            13649           327439.51\n",
       "2753             4625           286703.75\n",
       "8082             9287           278517.13\n",
       "8680             7066           275503.34\n",
       "2589             6766           270572.34\n",
       "3876            14829           266773.71"
      ]
     },
     "execution_count": 35,
     "metadata": {},
     "output_type": "execute_result"
    }
   ],
   "source": [
    "begInv_Brand.sort_values(by='InvCost_01_01_2016',ascending=False).head(10)"
   ]
  },
  {
   "cell_type": "markdown",
   "id": "c2e97100",
   "metadata": {},
   "source": [
    "## Delierable 2A"
   ]
  },
  {
   "cell_type": "code",
   "execution_count": 37,
   "id": "f91c7661",
   "metadata": {},
   "outputs": [],
   "source": [
    "endInv = pd.read_csv(\"EndInvFINAL12-31-16Sample.csv\")"
   ]
  },
  {
   "cell_type": "code",
   "execution_count": 38,
   "id": "0dfd0fa7",
   "metadata": {},
   "outputs": [],
   "source": [
    "endInv = endInv.rename(columns = {'onHand':'12_31_2016_Qty'})"
   ]
  },
  {
   "cell_type": "code",
   "execution_count": 39,
   "id": "19a13aca",
   "metadata": {},
   "outputs": [],
   "source": [
    "endInv['InvCost12_31_2016'] = endInv['12_31_2016_Qty'] * endInv['Price']"
   ]
  },
  {
   "cell_type": "code",
   "execution_count": 41,
   "id": "a418ff66",
   "metadata": {},
   "outputs": [],
   "source": [
    "endInv_Store = endInv[['Store','12_31_2016_Qty', 'InvCost12_31_2016']].groupby('Store').sum()"
   ]
  },
  {
   "cell_type": "code",
   "execution_count": 42,
   "id": "9de155bb",
   "metadata": {},
   "outputs": [
    {
     "data": {
      "text/html": [
       "<div>\n",
       "<style scoped>\n",
       "    .dataframe tbody tr th:only-of-type {\n",
       "        vertical-align: middle;\n",
       "    }\n",
       "\n",
       "    .dataframe tbody tr th {\n",
       "        vertical-align: top;\n",
       "    }\n",
       "\n",
       "    .dataframe thead th {\n",
       "        text-align: right;\n",
       "    }\n",
       "</style>\n",
       "<table border=\"1\" class=\"dataframe\">\n",
       "  <thead>\n",
       "    <tr style=\"text-align: right;\">\n",
       "      <th></th>\n",
       "      <th>12_31_2016_Qty</th>\n",
       "      <th>InvCost12_31_2016</th>\n",
       "    </tr>\n",
       "    <tr>\n",
       "      <th>Store</th>\n",
       "      <th></th>\n",
       "      <th></th>\n",
       "    </tr>\n",
       "  </thead>\n",
       "  <tbody>\n",
       "    <tr>\n",
       "      <th>50</th>\n",
       "      <td>260717</td>\n",
       "      <td>4887260.68</td>\n",
       "    </tr>\n",
       "    <tr>\n",
       "      <th>73</th>\n",
       "      <td>164589</td>\n",
       "      <td>3254662.81</td>\n",
       "    </tr>\n",
       "    <tr>\n",
       "      <th>67</th>\n",
       "      <td>163765</td>\n",
       "      <td>3076114.82</td>\n",
       "    </tr>\n",
       "    <tr>\n",
       "      <th>34</th>\n",
       "      <td>145829</td>\n",
       "      <td>3074616.75</td>\n",
       "    </tr>\n",
       "    <tr>\n",
       "      <th>76</th>\n",
       "      <td>143866</td>\n",
       "      <td>2975945.18</td>\n",
       "    </tr>\n",
       "    <tr>\n",
       "      <th>69</th>\n",
       "      <td>150848</td>\n",
       "      <td>2968678.82</td>\n",
       "    </tr>\n",
       "    <tr>\n",
       "      <th>66</th>\n",
       "      <td>144579</td>\n",
       "      <td>2860504.99</td>\n",
       "    </tr>\n",
       "    <tr>\n",
       "      <th>74</th>\n",
       "      <td>166015</td>\n",
       "      <td>2803645.13</td>\n",
       "    </tr>\n",
       "    <tr>\n",
       "      <th>38</th>\n",
       "      <td>129397</td>\n",
       "      <td>2463906.85</td>\n",
       "    </tr>\n",
       "    <tr>\n",
       "      <th>55</th>\n",
       "      <td>125584</td>\n",
       "      <td>2234836.35</td>\n",
       "    </tr>\n",
       "  </tbody>\n",
       "</table>\n",
       "</div>"
      ],
      "text/plain": [
       "       12_31_2016_Qty  InvCost12_31_2016\n",
       "Store                                   \n",
       "50             260717         4887260.68\n",
       "73             164589         3254662.81\n",
       "67             163765         3076114.82\n",
       "34             145829         3074616.75\n",
       "76             143866         2975945.18\n",
       "69             150848         2968678.82\n",
       "66             144579         2860504.99\n",
       "74             166015         2803645.13\n",
       "38             129397         2463906.85\n",
       "55             125584         2234836.35"
      ]
     },
     "execution_count": 42,
     "metadata": {},
     "output_type": "execute_result"
    }
   ],
   "source": [
    "endInv_Store.sort_values(by='InvCost12_31_2016',ascending=False).head(10)"
   ]
  },
  {
   "cell_type": "markdown",
   "id": "a974927d",
   "metadata": {},
   "source": [
    "## Deliverable 2B"
   ]
  },
  {
   "cell_type": "code",
   "execution_count": 43,
   "id": "e67c7d7e",
   "metadata": {},
   "outputs": [],
   "source": [
    "endInv_Brand=endInv[['Brand','12_31_2016_Qty','InvCost12_31_2016']].groupby('Brand').sum()"
   ]
  },
  {
   "cell_type": "code",
   "execution_count": 45,
   "id": "1b6665b9",
   "metadata": {},
   "outputs": [
    {
     "data": {
      "text/html": [
       "<div>\n",
       "<style scoped>\n",
       "    .dataframe tbody tr th:only-of-type {\n",
       "        vertical-align: middle;\n",
       "    }\n",
       "\n",
       "    .dataframe tbody tr th {\n",
       "        vertical-align: top;\n",
       "    }\n",
       "\n",
       "    .dataframe thead th {\n",
       "        text-align: right;\n",
       "    }\n",
       "</style>\n",
       "<table border=\"1\" class=\"dataframe\">\n",
       "  <thead>\n",
       "    <tr style=\"text-align: right;\">\n",
       "      <th></th>\n",
       "      <th>12_31_2016_Qty</th>\n",
       "      <th>InvCost12_31_2016</th>\n",
       "    </tr>\n",
       "    <tr>\n",
       "      <th>Brand</th>\n",
       "      <th></th>\n",
       "      <th></th>\n",
       "    </tr>\n",
       "  </thead>\n",
       "  <tbody>\n",
       "    <tr>\n",
       "      <th>1233</th>\n",
       "      <td>15047</td>\n",
       "      <td>526494.53</td>\n",
       "    </tr>\n",
       "    <tr>\n",
       "      <th>3545</th>\n",
       "      <td>16770</td>\n",
       "      <td>502932.30</td>\n",
       "    </tr>\n",
       "    <tr>\n",
       "      <th>2753</th>\n",
       "      <td>7849</td>\n",
       "      <td>470861.51</td>\n",
       "    </tr>\n",
       "    <tr>\n",
       "      <th>8068</th>\n",
       "      <td>15608</td>\n",
       "      <td>366631.92</td>\n",
       "    </tr>\n",
       "    <tr>\n",
       "      <th>3405</th>\n",
       "      <td>12268</td>\n",
       "      <td>355649.32</td>\n",
       "    </tr>\n",
       "    <tr>\n",
       "      <th>4261</th>\n",
       "      <td>16769</td>\n",
       "      <td>351981.31</td>\n",
       "    </tr>\n",
       "    <tr>\n",
       "      <th>2757</th>\n",
       "      <td>11603</td>\n",
       "      <td>336370.97</td>\n",
       "    </tr>\n",
       "    <tr>\n",
       "      <th>2589</th>\n",
       "      <td>7922</td>\n",
       "      <td>300956.78</td>\n",
       "    </tr>\n",
       "    <tr>\n",
       "      <th>1376</th>\n",
       "      <td>13180</td>\n",
       "      <td>276648.20</td>\n",
       "    </tr>\n",
       "    <tr>\n",
       "      <th>2585</th>\n",
       "      <td>10487</td>\n",
       "      <td>272557.13</td>\n",
       "    </tr>\n",
       "  </tbody>\n",
       "</table>\n",
       "</div>"
      ],
      "text/plain": [
       "       12_31_2016_Qty  InvCost12_31_2016\n",
       "Brand                                   \n",
       "1233            15047          526494.53\n",
       "3545            16770          502932.30\n",
       "2753             7849          470861.51\n",
       "8068            15608          366631.92\n",
       "3405            12268          355649.32\n",
       "4261            16769          351981.31\n",
       "2757            11603          336370.97\n",
       "2589             7922          300956.78\n",
       "1376            13180          276648.20\n",
       "2585            10487          272557.13"
      ]
     },
     "execution_count": 45,
     "metadata": {},
     "output_type": "execute_result"
    }
   ],
   "source": [
    "endInv_Brand.sort_values(by='InvCost12_31_2016',ascending=False).head(10)"
   ]
  },
  {
   "cell_type": "markdown",
   "id": "ad5b07a4",
   "metadata": {},
   "source": [
    "## Deliverable 3"
   ]
  },
  {
   "cell_type": "code",
   "execution_count": 48,
   "id": "6a59af0d",
   "metadata": {},
   "outputs": [],
   "source": [
    "begInv_InventoryId = begInv[['InventoryId','01_01_2016_Qty','InvCost_01_01_2016']]"
   ]
  },
  {
   "cell_type": "code",
   "execution_count": 50,
   "id": "f227d90c",
   "metadata": {},
   "outputs": [],
   "source": [
    "endInv_InventoryId = endInv[['InventoryId','12_31_2016_Qty','InvCost12_31_2016']]"
   ]
  },
  {
   "cell_type": "code",
   "execution_count": 51,
   "id": "19ae198b",
   "metadata": {},
   "outputs": [
    {
     "data": {
      "text/html": [
       "<div>\n",
       "<style scoped>\n",
       "    .dataframe tbody tr th:only-of-type {\n",
       "        vertical-align: middle;\n",
       "    }\n",
       "\n",
       "    .dataframe tbody tr th {\n",
       "        vertical-align: top;\n",
       "    }\n",
       "\n",
       "    .dataframe thead th {\n",
       "        text-align: right;\n",
       "    }\n",
       "</style>\n",
       "<table border=\"1\" class=\"dataframe\">\n",
       "  <thead>\n",
       "    <tr style=\"text-align: right;\">\n",
       "      <th></th>\n",
       "      <th>InventoryId</th>\n",
       "      <th>01_01_2016_Qty</th>\n",
       "      <th>InvCost_01_01_2016</th>\n",
       "      <th>12_31_2016_Qty</th>\n",
       "      <th>InvCost12_31_2016</th>\n",
       "    </tr>\n",
       "  </thead>\n",
       "  <tbody>\n",
       "    <tr>\n",
       "      <th>0</th>\n",
       "      <td>1_HARDERSFIELD_58</td>\n",
       "      <td>8.0</td>\n",
       "      <td>103.92</td>\n",
       "      <td>11.0</td>\n",
       "      <td>142.89</td>\n",
       "    </tr>\n",
       "    <tr>\n",
       "      <th>1</th>\n",
       "      <td>1_HARDERSFIELD_60</td>\n",
       "      <td>7.0</td>\n",
       "      <td>76.93</td>\n",
       "      <td>0.0</td>\n",
       "      <td>0.00</td>\n",
       "    </tr>\n",
       "    <tr>\n",
       "      <th>2</th>\n",
       "      <td>1_HARDERSFIELD_62</td>\n",
       "      <td>6.0</td>\n",
       "      <td>221.94</td>\n",
       "      <td>7.0</td>\n",
       "      <td>258.93</td>\n",
       "    </tr>\n",
       "    <tr>\n",
       "      <th>3</th>\n",
       "      <td>1_HARDERSFIELD_63</td>\n",
       "      <td>3.0</td>\n",
       "      <td>116.97</td>\n",
       "      <td>7.0</td>\n",
       "      <td>272.93</td>\n",
       "    </tr>\n",
       "    <tr>\n",
       "      <th>4</th>\n",
       "      <td>1_HARDERSFIELD_72</td>\n",
       "      <td>6.0</td>\n",
       "      <td>209.94</td>\n",
       "      <td>4.0</td>\n",
       "      <td>139.96</td>\n",
       "    </tr>\n",
       "  </tbody>\n",
       "</table>\n",
       "</div>"
      ],
      "text/plain": [
       "         InventoryId  01_01_2016_Qty  InvCost_01_01_2016  12_31_2016_Qty  \\\n",
       "0  1_HARDERSFIELD_58             8.0              103.92            11.0   \n",
       "1  1_HARDERSFIELD_60             7.0               76.93             0.0   \n",
       "2  1_HARDERSFIELD_62             6.0              221.94             7.0   \n",
       "3  1_HARDERSFIELD_63             3.0              116.97             7.0   \n",
       "4  1_HARDERSFIELD_72             6.0              209.94             4.0   \n",
       "\n",
       "   InvCost12_31_2016  \n",
       "0             142.89  \n",
       "1               0.00  \n",
       "2             258.93  \n",
       "3             272.93  \n",
       "4             139.96  "
      ]
     },
     "execution_count": 51,
     "metadata": {},
     "output_type": "execute_result"
    }
   ],
   "source": [
    "Inv= pd.merge(left = begInv_InventoryId, right = endInv_InventoryId, how = 'outer', on = ['InventoryId'])\n",
    "Inv = Inv.fillna(0)\n",
    "Inv.head()"
   ]
  },
  {
   "cell_type": "markdown",
   "id": "e25c373d",
   "metadata": {},
   "source": [
    "## Deliverable 4A"
   ]
  },
  {
   "cell_type": "code",
   "execution_count": 57,
   "id": "989965eb",
   "metadata": {},
   "outputs": [],
   "source": [
    "purchases = pd.read_csv(\"InvoicePurchases12-31-16Sample.csv\")"
   ]
  },
  {
   "cell_type": "code",
   "execution_count": 58,
   "id": "47ba9143",
   "metadata": {},
   "outputs": [],
   "source": [
    "purchases['InvoiceDate'] = pd.to_datetime(purchases['InvoiceDate'])"
   ]
  },
  {
   "cell_type": "code",
   "execution_count": 59,
   "id": "50e5e5e6",
   "metadata": {},
   "outputs": [],
   "source": [
    "purchases_2016 = purchases[purchases['InvoiceDate'].dt.year == 2016]"
   ]
  },
  {
   "cell_type": "code",
   "execution_count": 60,
   "id": "b56a3bb8",
   "metadata": {},
   "outputs": [
    {
     "name": "stderr",
     "output_type": "stream",
     "text": [
      "C:\\Users\\wotchae\\AppData\\Local\\Temp\\ipykernel_12044\\3028795507.py:1: FutureWarning: The default value of numeric_only in DataFrameGroupBy.sum is deprecated. In a future version, numeric_only will default to False. Either specify numeric_only or select only columns which should be valid for the function.\n",
      "  vendor_total_dollars_2016 = purchases_2016[['VendorNumber', 'VendorName','Dollars']].groupby('VendorNumber').sum()\n"
     ]
    }
   ],
   "source": [
    "vendor_total_dollars_2016 = purchases_2016[['VendorNumber', 'VendorName','Dollars']].groupby('VendorNumber').sum()"
   ]
  },
  {
   "cell_type": "code",
   "execution_count": 61,
   "id": "d709ae2a",
   "metadata": {},
   "outputs": [
    {
     "data": {
      "text/html": [
       "<div>\n",
       "<style scoped>\n",
       "    .dataframe tbody tr th:only-of-type {\n",
       "        vertical-align: middle;\n",
       "    }\n",
       "\n",
       "    .dataframe tbody tr th {\n",
       "        vertical-align: top;\n",
       "    }\n",
       "\n",
       "    .dataframe thead th {\n",
       "        text-align: right;\n",
       "    }\n",
       "</style>\n",
       "<table border=\"1\" class=\"dataframe\">\n",
       "  <thead>\n",
       "    <tr style=\"text-align: right;\">\n",
       "      <th></th>\n",
       "      <th>Dollars</th>\n",
       "    </tr>\n",
       "    <tr>\n",
       "      <th>VendorNumber</th>\n",
       "      <th></th>\n",
       "    </tr>\n",
       "  </thead>\n",
       "  <tbody>\n",
       "    <tr>\n",
       "      <th>3960</th>\n",
       "      <td>49733333.66</td>\n",
       "    </tr>\n",
       "    <tr>\n",
       "      <th>4425</th>\n",
       "      <td>26851015.81</td>\n",
       "    </tr>\n",
       "    <tr>\n",
       "      <th>12546</th>\n",
       "      <td>23539441.79</td>\n",
       "    </tr>\n",
       "    <tr>\n",
       "      <th>17035</th>\n",
       "      <td>23460507.21</td>\n",
       "    </tr>\n",
       "    <tr>\n",
       "      <th>480</th>\n",
       "      <td>16985053.64</td>\n",
       "    </tr>\n",
       "    <tr>\n",
       "      <th>1392</th>\n",
       "      <td>15187741.32</td>\n",
       "    </tr>\n",
       "    <tr>\n",
       "      <th>1128</th>\n",
       "      <td>13139921.12</td>\n",
       "    </tr>\n",
       "    <tr>\n",
       "      <th>9165</th>\n",
       "      <td>12433070.97</td>\n",
       "    </tr>\n",
       "    <tr>\n",
       "      <th>3252</th>\n",
       "      <td>11858245.15</td>\n",
       "    </tr>\n",
       "    <tr>\n",
       "      <th>9552</th>\n",
       "      <td>10294481.73</td>\n",
       "    </tr>\n",
       "  </tbody>\n",
       "</table>\n",
       "</div>"
      ],
      "text/plain": [
       "                  Dollars\n",
       "VendorNumber             \n",
       "3960          49733333.66\n",
       "4425          26851015.81\n",
       "12546         23539441.79\n",
       "17035         23460507.21\n",
       "480           16985053.64\n",
       "1392          15187741.32\n",
       "1128          13139921.12\n",
       "9165          12433070.97\n",
       "3252          11858245.15\n",
       "9552          10294481.73"
      ]
     },
     "execution_count": 61,
     "metadata": {},
     "output_type": "execute_result"
    }
   ],
   "source": [
    "vendor_total_dollars_2016.sort_values(by='Dollars', ascending=False).head(10)"
   ]
  },
  {
   "cell_type": "markdown",
   "id": "cfe42768",
   "metadata": {},
   "source": [
    "## Deliverable 4B"
   ]
  },
  {
   "cell_type": "code",
   "execution_count": 67,
   "id": "b91ef300",
   "metadata": {},
   "outputs": [],
   "source": [
    "Invoice_Purchases = pd.read_csv(\"InvoicePurchases12-31-16Sample.csv\")"
   ]
  },
  {
   "cell_type": "code",
   "execution_count": 68,
   "id": "6283b421",
   "metadata": {},
   "outputs": [
    {
     "name": "stderr",
     "output_type": "stream",
     "text": [
      "C:\\Users\\wotchae\\AppData\\Local\\Temp\\ipykernel_12044\\2358331646.py:1: FutureWarning: The default value of numeric_only in DataFrameGroupBy.sum is deprecated. In a future version, numeric_only will default to False. Either specify numeric_only or select only columns which should be valid for the function.\n",
      "  TopFreightVendors = Invoice_Purchases[['VendorNumber', 'VendorName', 'Freight']].groupby('VendorNumber').sum()\n"
     ]
    }
   ],
   "source": [
    "TopFreightVendors = Invoice_Purchases[['VendorNumber', 'VendorName', 'Freight']].groupby('VendorNumber').sum()"
   ]
  },
  {
   "cell_type": "code",
   "execution_count": 69,
   "id": "75c0bcaf",
   "metadata": {},
   "outputs": [
    {
     "data": {
      "text/html": [
       "<div>\n",
       "<style scoped>\n",
       "    .dataframe tbody tr th:only-of-type {\n",
       "        vertical-align: middle;\n",
       "    }\n",
       "\n",
       "    .dataframe tbody tr th {\n",
       "        vertical-align: top;\n",
       "    }\n",
       "\n",
       "    .dataframe thead th {\n",
       "        text-align: right;\n",
       "    }\n",
       "</style>\n",
       "<table border=\"1\" class=\"dataframe\">\n",
       "  <thead>\n",
       "    <tr style=\"text-align: right;\">\n",
       "      <th></th>\n",
       "      <th>Freight</th>\n",
       "    </tr>\n",
       "    <tr>\n",
       "      <th>VendorNumber</th>\n",
       "      <th></th>\n",
       "    </tr>\n",
       "  </thead>\n",
       "  <tbody>\n",
       "    <tr>\n",
       "      <th>3960</th>\n",
       "      <td>257032.07</td>\n",
       "    </tr>\n",
       "    <tr>\n",
       "      <th>4425</th>\n",
       "      <td>144929.24</td>\n",
       "    </tr>\n",
       "    <tr>\n",
       "      <th>12546</th>\n",
       "      <td>123880.97</td>\n",
       "    </tr>\n",
       "    <tr>\n",
       "      <th>17035</th>\n",
       "      <td>123780.22</td>\n",
       "    </tr>\n",
       "    <tr>\n",
       "      <th>480</th>\n",
       "      <td>89286.27</td>\n",
       "    </tr>\n",
       "    <tr>\n",
       "      <th>1392</th>\n",
       "      <td>79528.99</td>\n",
       "    </tr>\n",
       "    <tr>\n",
       "      <th>1128</th>\n",
       "      <td>68601.68</td>\n",
       "    </tr>\n",
       "    <tr>\n",
       "      <th>9165</th>\n",
       "      <td>68054.70</td>\n",
       "    </tr>\n",
       "    <tr>\n",
       "      <th>3252</th>\n",
       "      <td>61966.91</td>\n",
       "    </tr>\n",
       "    <tr>\n",
       "      <th>9552</th>\n",
       "      <td>55551.82</td>\n",
       "    </tr>\n",
       "  </tbody>\n",
       "</table>\n",
       "</div>"
      ],
      "text/plain": [
       "                Freight\n",
       "VendorNumber           \n",
       "3960          257032.07\n",
       "4425          144929.24\n",
       "12546         123880.97\n",
       "17035         123780.22\n",
       "480            89286.27\n",
       "1392           79528.99\n",
       "1128           68601.68\n",
       "9165           68054.70\n",
       "3252           61966.91\n",
       "9552           55551.82"
      ]
     },
     "execution_count": 69,
     "metadata": {},
     "output_type": "execute_result"
    }
   ],
   "source": [
    "TopFreightVendors.sort_values(by='Freight',ascending=False).head(10)"
   ]
  },
  {
   "cell_type": "markdown",
   "id": "f1ad463c",
   "metadata": {},
   "source": [
    "## Deliverable 4C"
   ]
  },
  {
   "cell_type": "code",
   "execution_count": 70,
   "id": "c2af34bf",
   "metadata": {},
   "outputs": [],
   "source": [
    "Invoice_purchases = pd.read_csv(\"InvoicePurchases12-31-16Sample.csv\")"
   ]
  },
  {
   "cell_type": "code",
   "execution_count": 74,
   "id": "3864d5b0",
   "metadata": {},
   "outputs": [],
   "source": [
    "Vendor_summary = Invoice_purchases.groupby('VendorName').agg({'Dollars': 'sum', 'Freight': 'sum'})"
   ]
  },
  {
   "cell_type": "code",
   "execution_count": 76,
   "id": "74665a18",
   "metadata": {},
   "outputs": [],
   "source": [
    "high_volume_vendors_summary = Vendor_summary[Vendor_summary['Dollars']>= 250000]"
   ]
  },
  {
   "cell_type": "code",
   "execution_count": 77,
   "id": "b10278c8",
   "metadata": {},
   "outputs": [],
   "source": [
    "Freight_per_dollar = high_volume_vendors_summary['Freight'] / high_volume_vendors_summary['Dollars']"
   ]
  },
  {
   "cell_type": "code",
   "execution_count": 78,
   "id": "cb16550d",
   "metadata": {},
   "outputs": [],
   "source": [
    "Freight_per_dollar = Freight_per_dollar.sort_values(ascending=False)"
   ]
  },
  {
   "cell_type": "code",
   "execution_count": 79,
   "id": "e7187fc7",
   "metadata": {},
   "outputs": [
    {
     "name": "stdout",
     "output_type": "stream",
     "text": [
      "Top Ten Vendors with the Highest Freight per $:\n",
      "VendorName\n",
      "WESTERN SPIRITS BEVERAGE CO    0.005351\n",
      "DIAGEO CHATEAU ESTATE WINES    0.005317\n",
      "FREDERICK WILDMAN & SONS       0.005267\n",
      "STATE WINE & SPIRITS           0.005240\n",
      "FLAG HILL WINERY & VINEYARD    0.005237\n",
      "BANFI PRODUCTS CORP            0.005225\n",
      "MARTIGNETTI COMPANIES          0.005202\n",
      "STE MICHELLE WINE ESTATES      0.005158\n",
      "WINE GROUP INC                 0.005154\n",
      "ULTRA BEVERAGE COMPANY LLP     0.005152\n",
      "dtype: float64\n"
     ]
    }
   ],
   "source": [
    "print(\"Top Ten Vendors with the Highest Freight per $:\")\n",
    "print(Freight_per_dollar.head(10))"
   ]
  },
  {
   "cell_type": "code",
   "execution_count": 83,
   "id": "b0bdd154",
   "metadata": {},
   "outputs": [
    {
     "name": "stdout",
     "output_type": "stream",
     "text": [
      "\n",
      " Bottom Fiver Vendors with the Lowest Freight per $:\n",
      "                    VendorName  Freight_per_dollar\n",
      "0  OLE SMOKY DISTILLERY LLC               0.004958\n",
      "1  TREASURY WINE ESTATES                  0.004981\n",
      "2  SIDNEY FRANK IMPORTING CO              0.004983\n",
      "3  HEAVEN HILL DISTILLERIES               0.004995\n",
      "4  LUXCO INC                              0.005002\n"
     ]
    }
   ],
   "source": [
    "print(\"\\n Bottom Fiver Vendors with the Lowest Freight per $:\")\n",
    "bottom_five_freight_per_dollar = Freight_per_dollar.tail(5).sort_values(ascending=True)\n",
    "bottom_five_freight_per_dollar_df = pd.DataFrame(bottom_five_freight_per_dollar, columns = ['Freight_per_dollar']).reset_index()\n",
    "print(bottom_five_freight_per_dollar_df)"
   ]
  },
  {
   "cell_type": "markdown",
   "id": "447aa3d5",
   "metadata": {},
   "source": [
    "## Deliverable 4D"
   ]
  },
  {
   "cell_type": "code",
   "execution_count": 87,
   "id": "70269808",
   "metadata": {},
   "outputs": [],
   "source": [
    "filtered_transactions = purchases[(purchases['Freight']>100) & (purchases['Quantity']<= 1000)]"
   ]
  },
  {
   "cell_type": "code",
   "execution_count": 88,
   "id": "b737ded9",
   "metadata": {},
   "outputs": [],
   "source": [
    "highest_freight_vendors = filtered_transactions.groupby('VendorNumber')[['VendorName', 'Freight','Dollars','Quantity']].sum"
   ]
  },
  {
   "cell_type": "code",
   "execution_count": 89,
   "id": "0beef53e",
   "metadata": {},
   "outputs": [
    {
     "ename": "AttributeError",
     "evalue": "'function' object has no attribute 'sort_values'",
     "output_type": "error",
     "traceback": [
      "\u001b[1;31m---------------------------------------------------------------------------\u001b[0m",
      "\u001b[1;31mAttributeError\u001b[0m                            Traceback (most recent call last)",
      "Cell \u001b[1;32mIn[89], line 1\u001b[0m\n\u001b[1;32m----> 1\u001b[0m highest_freight_vendors\u001b[38;5;241m.\u001b[39msort_values(by\u001b[38;5;241m=\u001b[39m\u001b[38;5;124m'\u001b[39m\u001b[38;5;124mFreight\u001b[39m\u001b[38;5;124m'\u001b[39m, ascending\u001b[38;5;241m=\u001b[39m\u001b[38;5;28;01mFalse\u001b[39;00m)\u001b[38;5;241m.\u001b[39mhead(\u001b[38;5;241m5\u001b[39m)\n",
      "\u001b[1;31mAttributeError\u001b[0m: 'function' object has no attribute 'sort_values'"
     ]
    }
   ],
   "source": [
    "highest_freight_vendors.sort_values(by='Freight', ascending=False).head(5)"
   ]
  },
  {
   "cell_type": "code",
   "execution_count": null,
   "id": "272e256c",
   "metadata": {},
   "outputs": [],
   "source": []
  }
 ],
 "metadata": {
  "kernelspec": {
   "display_name": "Python 3 (ipykernel)",
   "language": "python",
   "name": "python3"
  },
  "language_info": {
   "codemirror_mode": {
    "name": "ipython",
    "version": 3
   },
   "file_extension": ".py",
   "mimetype": "text/x-python",
   "name": "python",
   "nbconvert_exporter": "python",
   "pygments_lexer": "ipython3",
   "version": "3.11.4"
  }
 },
 "nbformat": 4,
 "nbformat_minor": 5
}
