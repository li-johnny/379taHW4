{
 "cells": [
  {
   "cell_type": "code",
   "execution_count": 1,
   "id": "5d89fb18-fd3a-46ff-9262-e62e76a2bd82",
   "metadata": {
    "ExecuteTime": {
     "end_time": "2024-05-13T18:27:31.975760400Z",
     "start_time": "2024-05-13T18:27:31.116148600Z"
    }
   },
   "outputs": [],
   "source": [
    "import pandas as pd"
   ]
  },
  {
   "cell_type": "markdown",
   "id": "97104e9d-4751-4d73-894f-8ff258a92cd2",
   "metadata": {},
   "source": [
    "# Deliverable 1A"
   ]
  },
  {
   "cell_type": "code",
   "execution_count": 2,
   "id": "1c050bd2-0e44-4c3c-95c9-b81b6f94fed0",
   "metadata": {
    "ExecuteTime": {
     "end_time": "2024-05-13T18:27:32.791843500Z",
     "start_time": "2024-05-13T18:27:31.995706400Z"
    }
   },
   "outputs": [],
   "source": [
    "begInv = pd.read_csv(\"BegInvFINAL12-31-16Sample.csv\")"
   ]
  },
  {
   "cell_type": "code",
   "execution_count": 3,
   "id": "42d7f323-6e68-46cf-9493-5602f84c92ea",
   "metadata": {
    "ExecuteTime": {
     "end_time": "2024-05-13T18:27:32.820098200Z",
     "start_time": "2024-05-13T18:27:32.793838200Z"
    }
   },
   "outputs": [
    {
     "data": {
      "text/plain": "         InventoryId  Store          City  Brand                  Description  \\\n0  1_HARDERSFIELD_58      1  HARDERSFIELD     58  Gekkeikan Black & Gold Sake   \n1  1_HARDERSFIELD_60      1  HARDERSFIELD     60       Canadian Club 1858 VAP   \n\n    Size  onHand  Price   startDate  \n0  750mL       8  12.99  2016-01-01  \n1  750mL       7  10.99  2016-01-01  ",
      "text/html": "<div>\n<style scoped>\n    .dataframe tbody tr th:only-of-type {\n        vertical-align: middle;\n    }\n\n    .dataframe tbody tr th {\n        vertical-align: top;\n    }\n\n    .dataframe thead th {\n        text-align: right;\n    }\n</style>\n<table border=\"1\" class=\"dataframe\">\n  <thead>\n    <tr style=\"text-align: right;\">\n      <th></th>\n      <th>InventoryId</th>\n      <th>Store</th>\n      <th>City</th>\n      <th>Brand</th>\n      <th>Description</th>\n      <th>Size</th>\n      <th>onHand</th>\n      <th>Price</th>\n      <th>startDate</th>\n    </tr>\n  </thead>\n  <tbody>\n    <tr>\n      <th>0</th>\n      <td>1_HARDERSFIELD_58</td>\n      <td>1</td>\n      <td>HARDERSFIELD</td>\n      <td>58</td>\n      <td>Gekkeikan Black &amp; Gold Sake</td>\n      <td>750mL</td>\n      <td>8</td>\n      <td>12.99</td>\n      <td>2016-01-01</td>\n    </tr>\n    <tr>\n      <th>1</th>\n      <td>1_HARDERSFIELD_60</td>\n      <td>1</td>\n      <td>HARDERSFIELD</td>\n      <td>60</td>\n      <td>Canadian Club 1858 VAP</td>\n      <td>750mL</td>\n      <td>7</td>\n      <td>10.99</td>\n      <td>2016-01-01</td>\n    </tr>\n  </tbody>\n</table>\n</div>"
     },
     "execution_count": 3,
     "metadata": {},
     "output_type": "execute_result"
    }
   ],
   "source": [
    "begInv.head(2)"
   ]
  },
  {
   "cell_type": "code",
   "execution_count": 4,
   "id": "cdcb1af8-37ec-4a91-b449-3ac828e16d54",
   "metadata": {},
   "outputs": [
    {
     "data": {
      "text/plain": "         InventoryId  Store          City  Brand                  Description  \\\n0  1_HARDERSFIELD_58      1  HARDERSFIELD     58  Gekkeikan Black & Gold Sake   \n1  1_HARDERSFIELD_60      1  HARDERSFIELD     60       Canadian Club 1858 VAP   \n\n    Size  01_01_2016_Qty  Price   startDate  \n0  750mL               8  12.99  2016-01-01  \n1  750mL               7  10.99  2016-01-01  ",
      "text/html": "<div>\n<style scoped>\n    .dataframe tbody tr th:only-of-type {\n        vertical-align: middle;\n    }\n\n    .dataframe tbody tr th {\n        vertical-align: top;\n    }\n\n    .dataframe thead th {\n        text-align: right;\n    }\n</style>\n<table border=\"1\" class=\"dataframe\">\n  <thead>\n    <tr style=\"text-align: right;\">\n      <th></th>\n      <th>InventoryId</th>\n      <th>Store</th>\n      <th>City</th>\n      <th>Brand</th>\n      <th>Description</th>\n      <th>Size</th>\n      <th>01_01_2016_Qty</th>\n      <th>Price</th>\n      <th>startDate</th>\n    </tr>\n  </thead>\n  <tbody>\n    <tr>\n      <th>0</th>\n      <td>1_HARDERSFIELD_58</td>\n      <td>1</td>\n      <td>HARDERSFIELD</td>\n      <td>58</td>\n      <td>Gekkeikan Black &amp; Gold Sake</td>\n      <td>750mL</td>\n      <td>8</td>\n      <td>12.99</td>\n      <td>2016-01-01</td>\n    </tr>\n    <tr>\n      <th>1</th>\n      <td>1_HARDERSFIELD_60</td>\n      <td>1</td>\n      <td>HARDERSFIELD</td>\n      <td>60</td>\n      <td>Canadian Club 1858 VAP</td>\n      <td>750mL</td>\n      <td>7</td>\n      <td>10.99</td>\n      <td>2016-01-01</td>\n    </tr>\n  </tbody>\n</table>\n</div>"
     },
     "execution_count": 4,
     "metadata": {},
     "output_type": "execute_result"
    }
   ],
   "source": [
    "begInv = begInv.rename(columns = {'onHand':'01_01_2016_Qty'})\n",
    "begInv.head(2)"
   ]
  },
  {
   "cell_type": "code",
   "execution_count": 5,
   "id": "593cd4ab-9e94-4d6f-8fd5-1ec559dc0704",
   "metadata": {},
   "outputs": [
    {
     "data": {
      "text/plain": "         InventoryId  Store          City  Brand                  Description  \\\n0  1_HARDERSFIELD_58      1  HARDERSFIELD     58  Gekkeikan Black & Gold Sake   \n1  1_HARDERSFIELD_60      1  HARDERSFIELD     60       Canadian Club 1858 VAP   \n\n    Size  01_01_2016_Qty  Price   startDate  InvCost01_01_2016  \n0  750mL               8  12.99  2016-01-01             103.92  \n1  750mL               7  10.99  2016-01-01              76.93  ",
      "text/html": "<div>\n<style scoped>\n    .dataframe tbody tr th:only-of-type {\n        vertical-align: middle;\n    }\n\n    .dataframe tbody tr th {\n        vertical-align: top;\n    }\n\n    .dataframe thead th {\n        text-align: right;\n    }\n</style>\n<table border=\"1\" class=\"dataframe\">\n  <thead>\n    <tr style=\"text-align: right;\">\n      <th></th>\n      <th>InventoryId</th>\n      <th>Store</th>\n      <th>City</th>\n      <th>Brand</th>\n      <th>Description</th>\n      <th>Size</th>\n      <th>01_01_2016_Qty</th>\n      <th>Price</th>\n      <th>startDate</th>\n      <th>InvCost01_01_2016</th>\n    </tr>\n  </thead>\n  <tbody>\n    <tr>\n      <th>0</th>\n      <td>1_HARDERSFIELD_58</td>\n      <td>1</td>\n      <td>HARDERSFIELD</td>\n      <td>58</td>\n      <td>Gekkeikan Black &amp; Gold Sake</td>\n      <td>750mL</td>\n      <td>8</td>\n      <td>12.99</td>\n      <td>2016-01-01</td>\n      <td>103.92</td>\n    </tr>\n    <tr>\n      <th>1</th>\n      <td>1_HARDERSFIELD_60</td>\n      <td>1</td>\n      <td>HARDERSFIELD</td>\n      <td>60</td>\n      <td>Canadian Club 1858 VAP</td>\n      <td>750mL</td>\n      <td>7</td>\n      <td>10.99</td>\n      <td>2016-01-01</td>\n      <td>76.93</td>\n    </tr>\n  </tbody>\n</table>\n</div>"
     },
     "execution_count": 5,
     "metadata": {},
     "output_type": "execute_result"
    }
   ],
   "source": [
    "begInv['InvCost01_01_2016'] = begInv['01_01_2016_Qty'] * begInv['Price']\n",
    "begInv.head(2)"
   ]
  },
  {
   "cell_type": "code",
   "execution_count": 6,
   "id": "aea11ee2-7819-41f7-9f78-e360197f00ff",
   "metadata": {},
   "outputs": [
    {
     "data": {
      "text/plain": "       01_01_2016_Qty  InvCost01_01_2016\nStore                                   \n1               49917          838079.59\n2               52925          840452.20",
      "text/html": "<div>\n<style scoped>\n    .dataframe tbody tr th:only-of-type {\n        vertical-align: middle;\n    }\n\n    .dataframe tbody tr th {\n        vertical-align: top;\n    }\n\n    .dataframe thead th {\n        text-align: right;\n    }\n</style>\n<table border=\"1\" class=\"dataframe\">\n  <thead>\n    <tr style=\"text-align: right;\">\n      <th></th>\n      <th>01_01_2016_Qty</th>\n      <th>InvCost01_01_2016</th>\n    </tr>\n    <tr>\n      <th>Store</th>\n      <th></th>\n      <th></th>\n    </tr>\n  </thead>\n  <tbody>\n    <tr>\n      <th>1</th>\n      <td>49917</td>\n      <td>838079.59</td>\n    </tr>\n    <tr>\n      <th>2</th>\n      <td>52925</td>\n      <td>840452.20</td>\n    </tr>\n  </tbody>\n</table>\n</div>"
     },
     "execution_count": 6,
     "metadata": {},
     "output_type": "execute_result"
    }
   ],
   "source": [
    "begInv_Store = begInv[['Store','01_01_2016_Qty','InvCost01_01_2016']].groupby('Store').sum()\n",
    "begInv_Store.head(2)"
   ]
  },
  {
   "cell_type": "code",
   "execution_count": 7,
   "id": "ac50e864-c2d6-473c-ab66-9a5580bf0d3f",
   "metadata": {},
   "outputs": [
    {
     "data": {
      "text/plain": "       01_01_2016_Qty  InvCost01_01_2016\nStore                                   \n34             153852         3291170.24\n73             162551         3142497.36\n67             158996         3079578.63\n66             149314         2973033.90\n76             140208         2952418.44\n69             144255         2946726.65\n38             114368         2232698.77\n55             119641         2001263.66\n50              94720         1649808.22\n79              95330         1503149.48",
      "text/html": "<div>\n<style scoped>\n    .dataframe tbody tr th:only-of-type {\n        vertical-align: middle;\n    }\n\n    .dataframe tbody tr th {\n        vertical-align: top;\n    }\n\n    .dataframe thead th {\n        text-align: right;\n    }\n</style>\n<table border=\"1\" class=\"dataframe\">\n  <thead>\n    <tr style=\"text-align: right;\">\n      <th></th>\n      <th>01_01_2016_Qty</th>\n      <th>InvCost01_01_2016</th>\n    </tr>\n    <tr>\n      <th>Store</th>\n      <th></th>\n      <th></th>\n    </tr>\n  </thead>\n  <tbody>\n    <tr>\n      <th>34</th>\n      <td>153852</td>\n      <td>3291170.24</td>\n    </tr>\n    <tr>\n      <th>73</th>\n      <td>162551</td>\n      <td>3142497.36</td>\n    </tr>\n    <tr>\n      <th>67</th>\n      <td>158996</td>\n      <td>3079578.63</td>\n    </tr>\n    <tr>\n      <th>66</th>\n      <td>149314</td>\n      <td>2973033.90</td>\n    </tr>\n    <tr>\n      <th>76</th>\n      <td>140208</td>\n      <td>2952418.44</td>\n    </tr>\n    <tr>\n      <th>69</th>\n      <td>144255</td>\n      <td>2946726.65</td>\n    </tr>\n    <tr>\n      <th>38</th>\n      <td>114368</td>\n      <td>2232698.77</td>\n    </tr>\n    <tr>\n      <th>55</th>\n      <td>119641</td>\n      <td>2001263.66</td>\n    </tr>\n    <tr>\n      <th>50</th>\n      <td>94720</td>\n      <td>1649808.22</td>\n    </tr>\n    <tr>\n      <th>79</th>\n      <td>95330</td>\n      <td>1503149.48</td>\n    </tr>\n  </tbody>\n</table>\n</div>"
     },
     "execution_count": 7,
     "metadata": {},
     "output_type": "execute_result"
    }
   ],
   "source": [
    "begInv_Store.sort_values(by='InvCost01_01_2016',ascending=False).head(10)"
   ]
  },
  {
   "cell_type": "markdown",
   "id": "e8196815-8dab-4017-99b8-58c314a192f5",
   "metadata": {},
   "source": [
    "# Deliverable 1B"
   ]
  },
  {
   "cell_type": "code",
   "execution_count": 8,
   "id": "5bc3b1c9-fd06-4e4b-939a-3f9494da5193",
   "metadata": {},
   "outputs": [
    {
     "data": {
      "text/plain": "       01_01_2016_Qty  InvCost01_01_2016\nBrand                                   \n58                281            3650.19\n60                288            3165.12",
      "text/html": "<div>\n<style scoped>\n    .dataframe tbody tr th:only-of-type {\n        vertical-align: middle;\n    }\n\n    .dataframe tbody tr th {\n        vertical-align: top;\n    }\n\n    .dataframe thead th {\n        text-align: right;\n    }\n</style>\n<table border=\"1\" class=\"dataframe\">\n  <thead>\n    <tr style=\"text-align: right;\">\n      <th></th>\n      <th>01_01_2016_Qty</th>\n      <th>InvCost01_01_2016</th>\n    </tr>\n    <tr>\n      <th>Brand</th>\n      <th></th>\n      <th></th>\n    </tr>\n  </thead>\n  <tbody>\n    <tr>\n      <th>58</th>\n      <td>281</td>\n      <td>3650.19</td>\n    </tr>\n    <tr>\n      <th>60</th>\n      <td>288</td>\n      <td>3165.12</td>\n    </tr>\n  </tbody>\n</table>\n</div>"
     },
     "execution_count": 8,
     "metadata": {},
     "output_type": "execute_result"
    }
   ],
   "source": [
    "begInv_Brand = begInv[['Brand','01_01_2016_Qty','InvCost01_01_2016']].groupby('Brand').sum()\n",
    "begInv_Brand.head(2)"
   ]
  },
  {
   "cell_type": "code",
   "execution_count": 9,
   "id": "14a7b00b-bbf3-4195-81db-d6ce40359c87",
   "metadata": {},
   "outputs": [
    {
     "data": {
      "text/plain": "       01_01_2016_Qty  InvCost01_01_2016\nBrand                                   \n3545            14499          463823.01\n1233            12016          432455.84\n8068            15341          383371.59\n4261            15499          340823.01\n3858            13649          327439.51\n2753             4625          286703.75\n8082             9287          278517.13\n8680             7066          275503.34\n2589             6766          270572.34\n3876            14829          266773.71",
      "text/html": "<div>\n<style scoped>\n    .dataframe tbody tr th:only-of-type {\n        vertical-align: middle;\n    }\n\n    .dataframe tbody tr th {\n        vertical-align: top;\n    }\n\n    .dataframe thead th {\n        text-align: right;\n    }\n</style>\n<table border=\"1\" class=\"dataframe\">\n  <thead>\n    <tr style=\"text-align: right;\">\n      <th></th>\n      <th>01_01_2016_Qty</th>\n      <th>InvCost01_01_2016</th>\n    </tr>\n    <tr>\n      <th>Brand</th>\n      <th></th>\n      <th></th>\n    </tr>\n  </thead>\n  <tbody>\n    <tr>\n      <th>3545</th>\n      <td>14499</td>\n      <td>463823.01</td>\n    </tr>\n    <tr>\n      <th>1233</th>\n      <td>12016</td>\n      <td>432455.84</td>\n    </tr>\n    <tr>\n      <th>8068</th>\n      <td>15341</td>\n      <td>383371.59</td>\n    </tr>\n    <tr>\n      <th>4261</th>\n      <td>15499</td>\n      <td>340823.01</td>\n    </tr>\n    <tr>\n      <th>3858</th>\n      <td>13649</td>\n      <td>327439.51</td>\n    </tr>\n    <tr>\n      <th>2753</th>\n      <td>4625</td>\n      <td>286703.75</td>\n    </tr>\n    <tr>\n      <th>8082</th>\n      <td>9287</td>\n      <td>278517.13</td>\n    </tr>\n    <tr>\n      <th>8680</th>\n      <td>7066</td>\n      <td>275503.34</td>\n    </tr>\n    <tr>\n      <th>2589</th>\n      <td>6766</td>\n      <td>270572.34</td>\n    </tr>\n    <tr>\n      <th>3876</th>\n      <td>14829</td>\n      <td>266773.71</td>\n    </tr>\n  </tbody>\n</table>\n</div>"
     },
     "execution_count": 9,
     "metadata": {},
     "output_type": "execute_result"
    }
   ],
   "source": [
    "begInv_Brand.sort_values(by='InvCost01_01_2016',ascending=False).head(10)"
   ]
  },
  {
   "cell_type": "markdown",
   "id": "8ac27b69-6182-4bd9-b76e-08c127b7abce",
   "metadata": {},
   "source": [
    "# Deliverable 2A"
   ]
  },
  {
   "cell_type": "code",
   "execution_count": 10,
   "id": "4bca342d-f7c9-4c81-95a0-9a55f80551b6",
   "metadata": {},
   "outputs": [],
   "source": [
    "endInv = pd.read_csv(\"EndInvFINAL12312016.csv\")"
   ]
  },
  {
   "cell_type": "code",
   "execution_count": 11,
   "id": "c83a9c49-8e7e-4d55-9572-e1a87f55abed",
   "metadata": {},
   "outputs": [
    {
     "data": {
      "text/plain": "         InventoryId  Store          City  Brand                  Description  \\\n0  1_HARDERSFIELD_58      1  HARDERSFIELD     58  Gekkeikan Black & Gold Sake   \n1  1_HARDERSFIELD_62      1  HARDERSFIELD     62     Herradura Silver Tequila   \n\n    Size  onHand  Price     endDate  \n0  750mL      11  12.99  2016-12-31  \n1  750mL       7  36.99  2016-12-31  ",
      "text/html": "<div>\n<style scoped>\n    .dataframe tbody tr th:only-of-type {\n        vertical-align: middle;\n    }\n\n    .dataframe tbody tr th {\n        vertical-align: top;\n    }\n\n    .dataframe thead th {\n        text-align: right;\n    }\n</style>\n<table border=\"1\" class=\"dataframe\">\n  <thead>\n    <tr style=\"text-align: right;\">\n      <th></th>\n      <th>InventoryId</th>\n      <th>Store</th>\n      <th>City</th>\n      <th>Brand</th>\n      <th>Description</th>\n      <th>Size</th>\n      <th>onHand</th>\n      <th>Price</th>\n      <th>endDate</th>\n    </tr>\n  </thead>\n  <tbody>\n    <tr>\n      <th>0</th>\n      <td>1_HARDERSFIELD_58</td>\n      <td>1</td>\n      <td>HARDERSFIELD</td>\n      <td>58</td>\n      <td>Gekkeikan Black &amp; Gold Sake</td>\n      <td>750mL</td>\n      <td>11</td>\n      <td>12.99</td>\n      <td>2016-12-31</td>\n    </tr>\n    <tr>\n      <th>1</th>\n      <td>1_HARDERSFIELD_62</td>\n      <td>1</td>\n      <td>HARDERSFIELD</td>\n      <td>62</td>\n      <td>Herradura Silver Tequila</td>\n      <td>750mL</td>\n      <td>7</td>\n      <td>36.99</td>\n      <td>2016-12-31</td>\n    </tr>\n  </tbody>\n</table>\n</div>"
     },
     "execution_count": 11,
     "metadata": {},
     "output_type": "execute_result"
    }
   ],
   "source": [
    "endInv.head(2)"
   ]
  },
  {
   "cell_type": "code",
   "execution_count": 12,
   "id": "4277f665-a775-4344-8dd4-289b6f94f20d",
   "metadata": {},
   "outputs": [
    {
     "data": {
      "text/plain": "         InventoryId  Store          City  Brand                  Description  \\\n0  1_HARDERSFIELD_58      1  HARDERSFIELD     58  Gekkeikan Black & Gold Sake   \n1  1_HARDERSFIELD_62      1  HARDERSFIELD     62     Herradura Silver Tequila   \n\n    Size  12__31_2016_Qty  Price     endDate  \n0  750mL               11  12.99  2016-12-31  \n1  750mL                7  36.99  2016-12-31  ",
      "text/html": "<div>\n<style scoped>\n    .dataframe tbody tr th:only-of-type {\n        vertical-align: middle;\n    }\n\n    .dataframe tbody tr th {\n        vertical-align: top;\n    }\n\n    .dataframe thead th {\n        text-align: right;\n    }\n</style>\n<table border=\"1\" class=\"dataframe\">\n  <thead>\n    <tr style=\"text-align: right;\">\n      <th></th>\n      <th>InventoryId</th>\n      <th>Store</th>\n      <th>City</th>\n      <th>Brand</th>\n      <th>Description</th>\n      <th>Size</th>\n      <th>12__31_2016_Qty</th>\n      <th>Price</th>\n      <th>endDate</th>\n    </tr>\n  </thead>\n  <tbody>\n    <tr>\n      <th>0</th>\n      <td>1_HARDERSFIELD_58</td>\n      <td>1</td>\n      <td>HARDERSFIELD</td>\n      <td>58</td>\n      <td>Gekkeikan Black &amp; Gold Sake</td>\n      <td>750mL</td>\n      <td>11</td>\n      <td>12.99</td>\n      <td>2016-12-31</td>\n    </tr>\n    <tr>\n      <th>1</th>\n      <td>1_HARDERSFIELD_62</td>\n      <td>1</td>\n      <td>HARDERSFIELD</td>\n      <td>62</td>\n      <td>Herradura Silver Tequila</td>\n      <td>750mL</td>\n      <td>7</td>\n      <td>36.99</td>\n      <td>2016-12-31</td>\n    </tr>\n  </tbody>\n</table>\n</div>"
     },
     "execution_count": 12,
     "metadata": {},
     "output_type": "execute_result"
    }
   ],
   "source": [
    "endInv = endInv.rename(columns = {'onHand':'12__31_2016_Qty'})\n",
    "endInv.head(2)"
   ]
  },
  {
   "cell_type": "code",
   "execution_count": 13,
   "id": "c68444d5-31c0-4389-bbbd-f35e12426e18",
   "metadata": {},
   "outputs": [
    {
     "data": {
      "text/plain": "         InventoryId  Store          City  Brand                  Description  \\\n0  1_HARDERSFIELD_58      1  HARDERSFIELD     58  Gekkeikan Black & Gold Sake   \n1  1_HARDERSFIELD_62      1  HARDERSFIELD     62     Herradura Silver Tequila   \n\n    Size  12__31_2016_Qty  Price     endDate  InvCost12_31_2016  \n0  750mL               11  12.99  2016-12-31             142.89  \n1  750mL                7  36.99  2016-12-31             258.93  ",
      "text/html": "<div>\n<style scoped>\n    .dataframe tbody tr th:only-of-type {\n        vertical-align: middle;\n    }\n\n    .dataframe tbody tr th {\n        vertical-align: top;\n    }\n\n    .dataframe thead th {\n        text-align: right;\n    }\n</style>\n<table border=\"1\" class=\"dataframe\">\n  <thead>\n    <tr style=\"text-align: right;\">\n      <th></th>\n      <th>InventoryId</th>\n      <th>Store</th>\n      <th>City</th>\n      <th>Brand</th>\n      <th>Description</th>\n      <th>Size</th>\n      <th>12__31_2016_Qty</th>\n      <th>Price</th>\n      <th>endDate</th>\n      <th>InvCost12_31_2016</th>\n    </tr>\n  </thead>\n  <tbody>\n    <tr>\n      <th>0</th>\n      <td>1_HARDERSFIELD_58</td>\n      <td>1</td>\n      <td>HARDERSFIELD</td>\n      <td>58</td>\n      <td>Gekkeikan Black &amp; Gold Sake</td>\n      <td>750mL</td>\n      <td>11</td>\n      <td>12.99</td>\n      <td>2016-12-31</td>\n      <td>142.89</td>\n    </tr>\n    <tr>\n      <th>1</th>\n      <td>1_HARDERSFIELD_62</td>\n      <td>1</td>\n      <td>HARDERSFIELD</td>\n      <td>62</td>\n      <td>Herradura Silver Tequila</td>\n      <td>750mL</td>\n      <td>7</td>\n      <td>36.99</td>\n      <td>2016-12-31</td>\n      <td>258.93</td>\n    </tr>\n  </tbody>\n</table>\n</div>"
     },
     "execution_count": 13,
     "metadata": {},
     "output_type": "execute_result"
    }
   ],
   "source": [
    "endInv['InvCost12_31_2016'] = endInv['12__31_2016_Qty'] * endInv['Price']\n",
    "endInv.head(2)"
   ]
  },
  {
   "cell_type": "code",
   "execution_count": 14,
   "id": "1cd42379-a7af-48eb-8e2c-b96b70f544ba",
   "metadata": {},
   "outputs": [
    {
     "data": {
      "text/plain": "       12__31_2016_Qty  InvCost12_31_2016\nStore                                    \n1                79827         1206845.93\n2                56671          850884.06",
      "text/html": "<div>\n<style scoped>\n    .dataframe tbody tr th:only-of-type {\n        vertical-align: middle;\n    }\n\n    .dataframe tbody tr th {\n        vertical-align: top;\n    }\n\n    .dataframe thead th {\n        text-align: right;\n    }\n</style>\n<table border=\"1\" class=\"dataframe\">\n  <thead>\n    <tr style=\"text-align: right;\">\n      <th></th>\n      <th>12__31_2016_Qty</th>\n      <th>InvCost12_31_2016</th>\n    </tr>\n    <tr>\n      <th>Store</th>\n      <th></th>\n      <th></th>\n    </tr>\n  </thead>\n  <tbody>\n    <tr>\n      <th>1</th>\n      <td>79827</td>\n      <td>1206845.93</td>\n    </tr>\n    <tr>\n      <th>2</th>\n      <td>56671</td>\n      <td>850884.06</td>\n    </tr>\n  </tbody>\n</table>\n</div>"
     },
     "execution_count": 14,
     "metadata": {},
     "output_type": "execute_result"
    }
   ],
   "source": [
    "endInv_Store = endInv[['Store','12__31_2016_Qty','InvCost12_31_2016']].groupby('Store').sum()\n",
    "endInv_Store.head(2)"
   ]
  },
  {
   "cell_type": "code",
   "execution_count": 15,
   "id": "08b8b0ae-e47d-4582-8a30-80251351f75e",
   "metadata": {},
   "outputs": [
    {
     "data": {
      "text/plain": "       01_01_2016_Qty  InvCost01_01_2016\nStore                                   \n34             153852         3291170.24\n73             162551         3142497.36\n67             158996         3079578.63\n66             149314         2973033.90\n76             140208         2952418.44\n69             144255         2946726.65\n38             114368         2232698.77\n55             119641         2001263.66\n50              94720         1649808.22\n79              95330         1503149.48",
      "text/html": "<div>\n<style scoped>\n    .dataframe tbody tr th:only-of-type {\n        vertical-align: middle;\n    }\n\n    .dataframe tbody tr th {\n        vertical-align: top;\n    }\n\n    .dataframe thead th {\n        text-align: right;\n    }\n</style>\n<table border=\"1\" class=\"dataframe\">\n  <thead>\n    <tr style=\"text-align: right;\">\n      <th></th>\n      <th>01_01_2016_Qty</th>\n      <th>InvCost01_01_2016</th>\n    </tr>\n    <tr>\n      <th>Store</th>\n      <th></th>\n      <th></th>\n    </tr>\n  </thead>\n  <tbody>\n    <tr>\n      <th>34</th>\n      <td>153852</td>\n      <td>3291170.24</td>\n    </tr>\n    <tr>\n      <th>73</th>\n      <td>162551</td>\n      <td>3142497.36</td>\n    </tr>\n    <tr>\n      <th>67</th>\n      <td>158996</td>\n      <td>3079578.63</td>\n    </tr>\n    <tr>\n      <th>66</th>\n      <td>149314</td>\n      <td>2973033.90</td>\n    </tr>\n    <tr>\n      <th>76</th>\n      <td>140208</td>\n      <td>2952418.44</td>\n    </tr>\n    <tr>\n      <th>69</th>\n      <td>144255</td>\n      <td>2946726.65</td>\n    </tr>\n    <tr>\n      <th>38</th>\n      <td>114368</td>\n      <td>2232698.77</td>\n    </tr>\n    <tr>\n      <th>55</th>\n      <td>119641</td>\n      <td>2001263.66</td>\n    </tr>\n    <tr>\n      <th>50</th>\n      <td>94720</td>\n      <td>1649808.22</td>\n    </tr>\n    <tr>\n      <th>79</th>\n      <td>95330</td>\n      <td>1503149.48</td>\n    </tr>\n  </tbody>\n</table>\n</div>"
     },
     "execution_count": 15,
     "metadata": {},
     "output_type": "execute_result"
    }
   ],
   "source": [
    "begInv_Store.sort_values(by='InvCost01_01_2016',ascending=False).head(10)"
   ]
  },
  {
   "cell_type": "markdown",
   "id": "d76abd9a-d829-440e-a725-856e52d6c726",
   "metadata": {},
   "source": [
    "# Deliverable 2B"
   ]
  },
  {
   "cell_type": "code",
   "execution_count": 16,
   "id": "a7c3e527-3271-4afc-82ff-8ab6beb780f6",
   "metadata": {},
   "outputs": [
    {
     "data": {
      "text/plain": "       12__31_2016_Qty  InvCost12_31_2016\nBrand                                    \n58                 385            5001.15\n60                 146            1604.54",
      "text/html": "<div>\n<style scoped>\n    .dataframe tbody tr th:only-of-type {\n        vertical-align: middle;\n    }\n\n    .dataframe tbody tr th {\n        vertical-align: top;\n    }\n\n    .dataframe thead th {\n        text-align: right;\n    }\n</style>\n<table border=\"1\" class=\"dataframe\">\n  <thead>\n    <tr style=\"text-align: right;\">\n      <th></th>\n      <th>12__31_2016_Qty</th>\n      <th>InvCost12_31_2016</th>\n    </tr>\n    <tr>\n      <th>Brand</th>\n      <th></th>\n      <th></th>\n    </tr>\n  </thead>\n  <tbody>\n    <tr>\n      <th>58</th>\n      <td>385</td>\n      <td>5001.15</td>\n    </tr>\n    <tr>\n      <th>60</th>\n      <td>146</td>\n      <td>1604.54</td>\n    </tr>\n  </tbody>\n</table>\n</div>"
     },
     "execution_count": 16,
     "metadata": {},
     "output_type": "execute_result"
    }
   ],
   "source": [
    "endInv_Brand = endInv[['Brand','12__31_2016_Qty','InvCost12_31_2016']].groupby('Brand').sum()\n",
    "endInv_Brand.head(2)"
   ]
  },
  {
   "cell_type": "code",
   "execution_count": 17,
   "id": "c8bebb4d-cb46-4dd3-8656-394598145072",
   "metadata": {},
   "outputs": [
    {
     "data": {
      "text/plain": "       12__31_2016_Qty  InvCost12_31_2016\nBrand                                    \n1233             15047          526494.53\n3545             16770          502932.30\n2753              7849          470861.51\n8068             15608          366631.92\n3405             12268          355649.32\n4261             16769          351981.31\n2757             11603          336370.97\n2589              7922          300956.78\n1376             13180          276648.20\n2585             10487          272557.13",
      "text/html": "<div>\n<style scoped>\n    .dataframe tbody tr th:only-of-type {\n        vertical-align: middle;\n    }\n\n    .dataframe tbody tr th {\n        vertical-align: top;\n    }\n\n    .dataframe thead th {\n        text-align: right;\n    }\n</style>\n<table border=\"1\" class=\"dataframe\">\n  <thead>\n    <tr style=\"text-align: right;\">\n      <th></th>\n      <th>12__31_2016_Qty</th>\n      <th>InvCost12_31_2016</th>\n    </tr>\n    <tr>\n      <th>Brand</th>\n      <th></th>\n      <th></th>\n    </tr>\n  </thead>\n  <tbody>\n    <tr>\n      <th>1233</th>\n      <td>15047</td>\n      <td>526494.53</td>\n    </tr>\n    <tr>\n      <th>3545</th>\n      <td>16770</td>\n      <td>502932.30</td>\n    </tr>\n    <tr>\n      <th>2753</th>\n      <td>7849</td>\n      <td>470861.51</td>\n    </tr>\n    <tr>\n      <th>8068</th>\n      <td>15608</td>\n      <td>366631.92</td>\n    </tr>\n    <tr>\n      <th>3405</th>\n      <td>12268</td>\n      <td>355649.32</td>\n    </tr>\n    <tr>\n      <th>4261</th>\n      <td>16769</td>\n      <td>351981.31</td>\n    </tr>\n    <tr>\n      <th>2757</th>\n      <td>11603</td>\n      <td>336370.97</td>\n    </tr>\n    <tr>\n      <th>2589</th>\n      <td>7922</td>\n      <td>300956.78</td>\n    </tr>\n    <tr>\n      <th>1376</th>\n      <td>13180</td>\n      <td>276648.20</td>\n    </tr>\n    <tr>\n      <th>2585</th>\n      <td>10487</td>\n      <td>272557.13</td>\n    </tr>\n  </tbody>\n</table>\n</div>"
     },
     "execution_count": 17,
     "metadata": {},
     "output_type": "execute_result"
    }
   ],
   "source": [
    "endInv_Brand.sort_values(by='InvCost12_31_2016',ascending=False).head(10)"
   ]
  },
  {
   "cell_type": "markdown",
   "id": "9e8bdf48-c528-4878-a40a-0664e1856937",
   "metadata": {},
   "source": [
    "# Deliverable 3"
   ]
  },
  {
   "cell_type": "code",
   "execution_count": 18,
   "id": "77eef9c7-b255-457a-9040-2871bc76bfc6",
   "metadata": {},
   "outputs": [
    {
     "data": {
      "text/plain": "         InventoryId  Store          City  Brand                  Description  \\\n0  1_HARDERSFIELD_58      1  HARDERSFIELD     58  Gekkeikan Black & Gold Sake   \n\n    Size  01_01_2016_Qty  Price   startDate  InvCost01_01_2016  \n0  750mL               8  12.99  2016-01-01             103.92  ",
      "text/html": "<div>\n<style scoped>\n    .dataframe tbody tr th:only-of-type {\n        vertical-align: middle;\n    }\n\n    .dataframe tbody tr th {\n        vertical-align: top;\n    }\n\n    .dataframe thead th {\n        text-align: right;\n    }\n</style>\n<table border=\"1\" class=\"dataframe\">\n  <thead>\n    <tr style=\"text-align: right;\">\n      <th></th>\n      <th>InventoryId</th>\n      <th>Store</th>\n      <th>City</th>\n      <th>Brand</th>\n      <th>Description</th>\n      <th>Size</th>\n      <th>01_01_2016_Qty</th>\n      <th>Price</th>\n      <th>startDate</th>\n      <th>InvCost01_01_2016</th>\n    </tr>\n  </thead>\n  <tbody>\n    <tr>\n      <th>0</th>\n      <td>1_HARDERSFIELD_58</td>\n      <td>1</td>\n      <td>HARDERSFIELD</td>\n      <td>58</td>\n      <td>Gekkeikan Black &amp; Gold Sake</td>\n      <td>750mL</td>\n      <td>8</td>\n      <td>12.99</td>\n      <td>2016-01-01</td>\n      <td>103.92</td>\n    </tr>\n  </tbody>\n</table>\n</div>"
     },
     "execution_count": 18,
     "metadata": {},
     "output_type": "execute_result"
    }
   ],
   "source": [
    "begInv.head(1)"
   ]
  },
  {
   "cell_type": "code",
   "execution_count": 19,
   "id": "2672c86c-d1d1-4a8b-bf3a-c11ed0a41045",
   "metadata": {},
   "outputs": [],
   "source": [
    "begInv[\"Total$Value\"] = (begInv[\"Price\"]*begInv[\"01_01_2016_Qty\"])"
   ]
  },
  {
   "cell_type": "code",
   "execution_count": 20,
   "id": "79a2c2ad-c01c-489f-a6cf-b61919675570",
   "metadata": {},
   "outputs": [
    {
     "data": {
      "text/plain": "        01_01_2016_Qty  Total$Value\n0                    8       103.92\n1                    7        76.93\n2                    6       221.94\n3                    3       116.97\n4                    6       209.94\n...                ...          ...\n206524              13       298.87\n206525              13       181.87\n206526              19       455.81\n206527              12      1739.88\n206528              24      2879.76\n\n[206529 rows x 2 columns]",
      "text/html": "<div>\n<style scoped>\n    .dataframe tbody tr th:only-of-type {\n        vertical-align: middle;\n    }\n\n    .dataframe tbody tr th {\n        vertical-align: top;\n    }\n\n    .dataframe thead th {\n        text-align: right;\n    }\n</style>\n<table border=\"1\" class=\"dataframe\">\n  <thead>\n    <tr style=\"text-align: right;\">\n      <th></th>\n      <th>01_01_2016_Qty</th>\n      <th>Total$Value</th>\n    </tr>\n  </thead>\n  <tbody>\n    <tr>\n      <th>0</th>\n      <td>8</td>\n      <td>103.92</td>\n    </tr>\n    <tr>\n      <th>1</th>\n      <td>7</td>\n      <td>76.93</td>\n    </tr>\n    <tr>\n      <th>2</th>\n      <td>6</td>\n      <td>221.94</td>\n    </tr>\n    <tr>\n      <th>3</th>\n      <td>3</td>\n      <td>116.97</td>\n    </tr>\n    <tr>\n      <th>4</th>\n      <td>6</td>\n      <td>209.94</td>\n    </tr>\n    <tr>\n      <th>...</th>\n      <td>...</td>\n      <td>...</td>\n    </tr>\n    <tr>\n      <th>206524</th>\n      <td>13</td>\n      <td>298.87</td>\n    </tr>\n    <tr>\n      <th>206525</th>\n      <td>13</td>\n      <td>181.87</td>\n    </tr>\n    <tr>\n      <th>206526</th>\n      <td>19</td>\n      <td>455.81</td>\n    </tr>\n    <tr>\n      <th>206527</th>\n      <td>12</td>\n      <td>1739.88</td>\n    </tr>\n    <tr>\n      <th>206528</th>\n      <td>24</td>\n      <td>2879.76</td>\n    </tr>\n  </tbody>\n</table>\n<p>206529 rows × 2 columns</p>\n</div>"
     },
     "execution_count": 20,
     "metadata": {},
     "output_type": "execute_result"
    }
   ],
   "source": [
    "begInv[[\"01_01_2016_Qty\",\"Total$Value\"]]"
   ]
  },
  {
   "cell_type": "code",
   "execution_count": 21,
   "id": "43501a02-5390-4417-9bb5-599026c31f17",
   "metadata": {},
   "outputs": [
    {
     "data": {
      "text/plain": "         InventoryId  Store          City  Brand                  Description  \\\n0  1_HARDERSFIELD_58      1  HARDERSFIELD     58  Gekkeikan Black & Gold Sake   \n\n    Size  12__31_2016_Qty  Price     endDate  InvCost12_31_2016  \n0  750mL               11  12.99  2016-12-31             142.89  ",
      "text/html": "<div>\n<style scoped>\n    .dataframe tbody tr th:only-of-type {\n        vertical-align: middle;\n    }\n\n    .dataframe tbody tr th {\n        vertical-align: top;\n    }\n\n    .dataframe thead th {\n        text-align: right;\n    }\n</style>\n<table border=\"1\" class=\"dataframe\">\n  <thead>\n    <tr style=\"text-align: right;\">\n      <th></th>\n      <th>InventoryId</th>\n      <th>Store</th>\n      <th>City</th>\n      <th>Brand</th>\n      <th>Description</th>\n      <th>Size</th>\n      <th>12__31_2016_Qty</th>\n      <th>Price</th>\n      <th>endDate</th>\n      <th>InvCost12_31_2016</th>\n    </tr>\n  </thead>\n  <tbody>\n    <tr>\n      <th>0</th>\n      <td>1_HARDERSFIELD_58</td>\n      <td>1</td>\n      <td>HARDERSFIELD</td>\n      <td>58</td>\n      <td>Gekkeikan Black &amp; Gold Sake</td>\n      <td>750mL</td>\n      <td>11</td>\n      <td>12.99</td>\n      <td>2016-12-31</td>\n      <td>142.89</td>\n    </tr>\n  </tbody>\n</table>\n</div>"
     },
     "execution_count": 21,
     "metadata": {},
     "output_type": "execute_result"
    }
   ],
   "source": [
    "endInv.head(1)"
   ]
  },
  {
   "cell_type": "code",
   "execution_count": 22,
   "id": "abfbdd61-a37d-4c93-86b9-d737fac3da80",
   "metadata": {},
   "outputs": [],
   "source": [
    "endInv[\"Total$Value\"] = (endInv[\"Price\"]*endInv[\"12__31_2016_Qty\"])"
   ]
  },
  {
   "cell_type": "code",
   "execution_count": 23,
   "id": "e3e12547-9069-43dd-b733-e2cc79966679",
   "metadata": {},
   "outputs": [
    {
     "data": {
      "text/plain": "        12__31_2016_Qty  Total$Value\n0                    11       142.89\n1                     7       258.93\n2                     7       272.93\n3                     4       139.96\n4                     7       104.93\n...                 ...          ...\n224484                3      1409.97\n224485                3       404.97\n224486                3       359.97\n224487                3      1949.97\n224488                2       239.98\n\n[224489 rows x 2 columns]",
      "text/html": "<div>\n<style scoped>\n    .dataframe tbody tr th:only-of-type {\n        vertical-align: middle;\n    }\n\n    .dataframe tbody tr th {\n        vertical-align: top;\n    }\n\n    .dataframe thead th {\n        text-align: right;\n    }\n</style>\n<table border=\"1\" class=\"dataframe\">\n  <thead>\n    <tr style=\"text-align: right;\">\n      <th></th>\n      <th>12__31_2016_Qty</th>\n      <th>Total$Value</th>\n    </tr>\n  </thead>\n  <tbody>\n    <tr>\n      <th>0</th>\n      <td>11</td>\n      <td>142.89</td>\n    </tr>\n    <tr>\n      <th>1</th>\n      <td>7</td>\n      <td>258.93</td>\n    </tr>\n    <tr>\n      <th>2</th>\n      <td>7</td>\n      <td>272.93</td>\n    </tr>\n    <tr>\n      <th>3</th>\n      <td>4</td>\n      <td>139.96</td>\n    </tr>\n    <tr>\n      <th>4</th>\n      <td>7</td>\n      <td>104.93</td>\n    </tr>\n    <tr>\n      <th>...</th>\n      <td>...</td>\n      <td>...</td>\n    </tr>\n    <tr>\n      <th>224484</th>\n      <td>3</td>\n      <td>1409.97</td>\n    </tr>\n    <tr>\n      <th>224485</th>\n      <td>3</td>\n      <td>404.97</td>\n    </tr>\n    <tr>\n      <th>224486</th>\n      <td>3</td>\n      <td>359.97</td>\n    </tr>\n    <tr>\n      <th>224487</th>\n      <td>3</td>\n      <td>1949.97</td>\n    </tr>\n    <tr>\n      <th>224488</th>\n      <td>2</td>\n      <td>239.98</td>\n    </tr>\n  </tbody>\n</table>\n<p>224489 rows × 2 columns</p>\n</div>"
     },
     "execution_count": 23,
     "metadata": {},
     "output_type": "execute_result"
    }
   ],
   "source": [
    "endInv[[\"12__31_2016_Qty\",\"Total$Value\"]]"
   ]
  },
  {
   "cell_type": "code",
   "execution_count": 24,
   "id": "14af35cd-7773-49f9-acc6-81028d94b8ca",
   "metadata": {
    "ExecuteTime": {
     "end_time": "2024-05-13T18:27:34.619706400Z",
     "start_time": "2024-05-13T18:27:34.582805Z"
    }
   },
   "outputs": [
    {
     "data": {
      "text/plain": "       InventoryId  Store_x   City_x  Brand_x               Description_x  \\\n0  10_HORNSEY_1000     10.0  HORNSEY   1000.0  Goslings Dark'n Stormy VAP   \n\n  Size_x  01_01_2016_Qty  Price_x   startDate  InvCost01_01_2016  ...  \\\n0  750mL             1.0    14.99  2016-01-01              14.99  ...   \n\n   Store_y  City_y Brand_y  Description_y Size_y 12__31_2016_Qty  Price_y  \\\n0      NaN     NaN     NaN            NaN    NaN             NaN      NaN   \n\n   endDate InvCost12_31_2016  Total$Value_y  \n0      NaN               NaN            NaN  \n\n[1 rows x 21 columns]",
      "text/html": "<div>\n<style scoped>\n    .dataframe tbody tr th:only-of-type {\n        vertical-align: middle;\n    }\n\n    .dataframe tbody tr th {\n        vertical-align: top;\n    }\n\n    .dataframe thead th {\n        text-align: right;\n    }\n</style>\n<table border=\"1\" class=\"dataframe\">\n  <thead>\n    <tr style=\"text-align: right;\">\n      <th></th>\n      <th>InventoryId</th>\n      <th>Store_x</th>\n      <th>City_x</th>\n      <th>Brand_x</th>\n      <th>Description_x</th>\n      <th>Size_x</th>\n      <th>01_01_2016_Qty</th>\n      <th>Price_x</th>\n      <th>startDate</th>\n      <th>InvCost01_01_2016</th>\n      <th>...</th>\n      <th>Store_y</th>\n      <th>City_y</th>\n      <th>Brand_y</th>\n      <th>Description_y</th>\n      <th>Size_y</th>\n      <th>12__31_2016_Qty</th>\n      <th>Price_y</th>\n      <th>endDate</th>\n      <th>InvCost12_31_2016</th>\n      <th>Total$Value_y</th>\n    </tr>\n  </thead>\n  <tbody>\n    <tr>\n      <th>0</th>\n      <td>10_HORNSEY_1000</td>\n      <td>10.0</td>\n      <td>HORNSEY</td>\n      <td>1000.0</td>\n      <td>Goslings Dark'n Stormy VAP</td>\n      <td>750mL</td>\n      <td>1.0</td>\n      <td>14.99</td>\n      <td>2016-01-01</td>\n      <td>14.99</td>\n      <td>...</td>\n      <td>NaN</td>\n      <td>NaN</td>\n      <td>NaN</td>\n      <td>NaN</td>\n      <td>NaN</td>\n      <td>NaN</td>\n      <td>NaN</td>\n      <td>NaN</td>\n      <td>NaN</td>\n      <td>NaN</td>\n    </tr>\n  </tbody>\n</table>\n<p>1 rows × 21 columns</p>\n</div>"
     },
     "execution_count": 24,
     "metadata": {},
     "output_type": "execute_result"
    }
   ],
   "source": [
    "Table1 = pd.merge(left = begInv, right = endInv, how = \"outer\", on = \"InventoryId\")\n",
    "Table1.head(1)"
   ]
  },
  {
   "cell_type": "code",
   "execution_count": 25,
   "id": "5d162835-6084-442b-82e2-955b6f09c38e",
   "metadata": {
    "ExecuteTime": {
     "end_time": "2024-05-13T18:27:34.790252300Z",
     "start_time": "2024-05-13T18:27:34.587791600Z"
    }
   },
   "outputs": [],
   "source": [
    "Table1 = Table1.rename(columns = {'01_01_2016_Qty':'Beginning Quantity'})\n",
    "Table1 = Table1.rename(columns = {'Total$Value_x':'Beginning Total $'})\n",
    "Table1 = Table1.rename(columns = {'12__31_2016_Qty':'Ending Quantity'})\n",
    "Table1 = Table1.rename(columns = {'Total$Value_y':'Ending Total $'})"
   ]
  },
  {
   "cell_type": "code",
   "execution_count": 26,
   "id": "54d99a57-6fa8-4c28-a368-7be83e281304",
   "metadata": {
    "ExecuteTime": {
     "end_time": "2024-05-13T18:27:34.816180300Z",
     "start_time": "2024-05-13T18:27:34.591781100Z"
    }
   },
   "outputs": [
    {
     "data": {
      "text/plain": "             InventoryId  Beginning Quantity  Beginning Total $  \\\n0        10_HORNSEY_1000                 1.0              14.99   \n1        10_HORNSEY_1001                11.0              65.89   \n2        10_HORNSEY_1003                 NaN                NaN   \n3        10_HORNSEY_1005                18.0             629.82   \n4       10_HORNSEY_10058                52.0             779.48   \n...                  ...                 ...                ...   \n256037  9_BLACKPOOL_9388                 7.0             167.93   \n256038   9_BLACKPOOL_942                 NaN                NaN   \n256039   9_BLACKPOOL_966                 8.0             167.92   \n256040   9_BLACKPOOL_984                23.0             597.77   \n256041   9_BLACKPOOL_999                 0.0               0.00   \n\n        Ending Quantity  Ending Total $  \n0                   NaN             NaN  \n1                   0.0            0.00  \n2                  73.0         1678.27  \n3                   NaN             NaN  \n4                  24.0          359.76  \n...                 ...             ...  \n256037              4.0           95.96  \n256038              2.0          123.98  \n256039              9.0          188.91  \n256040              5.0          129.95  \n256041              NaN             NaN  \n\n[256042 rows x 5 columns]",
      "text/html": "<div>\n<style scoped>\n    .dataframe tbody tr th:only-of-type {\n        vertical-align: middle;\n    }\n\n    .dataframe tbody tr th {\n        vertical-align: top;\n    }\n\n    .dataframe thead th {\n        text-align: right;\n    }\n</style>\n<table border=\"1\" class=\"dataframe\">\n  <thead>\n    <tr style=\"text-align: right;\">\n      <th></th>\n      <th>InventoryId</th>\n      <th>Beginning Quantity</th>\n      <th>Beginning Total $</th>\n      <th>Ending Quantity</th>\n      <th>Ending Total $</th>\n    </tr>\n  </thead>\n  <tbody>\n    <tr>\n      <th>0</th>\n      <td>10_HORNSEY_1000</td>\n      <td>1.0</td>\n      <td>14.99</td>\n      <td>NaN</td>\n      <td>NaN</td>\n    </tr>\n    <tr>\n      <th>1</th>\n      <td>10_HORNSEY_1001</td>\n      <td>11.0</td>\n      <td>65.89</td>\n      <td>0.0</td>\n      <td>0.00</td>\n    </tr>\n    <tr>\n      <th>2</th>\n      <td>10_HORNSEY_1003</td>\n      <td>NaN</td>\n      <td>NaN</td>\n      <td>73.0</td>\n      <td>1678.27</td>\n    </tr>\n    <tr>\n      <th>3</th>\n      <td>10_HORNSEY_1005</td>\n      <td>18.0</td>\n      <td>629.82</td>\n      <td>NaN</td>\n      <td>NaN</td>\n    </tr>\n    <tr>\n      <th>4</th>\n      <td>10_HORNSEY_10058</td>\n      <td>52.0</td>\n      <td>779.48</td>\n      <td>24.0</td>\n      <td>359.76</td>\n    </tr>\n    <tr>\n      <th>...</th>\n      <td>...</td>\n      <td>...</td>\n      <td>...</td>\n      <td>...</td>\n      <td>...</td>\n    </tr>\n    <tr>\n      <th>256037</th>\n      <td>9_BLACKPOOL_9388</td>\n      <td>7.0</td>\n      <td>167.93</td>\n      <td>4.0</td>\n      <td>95.96</td>\n    </tr>\n    <tr>\n      <th>256038</th>\n      <td>9_BLACKPOOL_942</td>\n      <td>NaN</td>\n      <td>NaN</td>\n      <td>2.0</td>\n      <td>123.98</td>\n    </tr>\n    <tr>\n      <th>256039</th>\n      <td>9_BLACKPOOL_966</td>\n      <td>8.0</td>\n      <td>167.92</td>\n      <td>9.0</td>\n      <td>188.91</td>\n    </tr>\n    <tr>\n      <th>256040</th>\n      <td>9_BLACKPOOL_984</td>\n      <td>23.0</td>\n      <td>597.77</td>\n      <td>5.0</td>\n      <td>129.95</td>\n    </tr>\n    <tr>\n      <th>256041</th>\n      <td>9_BLACKPOOL_999</td>\n      <td>0.0</td>\n      <td>0.00</td>\n      <td>NaN</td>\n      <td>NaN</td>\n    </tr>\n  </tbody>\n</table>\n<p>256042 rows × 5 columns</p>\n</div>"
     },
     "execution_count": 26,
     "metadata": {},
     "output_type": "execute_result"
    }
   ],
   "source": [
    "Table1[[\"InventoryId\",\"Beginning Quantity\",\"Beginning Total $\",\"Ending Quantity\",\"Ending Total $\"]]"
   ]
  },
  {
   "cell_type": "markdown",
   "id": "46801f48-1559-442d-843e-16ebd8539544",
   "metadata": {},
   "source": [
    "# Deliverable 4A"
   ]
  },
  {
   "cell_type": "code",
   "execution_count": 27,
   "id": "9deff16c-4b32-40b5-8a8d-58b297b6001e",
   "metadata": {
    "ExecuteTime": {
     "end_time": "2024-05-13T18:27:38.776180500Z",
     "start_time": "2024-05-13T18:27:34.598761900Z"
    }
   },
   "outputs": [
    {
     "data": {
      "text/plain": "         InventoryId  Store  Brand                Description   Size  \\\n0  69_MOUNTMEND_8412     69   8412  Tequila Ocho Plata Fresno  750mL   \n\n   VendorNumber                   VendorName  PONumber      PODate  \\\n0           105  ALTAMAR BRANDS LLC               8124  2015-12-21   \n\n  ReceivingDate InvoiceDate     PayDate  PurchasePrice  Quantity  Dollars  \\\n0    2016-01-02  2016-01-04  2016-02-16          35.71         6   214.26   \n\n   Classification  \n0               1  ",
      "text/html": "<div>\n<style scoped>\n    .dataframe tbody tr th:only-of-type {\n        vertical-align: middle;\n    }\n\n    .dataframe tbody tr th {\n        vertical-align: top;\n    }\n\n    .dataframe thead th {\n        text-align: right;\n    }\n</style>\n<table border=\"1\" class=\"dataframe\">\n  <thead>\n    <tr style=\"text-align: right;\">\n      <th></th>\n      <th>InventoryId</th>\n      <th>Store</th>\n      <th>Brand</th>\n      <th>Description</th>\n      <th>Size</th>\n      <th>VendorNumber</th>\n      <th>VendorName</th>\n      <th>PONumber</th>\n      <th>PODate</th>\n      <th>ReceivingDate</th>\n      <th>InvoiceDate</th>\n      <th>PayDate</th>\n      <th>PurchasePrice</th>\n      <th>Quantity</th>\n      <th>Dollars</th>\n      <th>Classification</th>\n    </tr>\n  </thead>\n  <tbody>\n    <tr>\n      <th>0</th>\n      <td>69_MOUNTMEND_8412</td>\n      <td>69</td>\n      <td>8412</td>\n      <td>Tequila Ocho Plata Fresno</td>\n      <td>750mL</td>\n      <td>105</td>\n      <td>ALTAMAR BRANDS LLC</td>\n      <td>8124</td>\n      <td>2015-12-21</td>\n      <td>2016-01-02</td>\n      <td>2016-01-04</td>\n      <td>2016-02-16</td>\n      <td>35.71</td>\n      <td>6</td>\n      <td>214.26</td>\n      <td>1</td>\n    </tr>\n  </tbody>\n</table>\n</div>"
     },
     "execution_count": 27,
     "metadata": {},
     "output_type": "execute_result"
    }
   ],
   "source": [
    "Most_Sold = pd.read_csv(\"PurchasesFINAL12-31-16Sample.csv\")\n",
    "Most_Sold.head(1)"
   ]
  },
  {
   "cell_type": "code",
   "execution_count": 28,
   "id": "d58c31af-f6a5-4a36-9713-826cec7bb3a0",
   "metadata": {
    "ExecuteTime": {
     "end_time": "2024-05-13T18:27:39.009712800Z",
     "start_time": "2024-05-13T18:27:38.777177700Z"
    }
   },
   "outputs": [
    {
     "data": {
      "text/plain": "                                              Dollars\nVendorNumber VendorName                              \n3960         DIAGEO NORTH AMERICA INC     21315299.75\n4425         MARTIGNETTI COMPANIES        11709222.19\n12546        JIM BEAM BRANDS COMPANY      10232521.65\n17035        PERNOD RICARD USA            10224899.93\n480          BACARDI USA INC               7420630.63\n1392         CONSTELLATION BRANDS INC      6584032.72\n1128         BROWN-FORMAN CORP             5719375.62\n9165         ULTRA BEVERAGE COMPANY LLP    5545766.29\n3252         E & J GALLO WINERY            5177067.61\n9552         M S WALKER INC                4647908.17",
      "text/html": "<div>\n<style scoped>\n    .dataframe tbody tr th:only-of-type {\n        vertical-align: middle;\n    }\n\n    .dataframe tbody tr th {\n        vertical-align: top;\n    }\n\n    .dataframe thead th {\n        text-align: right;\n    }\n</style>\n<table border=\"1\" class=\"dataframe\">\n  <thead>\n    <tr style=\"text-align: right;\">\n      <th></th>\n      <th></th>\n      <th>Dollars</th>\n    </tr>\n    <tr>\n      <th>VendorNumber</th>\n      <th>VendorName</th>\n      <th></th>\n    </tr>\n  </thead>\n  <tbody>\n    <tr>\n      <th>3960</th>\n      <th>DIAGEO NORTH AMERICA INC</th>\n      <td>21315299.75</td>\n    </tr>\n    <tr>\n      <th>4425</th>\n      <th>MARTIGNETTI COMPANIES</th>\n      <td>11709222.19</td>\n    </tr>\n    <tr>\n      <th>12546</th>\n      <th>JIM BEAM BRANDS COMPANY</th>\n      <td>10232521.65</td>\n    </tr>\n    <tr>\n      <th>17035</th>\n      <th>PERNOD RICARD USA</th>\n      <td>10224899.93</td>\n    </tr>\n    <tr>\n      <th>480</th>\n      <th>BACARDI USA INC</th>\n      <td>7420630.63</td>\n    </tr>\n    <tr>\n      <th>1392</th>\n      <th>CONSTELLATION BRANDS INC</th>\n      <td>6584032.72</td>\n    </tr>\n    <tr>\n      <th>1128</th>\n      <th>BROWN-FORMAN CORP</th>\n      <td>5719375.62</td>\n    </tr>\n    <tr>\n      <th>9165</th>\n      <th>ULTRA BEVERAGE COMPANY LLP</th>\n      <td>5545766.29</td>\n    </tr>\n    <tr>\n      <th>3252</th>\n      <th>E &amp; J GALLO WINERY</th>\n      <td>5177067.61</td>\n    </tr>\n    <tr>\n      <th>9552</th>\n      <th>M S WALKER INC</th>\n      <td>4647908.17</td>\n    </tr>\n  </tbody>\n</table>\n</div>"
     },
     "execution_count": 28,
     "metadata": {},
     "output_type": "execute_result"
    }
   ],
   "source": [
    "Most_Sold1 = Most_Sold[['VendorNumber','VendorName','Dollars']].groupby([\"VendorNumber\", \"VendorName\"]).sum().sort_values(by=\"Dollars\", ascending=False)\n",
    "Most_Sold1.head(10)"
   ]
  },
  {
   "cell_type": "markdown",
   "id": "c29ca692-8b1d-4992-8ebc-6ed67ffad863",
   "metadata": {},
   "source": [
    "# Deliverable 4B"
   ]
  },
  {
   "cell_type": "code",
   "execution_count": 29,
   "id": "81b556c7-232d-4be4-99e2-8d6804d4b18f",
   "metadata": {
    "ExecuteTime": {
     "end_time": "2024-05-13T18:27:39.048608600Z",
     "start_time": "2024-05-13T18:27:38.854651500Z"
    }
   },
   "outputs": [
    {
     "data": {
      "text/plain": "   VendorNumber                   VendorName InvoiceDate  PONumber  \\\n0           105  ALTAMAR BRANDS LLC           2016-01-04      8124   \n\n       PODate     PayDate  Quantity  Dollars  Freight Approval  \n0  2015-12-21  2016-02-16         6   214.26     3.47      NaN  ",
      "text/html": "<div>\n<style scoped>\n    .dataframe tbody tr th:only-of-type {\n        vertical-align: middle;\n    }\n\n    .dataframe tbody tr th {\n        vertical-align: top;\n    }\n\n    .dataframe thead th {\n        text-align: right;\n    }\n</style>\n<table border=\"1\" class=\"dataframe\">\n  <thead>\n    <tr style=\"text-align: right;\">\n      <th></th>\n      <th>VendorNumber</th>\n      <th>VendorName</th>\n      <th>InvoiceDate</th>\n      <th>PONumber</th>\n      <th>PODate</th>\n      <th>PayDate</th>\n      <th>Quantity</th>\n      <th>Dollars</th>\n      <th>Freight</th>\n      <th>Approval</th>\n    </tr>\n  </thead>\n  <tbody>\n    <tr>\n      <th>0</th>\n      <td>105</td>\n      <td>ALTAMAR BRANDS LLC</td>\n      <td>2016-01-04</td>\n      <td>8124</td>\n      <td>2015-12-21</td>\n      <td>2016-02-16</td>\n      <td>6</td>\n      <td>214.26</td>\n      <td>3.47</td>\n      <td>NaN</td>\n    </tr>\n  </tbody>\n</table>\n</div>"
     },
     "execution_count": 29,
     "metadata": {},
     "output_type": "execute_result"
    }
   ],
   "source": [
    "Most_Freight = pd.read_csv(\"InvoicePurchases12312016.csv\")\n",
    "Most_Freight.head(1)"
   ]
  },
  {
   "cell_type": "code",
   "execution_count": 30,
   "id": "b5b5bf8a-afa1-4e28-b0ef-f502b6b83303",
   "metadata": {
    "ExecuteTime": {
     "end_time": "2024-05-13T18:27:39.098445700Z",
     "start_time": "2024-05-13T18:27:38.921873100Z"
    }
   },
   "outputs": [
    {
     "data": {
      "text/plain": "                                            Freight\nVendorNumber VendorName                            \n3960         DIAGEO NORTH AMERICA INC     257032.07\n4425         MARTIGNETTI COMPANIES        144719.92\n12546        JIM BEAM BRANDS COMPANY      123880.97\n17035        PERNOD RICARD USA            123780.22\n480          BACARDI USA INC               89286.27\n1392         CONSTELLATION BRANDS INC      79528.99\n1128         BROWN-FORMAN CORP             68601.68\n9165         ULTRA BEVERAGE COMPANY LLP    68054.70\n3252         E & J GALLO WINERY            61966.91\n9552         M S WALKER INC                55551.82",
      "text/html": "<div>\n<style scoped>\n    .dataframe tbody tr th:only-of-type {\n        vertical-align: middle;\n    }\n\n    .dataframe tbody tr th {\n        vertical-align: top;\n    }\n\n    .dataframe thead th {\n        text-align: right;\n    }\n</style>\n<table border=\"1\" class=\"dataframe\">\n  <thead>\n    <tr style=\"text-align: right;\">\n      <th></th>\n      <th></th>\n      <th>Freight</th>\n    </tr>\n    <tr>\n      <th>VendorNumber</th>\n      <th>VendorName</th>\n      <th></th>\n    </tr>\n  </thead>\n  <tbody>\n    <tr>\n      <th>3960</th>\n      <th>DIAGEO NORTH AMERICA INC</th>\n      <td>257032.07</td>\n    </tr>\n    <tr>\n      <th>4425</th>\n      <th>MARTIGNETTI COMPANIES</th>\n      <td>144719.92</td>\n    </tr>\n    <tr>\n      <th>12546</th>\n      <th>JIM BEAM BRANDS COMPANY</th>\n      <td>123880.97</td>\n    </tr>\n    <tr>\n      <th>17035</th>\n      <th>PERNOD RICARD USA</th>\n      <td>123780.22</td>\n    </tr>\n    <tr>\n      <th>480</th>\n      <th>BACARDI USA INC</th>\n      <td>89286.27</td>\n    </tr>\n    <tr>\n      <th>1392</th>\n      <th>CONSTELLATION BRANDS INC</th>\n      <td>79528.99</td>\n    </tr>\n    <tr>\n      <th>1128</th>\n      <th>BROWN-FORMAN CORP</th>\n      <td>68601.68</td>\n    </tr>\n    <tr>\n      <th>9165</th>\n      <th>ULTRA BEVERAGE COMPANY LLP</th>\n      <td>68054.70</td>\n    </tr>\n    <tr>\n      <th>3252</th>\n      <th>E &amp; J GALLO WINERY</th>\n      <td>61966.91</td>\n    </tr>\n    <tr>\n      <th>9552</th>\n      <th>M S WALKER INC</th>\n      <td>55551.82</td>\n    </tr>\n  </tbody>\n</table>\n</div>"
     },
     "execution_count": 30,
     "metadata": {},
     "output_type": "execute_result"
    }
   ],
   "source": [
    "Most_Freight1 = Most_Freight[[\"VendorNumber\", \"VendorName\",\"Freight\"]].groupby([\"VendorNumber\", \"VendorName\"]).sum().sort_values(by=\"Freight\", ascending=False)\n",
    "Most_Freight1.head(10)"
   ]
  },
  {
   "cell_type": "markdown",
   "id": "98b6ccdf-48be-4b65-9875-a9d2b99a0190",
   "metadata": {},
   "source": [
    "# Deliverable 4C"
   ]
  },
  {
   "cell_type": "code",
   "execution_count": 31,
   "id": "fac408cc-6d03-4200-9716-bf67eba0748f",
   "metadata": {
    "ExecuteTime": {
     "end_time": "2024-05-13T18:27:39.100440200Z",
     "start_time": "2024-05-13T18:27:39.009712800Z"
    }
   },
   "outputs": [
    {
     "data": {
      "text/plain": "                                 Dollars    Freight\nVendorName                                         \nDIAGEO NORTH AMERICA INC     21315299.75  257032.07",
      "text/html": "<div>\n<style scoped>\n    .dataframe tbody tr th:only-of-type {\n        vertical-align: middle;\n    }\n\n    .dataframe tbody tr th {\n        vertical-align: top;\n    }\n\n    .dataframe thead th {\n        text-align: right;\n    }\n</style>\n<table border=\"1\" class=\"dataframe\">\n  <thead>\n    <tr style=\"text-align: right;\">\n      <th></th>\n      <th>Dollars</th>\n      <th>Freight</th>\n    </tr>\n    <tr>\n      <th>VendorName</th>\n      <th></th>\n      <th></th>\n    </tr>\n  </thead>\n  <tbody>\n    <tr>\n      <th>DIAGEO NORTH AMERICA INC</th>\n      <td>21315299.75</td>\n      <td>257032.07</td>\n    </tr>\n  </tbody>\n</table>\n</div>"
     },
     "execution_count": 31,
     "metadata": {},
     "output_type": "execute_result"
    }
   ],
   "source": [
    "Freight_Purchase = pd.merge(left = Most_Sold1, right = Most_Freight1, how = \"inner\", on = [\"VendorName\"])\n",
    "Freight_Purchase.head(1)"
   ]
  },
  {
   "cell_type": "code",
   "execution_count": 32,
   "id": "29ec2f2c-80aa-403a-b20b-d3ec471edf26",
   "metadata": {
    "ExecuteTime": {
     "end_time": "2024-05-13T18:27:39.101438100Z",
     "start_time": "2024-05-13T18:27:39.028663600Z"
    }
   },
   "outputs": [
    {
     "data": {
      "text/plain": "                                 Dollars    Freight  Freight per $ Purchased\nVendorName                                                                  \nDIAGEO NORTH AMERICA INC     21315299.75  257032.07                82.928561\nMARTIGNETTI COMPANIES        11709222.19  144719.92                80.909540\nJIM BEAM BRANDS COMPANY      10232521.65  123880.97                82.599625\nPERNOD RICARD USA            10224899.93  123780.22                82.605282\nBACARDI USA INC               7420630.63   89286.27                83.110546\nCONSTELLATION BRANDS INC      6584032.72   79528.99                82.787833\nBROWN-FORMAN CORP             5719375.62   68601.68                83.370781\nULTRA BEVERAGE COMPANY LLP    5545766.29   68054.70                81.489835\nE & J GALLO WINERY            5177067.61   61966.91                83.545680\nM S WALKER INC                4647908.17   55551.82                83.667973",
      "text/html": "<div>\n<style scoped>\n    .dataframe tbody tr th:only-of-type {\n        vertical-align: middle;\n    }\n\n    .dataframe tbody tr th {\n        vertical-align: top;\n    }\n\n    .dataframe thead th {\n        text-align: right;\n    }\n</style>\n<table border=\"1\" class=\"dataframe\">\n  <thead>\n    <tr style=\"text-align: right;\">\n      <th></th>\n      <th>Dollars</th>\n      <th>Freight</th>\n      <th>Freight per $ Purchased</th>\n    </tr>\n    <tr>\n      <th>VendorName</th>\n      <th></th>\n      <th></th>\n      <th></th>\n    </tr>\n  </thead>\n  <tbody>\n    <tr>\n      <th>DIAGEO NORTH AMERICA INC</th>\n      <td>21315299.75</td>\n      <td>257032.07</td>\n      <td>82.928561</td>\n    </tr>\n    <tr>\n      <th>MARTIGNETTI COMPANIES</th>\n      <td>11709222.19</td>\n      <td>144719.92</td>\n      <td>80.909540</td>\n    </tr>\n    <tr>\n      <th>JIM BEAM BRANDS COMPANY</th>\n      <td>10232521.65</td>\n      <td>123880.97</td>\n      <td>82.599625</td>\n    </tr>\n    <tr>\n      <th>PERNOD RICARD USA</th>\n      <td>10224899.93</td>\n      <td>123780.22</td>\n      <td>82.605282</td>\n    </tr>\n    <tr>\n      <th>BACARDI USA INC</th>\n      <td>7420630.63</td>\n      <td>89286.27</td>\n      <td>83.110546</td>\n    </tr>\n    <tr>\n      <th>CONSTELLATION BRANDS INC</th>\n      <td>6584032.72</td>\n      <td>79528.99</td>\n      <td>82.787833</td>\n    </tr>\n    <tr>\n      <th>BROWN-FORMAN CORP</th>\n      <td>5719375.62</td>\n      <td>68601.68</td>\n      <td>83.370781</td>\n    </tr>\n    <tr>\n      <th>ULTRA BEVERAGE COMPANY LLP</th>\n      <td>5545766.29</td>\n      <td>68054.70</td>\n      <td>81.489835</td>\n    </tr>\n    <tr>\n      <th>E &amp; J GALLO WINERY</th>\n      <td>5177067.61</td>\n      <td>61966.91</td>\n      <td>83.545680</td>\n    </tr>\n    <tr>\n      <th>M S WALKER INC</th>\n      <td>4647908.17</td>\n      <td>55551.82</td>\n      <td>83.667973</td>\n    </tr>\n  </tbody>\n</table>\n</div>"
     },
     "execution_count": 32,
     "metadata": {},
     "output_type": "execute_result"
    }
   ],
   "source": [
    "Freight_Purchase[\"Freight per $ Purchased\"] = (Freight_Purchase[\"Dollars\"]/Freight_Purchase[\"Freight\"])\n",
    "Freight_Purchase.head(10)"
   ]
  },
  {
   "cell_type": "code",
   "execution_count": 33,
   "id": "0541c9de-bd46-4e6f-8a36-ab20b6432ba9",
   "metadata": {
    "ExecuteTime": {
     "end_time": "2024-05-13T18:27:39.486487400Z",
     "start_time": "2024-05-13T18:27:39.049606100Z"
    }
   },
   "outputs": [
    {
     "data": {
      "text/plain": "                                Dollars   Freight  Freight per $ Purchased\nVendorName                                                                \nSIDNEY FRANK IMPORTING CO     743030.40   8549.55                86.908714\nTREASURY WINE ESTATES        1269997.73  14836.57                85.599147\nLUXCO INC                     878296.35  10261.60                85.590585\nDISARONNO INTERNATIONAL LLC   498383.55   5861.03                85.033441\nPALM BAY INTERNATIONAL INC   1151691.22  13605.41                84.649505\nCAMPARI AMERICA              1774103.48  20964.81                84.622922\nSTOLI GROUP,(USA) LLC        1566222.85  18544.49                84.457586\nSHAW ROSS INT L IMP LTD       265556.41   3151.92                84.252268\nCASTLE BRANDS CORP.           715833.33   8497.59                84.239570\nFREDERICK WILDMAN & SONS      336914.82   3999.93                84.230179",
      "text/html": "<div>\n<style scoped>\n    .dataframe tbody tr th:only-of-type {\n        vertical-align: middle;\n    }\n\n    .dataframe tbody tr th {\n        vertical-align: top;\n    }\n\n    .dataframe thead th {\n        text-align: right;\n    }\n</style>\n<table border=\"1\" class=\"dataframe\">\n  <thead>\n    <tr style=\"text-align: right;\">\n      <th></th>\n      <th>Dollars</th>\n      <th>Freight</th>\n      <th>Freight per $ Purchased</th>\n    </tr>\n    <tr>\n      <th>VendorName</th>\n      <th></th>\n      <th></th>\n      <th></th>\n    </tr>\n  </thead>\n  <tbody>\n    <tr>\n      <th>SIDNEY FRANK IMPORTING CO</th>\n      <td>743030.40</td>\n      <td>8549.55</td>\n      <td>86.908714</td>\n    </tr>\n    <tr>\n      <th>TREASURY WINE ESTATES</th>\n      <td>1269997.73</td>\n      <td>14836.57</td>\n      <td>85.599147</td>\n    </tr>\n    <tr>\n      <th>LUXCO INC</th>\n      <td>878296.35</td>\n      <td>10261.60</td>\n      <td>85.590585</td>\n    </tr>\n    <tr>\n      <th>DISARONNO INTERNATIONAL LLC</th>\n      <td>498383.55</td>\n      <td>5861.03</td>\n      <td>85.033441</td>\n    </tr>\n    <tr>\n      <th>PALM BAY INTERNATIONAL INC</th>\n      <td>1151691.22</td>\n      <td>13605.41</td>\n      <td>84.649505</td>\n    </tr>\n    <tr>\n      <th>CAMPARI AMERICA</th>\n      <td>1774103.48</td>\n      <td>20964.81</td>\n      <td>84.622922</td>\n    </tr>\n    <tr>\n      <th>STOLI GROUP,(USA) LLC</th>\n      <td>1566222.85</td>\n      <td>18544.49</td>\n      <td>84.457586</td>\n    </tr>\n    <tr>\n      <th>SHAW ROSS INT L IMP LTD</th>\n      <td>265556.41</td>\n      <td>3151.92</td>\n      <td>84.252268</td>\n    </tr>\n    <tr>\n      <th>CASTLE BRANDS CORP.</th>\n      <td>715833.33</td>\n      <td>8497.59</td>\n      <td>84.239570</td>\n    </tr>\n    <tr>\n      <th>FREDERICK WILDMAN &amp; SONS</th>\n      <td>336914.82</td>\n      <td>3999.93</td>\n      <td>84.230179</td>\n    </tr>\n  </tbody>\n</table>\n</div>"
     },
     "execution_count": 33,
     "metadata": {},
     "output_type": "execute_result"
    }
   ],
   "source": [
    "Freight_Purchase1 = Freight_Purchase[Freight_Purchase[\"Dollars\"] > 250000].sort_values(by=\"Freight per $ Purchased\", ascending=False)\n",
    "Freight_Purchase1.head(10)"
   ]
  },
  {
   "cell_type": "code",
   "execution_count": 34,
   "id": "e7eda9b4-6fc5-454f-a700-4dd1dfebc36c",
   "metadata": {
    "ExecuteTime": {
     "end_time": "2024-05-13T18:27:39.514505900Z",
     "start_time": "2024-05-13T18:27:39.049606100Z"
    }
   },
   "outputs": [
    {
     "data": {
      "text/plain": "                                 Dollars    Freight  Freight per $ Purchased\nVendorName                                                                  \nBANFI PRODUCTS CORP            692669.85    8510.41                81.390891\nSTATE WINE & SPIRITS           650999.58    8014.98                81.222858\nMARTIGNETTI COMPANIES        11709222.19  144719.92                80.909540\nKOBRAND CORPORATION            733971.86    9139.38                80.308715\nDIAGEO CHATEAU ESTATE WINES    573875.03    7259.75                79.048869",
      "text/html": "<div>\n<style scoped>\n    .dataframe tbody tr th:only-of-type {\n        vertical-align: middle;\n    }\n\n    .dataframe tbody tr th {\n        vertical-align: top;\n    }\n\n    .dataframe thead th {\n        text-align: right;\n    }\n</style>\n<table border=\"1\" class=\"dataframe\">\n  <thead>\n    <tr style=\"text-align: right;\">\n      <th></th>\n      <th>Dollars</th>\n      <th>Freight</th>\n      <th>Freight per $ Purchased</th>\n    </tr>\n    <tr>\n      <th>VendorName</th>\n      <th></th>\n      <th></th>\n      <th></th>\n    </tr>\n  </thead>\n  <tbody>\n    <tr>\n      <th>BANFI PRODUCTS CORP</th>\n      <td>692669.85</td>\n      <td>8510.41</td>\n      <td>81.390891</td>\n    </tr>\n    <tr>\n      <th>STATE WINE &amp; SPIRITS</th>\n      <td>650999.58</td>\n      <td>8014.98</td>\n      <td>81.222858</td>\n    </tr>\n    <tr>\n      <th>MARTIGNETTI COMPANIES</th>\n      <td>11709222.19</td>\n      <td>144719.92</td>\n      <td>80.909540</td>\n    </tr>\n    <tr>\n      <th>KOBRAND CORPORATION</th>\n      <td>733971.86</td>\n      <td>9139.38</td>\n      <td>80.308715</td>\n    </tr>\n    <tr>\n      <th>DIAGEO CHATEAU ESTATE WINES</th>\n      <td>573875.03</td>\n      <td>7259.75</td>\n      <td>79.048869</td>\n    </tr>\n  </tbody>\n</table>\n</div>"
     },
     "execution_count": 34,
     "metadata": {},
     "output_type": "execute_result"
    }
   ],
   "source": [
    "Freight_Purchase1.tail(5)"
   ]
  },
  {
   "cell_type": "markdown",
   "id": "25f29d2d-0353-4777-b02a-d80d3961e8e9",
   "metadata": {},
   "source": [
    "4c filter - above_35 = titanic[titanic[\"Age\"] > 35]"
   ]
  },
  {
   "cell_type": "markdown",
   "id": "06772644-6301-46a7-b2f8-b573f4d88104",
   "metadata": {},
   "source": [
    "4d filter - class_23 = titanic[(titanic[\"Pclass\"] == 2) | (titanic[\"Pclass\"] == 3)]"
   ]
  },
  {
   "cell_type": "markdown",
   "id": "cd4193b0-5ed4-444b-98b4-6c00a6b33e2d",
   "metadata": {},
   "source": [
    "# Deliverable 4D"
   ]
  },
  {
   "cell_type": "code",
   "execution_count": 35,
   "id": "c66c73db-9847-44c7-b09e-096ca0347a74",
   "metadata": {
    "ExecuteTime": {
     "end_time": "2024-05-13T18:27:39.516500700Z",
     "start_time": "2024-05-13T18:27:39.085652300Z"
    }
   },
   "outputs": [],
   "source": [
    "Freight_Purchase2 = Most_Freight[Most_Freight[\"Freight\"]>100]\n",
    "Freight_Purchase2 = Freight_Purchase2[Freight_Purchase2[\"Quantity\"]<=1000]"
   ]
  },
  {
   "cell_type": "code",
   "execution_count": 36,
   "id": "3c04a462-8998-4ec6-aed4-ebbb3a0d801d",
   "metadata": {
    "ExecuteTime": {
     "end_time": "2024-05-13T18:27:39.520490400Z",
     "start_time": "2024-05-13T18:27:39.086649600Z"
    }
   },
   "outputs": [],
   "source": [
    "Freight_Purchase2 = Freight_Purchase2.groupby([\"VendorNumber\",\"VendorName\"])[[\"Freight\",\"Dollars\",\"Quantity\"]].sum().sort_values(by=\"Freight\", ascending=False)"
   ]
  },
  {
   "cell_type": "code",
   "execution_count": 37,
   "id": "bfd82a36-d224-447b-b885-b8c0c0e85b0d",
   "metadata": {
    "ExecuteTime": {
     "end_time": "2024-05-13T18:27:39.522485700Z",
     "start_time": "2024-05-13T18:27:39.087647200Z"
    }
   },
   "outputs": [
    {
     "data": {
      "text/plain": "                                          Freight\nVendorNumber VendorName                          \n2561         EDRINGTON AMERICAS           2944.67\n8664         STOLI GROUP,(USA) LLC         349.02\n7239         REMY COINTREAU USA INC        348.07\n653          STATE WINE & SPIRITS          303.70\n6785         PALM BAY INTERNATIONAL INC    242.73",
      "text/html": "<div>\n<style scoped>\n    .dataframe tbody tr th:only-of-type {\n        vertical-align: middle;\n    }\n\n    .dataframe tbody tr th {\n        vertical-align: top;\n    }\n\n    .dataframe thead th {\n        text-align: right;\n    }\n</style>\n<table border=\"1\" class=\"dataframe\">\n  <thead>\n    <tr style=\"text-align: right;\">\n      <th></th>\n      <th></th>\n      <th>Freight</th>\n    </tr>\n    <tr>\n      <th>VendorNumber</th>\n      <th>VendorName</th>\n      <th></th>\n    </tr>\n  </thead>\n  <tbody>\n    <tr>\n      <th>2561</th>\n      <th>EDRINGTON AMERICAS</th>\n      <td>2944.67</td>\n    </tr>\n    <tr>\n      <th>8664</th>\n      <th>STOLI GROUP,(USA) LLC</th>\n      <td>349.02</td>\n    </tr>\n    <tr>\n      <th>7239</th>\n      <th>REMY COINTREAU USA INC</th>\n      <td>348.07</td>\n    </tr>\n    <tr>\n      <th>653</th>\n      <th>STATE WINE &amp; SPIRITS</th>\n      <td>303.70</td>\n    </tr>\n    <tr>\n      <th>6785</th>\n      <th>PALM BAY INTERNATIONAL INC</th>\n      <td>242.73</td>\n    </tr>\n  </tbody>\n</table>\n</div>"
     },
     "execution_count": 37,
     "metadata": {},
     "output_type": "execute_result"
    }
   ],
   "source": [
    "Freight_Purchase2[[\"Freight\"]].head()"
   ]
  },
  {
   "cell_type": "markdown",
   "id": "89181f44-59ab-40d3-8472-837725880569",
   "metadata": {},
   "source": [
    "# Deliverable 4E"
   ]
  },
  {
   "cell_type": "code",
   "execution_count": 38,
   "id": "52b903d4-2ff6-4de4-9627-3fb56b90b055",
   "metadata": {
    "ExecuteTime": {
     "end_time": "2024-05-13T18:27:39.528469400Z",
     "start_time": "2024-05-13T18:27:39.087647200Z"
    }
   },
   "outputs": [
    {
     "data": {
      "text/plain": "                                          Freight    Dollars  Quantity  \\\nVendorNumber VendorName                                                  \n2561         EDRINGTON AMERICAS           2944.67  570627.52     18120   \n8664         STOLI GROUP,(USA) LLC         349.02   14299.98       975   \n7239         REMY COINTREAU USA INC        348.07    7515.38       382   \n653          STATE WINE & SPIRITS          303.70    5544.89       541   \n6785         PALM BAY INTERNATIONAL INC    242.73    5533.18       715   \n10000        MAJESTIC FINE WINES           218.05    7234.88       875   \n3924         HEAVEN HILL DISTILLERIES      200.02    7079.02       818   \n8352         LUXCO INC                     196.61    6139.47       819   \n4692         KOBRAND CORPORATION           185.93    5336.48       427   \n1485         CASTLE BRANDS CORP.           179.26    5420.41       320   \n\n                                          Freight per $ Purchased  \nVendorNumber VendorName                                            \n2561         EDRINGTON AMERICAS                        193.783181  \n8664         STOLI GROUP,(USA) LLC                      40.971807  \n7239         REMY COINTREAU USA INC                     21.591576  \n653          STATE WINE & SPIRITS                       18.257787  \n6785         PALM BAY INTERNATIONAL INC                 22.795617  \n10000        MAJESTIC FINE WINES                        33.179913  \n3924         HEAVEN HILL DISTILLERIES                   35.391561  \n8352         LUXCO INC                                  31.226642  \n4692         KOBRAND CORPORATION                        28.701554  \n1485         CASTLE BRANDS CORP.                        30.237699  ",
      "text/html": "<div>\n<style scoped>\n    .dataframe tbody tr th:only-of-type {\n        vertical-align: middle;\n    }\n\n    .dataframe tbody tr th {\n        vertical-align: top;\n    }\n\n    .dataframe thead th {\n        text-align: right;\n    }\n</style>\n<table border=\"1\" class=\"dataframe\">\n  <thead>\n    <tr style=\"text-align: right;\">\n      <th></th>\n      <th></th>\n      <th>Freight</th>\n      <th>Dollars</th>\n      <th>Quantity</th>\n      <th>Freight per $ Purchased</th>\n    </tr>\n    <tr>\n      <th>VendorNumber</th>\n      <th>VendorName</th>\n      <th></th>\n      <th></th>\n      <th></th>\n      <th></th>\n    </tr>\n  </thead>\n  <tbody>\n    <tr>\n      <th>2561</th>\n      <th>EDRINGTON AMERICAS</th>\n      <td>2944.67</td>\n      <td>570627.52</td>\n      <td>18120</td>\n      <td>193.783181</td>\n    </tr>\n    <tr>\n      <th>8664</th>\n      <th>STOLI GROUP,(USA) LLC</th>\n      <td>349.02</td>\n      <td>14299.98</td>\n      <td>975</td>\n      <td>40.971807</td>\n    </tr>\n    <tr>\n      <th>7239</th>\n      <th>REMY COINTREAU USA INC</th>\n      <td>348.07</td>\n      <td>7515.38</td>\n      <td>382</td>\n      <td>21.591576</td>\n    </tr>\n    <tr>\n      <th>653</th>\n      <th>STATE WINE &amp; SPIRITS</th>\n      <td>303.70</td>\n      <td>5544.89</td>\n      <td>541</td>\n      <td>18.257787</td>\n    </tr>\n    <tr>\n      <th>6785</th>\n      <th>PALM BAY INTERNATIONAL INC</th>\n      <td>242.73</td>\n      <td>5533.18</td>\n      <td>715</td>\n      <td>22.795617</td>\n    </tr>\n    <tr>\n      <th>10000</th>\n      <th>MAJESTIC FINE WINES</th>\n      <td>218.05</td>\n      <td>7234.88</td>\n      <td>875</td>\n      <td>33.179913</td>\n    </tr>\n    <tr>\n      <th>3924</th>\n      <th>HEAVEN HILL DISTILLERIES</th>\n      <td>200.02</td>\n      <td>7079.02</td>\n      <td>818</td>\n      <td>35.391561</td>\n    </tr>\n    <tr>\n      <th>8352</th>\n      <th>LUXCO INC</th>\n      <td>196.61</td>\n      <td>6139.47</td>\n      <td>819</td>\n      <td>31.226642</td>\n    </tr>\n    <tr>\n      <th>4692</th>\n      <th>KOBRAND CORPORATION</th>\n      <td>185.93</td>\n      <td>5336.48</td>\n      <td>427</td>\n      <td>28.701554</td>\n    </tr>\n    <tr>\n      <th>1485</th>\n      <th>CASTLE BRANDS CORP.</th>\n      <td>179.26</td>\n      <td>5420.41</td>\n      <td>320</td>\n      <td>30.237699</td>\n    </tr>\n  </tbody>\n</table>\n</div>"
     },
     "execution_count": 38,
     "metadata": {},
     "output_type": "execute_result"
    }
   ],
   "source": [
    "Freight_Purchase2[\"Freight per $ Purchased\"] = (Freight_Purchase2[\"Dollars\"]/Freight_Purchase2[\"Freight\"])\n",
    "Freight_Purchase2.head(10)"
   ]
  },
  {
   "cell_type": "code",
   "execution_count": 39,
   "id": "0fa3e0cd-9965-44f6-b557-5c09b8907721",
   "metadata": {
    "ExecuteTime": {
     "end_time": "2024-05-13T18:27:39.529466600Z",
     "start_time": "2024-05-13T18:27:39.087647200Z"
    }
   },
   "outputs": [
    {
     "data": {
      "text/plain": "                                          Freight    Dollars  Quantity  \\\nVendorNumber VendorName                                                  \n98450        Serralles Usa LLC             122.24   27163.64       733   \n2561         EDRINGTON AMERICAS           2944.67  570627.52     18120   \n4848         LAIRD & CO                    100.37   18937.82       982   \n1273         CALEDONIA SPIRITS INC         109.80   20334.21       576   \n2242         DELICATO VINEYARDS INC        127.05    6646.46       808   \n9625         WESTERN SPIRITS BEVERAGE CO   169.46    8657.44       795   \n8664         STOLI GROUP,(USA) LLC         349.02   14299.98       975   \n3924         HEAVEN HILL DISTILLERIES      200.02    7079.02       818   \n3089         SIDNEY FRANK IMPORTING CO     133.83    4443.66       379   \n10000        MAJESTIC FINE WINES           218.05    7234.88       875   \n8352         LUXCO INC                     196.61    6139.47       819   \n1485         CASTLE BRANDS CORP.           179.26    5420.41       320   \n4692         KOBRAND CORPORATION           185.93    5336.48       427   \n6213         MHW LTD                       177.50    4821.83       412   \n2555         DISARONNO INTERNATIONAL LLC   146.86    3506.41       385   \n6785         PALM BAY INTERNATIONAL INC    242.73    5533.18       715   \n7239         REMY COINTREAU USA INC        348.07    7515.38       382   \n653          STATE WINE & SPIRITS          303.70    5544.89       541   \n\n                                          Freight per $ Purchased  \nVendorNumber VendorName                                            \n98450        Serralles Usa LLC                         222.215641  \n2561         EDRINGTON AMERICAS                        193.783181  \n4848         LAIRD & CO                                188.680084  \n1273         CALEDONIA SPIRITS INC                     185.193169  \n2242         DELICATO VINEYARDS INC                     52.313735  \n9625         WESTERN SPIRITS BEVERAGE CO                51.088398  \n8664         STOLI GROUP,(USA) LLC                      40.971807  \n3924         HEAVEN HILL DISTILLERIES                   35.391561  \n3089         SIDNEY FRANK IMPORTING CO                  33.203766  \n10000        MAJESTIC FINE WINES                        33.179913  \n8352         LUXCO INC                                  31.226642  \n1485         CASTLE BRANDS CORP.                        30.237699  \n4692         KOBRAND CORPORATION                        28.701554  \n6213         MHW LTD                                    27.165239  \n2555         DISARONNO INTERNATIONAL LLC                23.875868  \n6785         PALM BAY INTERNATIONAL INC                 22.795617  \n7239         REMY COINTREAU USA INC                     21.591576  \n653          STATE WINE & SPIRITS                       18.257787  ",
      "text/html": "<div>\n<style scoped>\n    .dataframe tbody tr th:only-of-type {\n        vertical-align: middle;\n    }\n\n    .dataframe tbody tr th {\n        vertical-align: top;\n    }\n\n    .dataframe thead th {\n        text-align: right;\n    }\n</style>\n<table border=\"1\" class=\"dataframe\">\n  <thead>\n    <tr style=\"text-align: right;\">\n      <th></th>\n      <th></th>\n      <th>Freight</th>\n      <th>Dollars</th>\n      <th>Quantity</th>\n      <th>Freight per $ Purchased</th>\n    </tr>\n    <tr>\n      <th>VendorNumber</th>\n      <th>VendorName</th>\n      <th></th>\n      <th></th>\n      <th></th>\n      <th></th>\n    </tr>\n  </thead>\n  <tbody>\n    <tr>\n      <th>98450</th>\n      <th>Serralles Usa LLC</th>\n      <td>122.24</td>\n      <td>27163.64</td>\n      <td>733</td>\n      <td>222.215641</td>\n    </tr>\n    <tr>\n      <th>2561</th>\n      <th>EDRINGTON AMERICAS</th>\n      <td>2944.67</td>\n      <td>570627.52</td>\n      <td>18120</td>\n      <td>193.783181</td>\n    </tr>\n    <tr>\n      <th>4848</th>\n      <th>LAIRD &amp; CO</th>\n      <td>100.37</td>\n      <td>18937.82</td>\n      <td>982</td>\n      <td>188.680084</td>\n    </tr>\n    <tr>\n      <th>1273</th>\n      <th>CALEDONIA SPIRITS INC</th>\n      <td>109.80</td>\n      <td>20334.21</td>\n      <td>576</td>\n      <td>185.193169</td>\n    </tr>\n    <tr>\n      <th>2242</th>\n      <th>DELICATO VINEYARDS INC</th>\n      <td>127.05</td>\n      <td>6646.46</td>\n      <td>808</td>\n      <td>52.313735</td>\n    </tr>\n    <tr>\n      <th>9625</th>\n      <th>WESTERN SPIRITS BEVERAGE CO</th>\n      <td>169.46</td>\n      <td>8657.44</td>\n      <td>795</td>\n      <td>51.088398</td>\n    </tr>\n    <tr>\n      <th>8664</th>\n      <th>STOLI GROUP,(USA) LLC</th>\n      <td>349.02</td>\n      <td>14299.98</td>\n      <td>975</td>\n      <td>40.971807</td>\n    </tr>\n    <tr>\n      <th>3924</th>\n      <th>HEAVEN HILL DISTILLERIES</th>\n      <td>200.02</td>\n      <td>7079.02</td>\n      <td>818</td>\n      <td>35.391561</td>\n    </tr>\n    <tr>\n      <th>3089</th>\n      <th>SIDNEY FRANK IMPORTING CO</th>\n      <td>133.83</td>\n      <td>4443.66</td>\n      <td>379</td>\n      <td>33.203766</td>\n    </tr>\n    <tr>\n      <th>10000</th>\n      <th>MAJESTIC FINE WINES</th>\n      <td>218.05</td>\n      <td>7234.88</td>\n      <td>875</td>\n      <td>33.179913</td>\n    </tr>\n    <tr>\n      <th>8352</th>\n      <th>LUXCO INC</th>\n      <td>196.61</td>\n      <td>6139.47</td>\n      <td>819</td>\n      <td>31.226642</td>\n    </tr>\n    <tr>\n      <th>1485</th>\n      <th>CASTLE BRANDS CORP.</th>\n      <td>179.26</td>\n      <td>5420.41</td>\n      <td>320</td>\n      <td>30.237699</td>\n    </tr>\n    <tr>\n      <th>4692</th>\n      <th>KOBRAND CORPORATION</th>\n      <td>185.93</td>\n      <td>5336.48</td>\n      <td>427</td>\n      <td>28.701554</td>\n    </tr>\n    <tr>\n      <th>6213</th>\n      <th>MHW LTD</th>\n      <td>177.50</td>\n      <td>4821.83</td>\n      <td>412</td>\n      <td>27.165239</td>\n    </tr>\n    <tr>\n      <th>2555</th>\n      <th>DISARONNO INTERNATIONAL LLC</th>\n      <td>146.86</td>\n      <td>3506.41</td>\n      <td>385</td>\n      <td>23.875868</td>\n    </tr>\n    <tr>\n      <th>6785</th>\n      <th>PALM BAY INTERNATIONAL INC</th>\n      <td>242.73</td>\n      <td>5533.18</td>\n      <td>715</td>\n      <td>22.795617</td>\n    </tr>\n    <tr>\n      <th>7239</th>\n      <th>REMY COINTREAU USA INC</th>\n      <td>348.07</td>\n      <td>7515.38</td>\n      <td>382</td>\n      <td>21.591576</td>\n    </tr>\n    <tr>\n      <th>653</th>\n      <th>STATE WINE &amp; SPIRITS</th>\n      <td>303.70</td>\n      <td>5544.89</td>\n      <td>541</td>\n      <td>18.257787</td>\n    </tr>\n  </tbody>\n</table>\n</div>"
     },
     "execution_count": 39,
     "metadata": {},
     "output_type": "execute_result"
    }
   ],
   "source": [
    "Freight_Purchase2.sort_values(by=\"Freight per $ Purchased\", ascending=False)"
   ]
  },
  {
   "cell_type": "markdown",
   "id": "880c81fe-b8db-4b7f-8299-8c937cf97fd8",
   "metadata": {},
   "source": [
    "The freight per dollar purchased is far less uniform and offers a wider spread of values. When transactions were over $100 people were spending either a lot more for their freight or a lot less than someone who's buying $250,000 worth of inventory."
   ]
  },
  {
   "cell_type": "markdown",
   "id": "6c808386-f0d6-407b-82b2-82ec9255b99f",
   "metadata": {},
   "source": [
    "# Deliverable 5"
   ]
  },
  {
   "cell_type": "code",
   "execution_count": 40,
   "id": "68b4b95e-f308-4cbc-a368-7fdd888fc556",
   "metadata": {
    "ExecuteTime": {
     "end_time": "2024-05-13T18:27:41.243108900Z",
     "start_time": "2024-05-13T18:27:39.093459200Z"
    }
   },
   "outputs": [
    {
     "data": {
      "text/plain": "            InventoryId  Store  Brand                   Description  \\\n0   1_HARDERSFIELD_1009      1   1009       Rebel Yell Variety Pack   \n1  1_HARDERSFIELD_10238      1  10238   Layer Cake Primitivo Puglia   \n2  1_HARDERSFIELD_10239      1  10239       Cannonball Cab Svgn Cal   \n3  1_HARDERSFIELD_10266      1  10266  Klinker Brick Old Vine Znfdl   \n4   1_HARDERSFIELD_1029      1   1029  Fulton's Harvest Apple Pie L   \n\n         Size  SalesQuantity  SalesDollars  SalesPrice   SalesDate  Volume  \\\n0  750mL 3 Pk              1         49.99       49.99  2016-01-02   750.0   \n1       750mL              2         31.98       15.99  2016-01-02   750.0   \n2       750mL              1         13.99       13.99  2016-01-02   750.0   \n3       750mL              1         16.99       16.99  2016-01-09   750.0   \n4       750mL              1          9.99        9.99  2016-01-03   750.0   \n\n   Classification  ExciseTax  VendorNo                   VendorName  \n0               1       0.79      8352  LUXCO INC                    \n1               2       0.22      4425        MARTIGNETTI COMPANIES  \n2               2       0.11      4425        MARTIGNETTI COMPANIES  \n3               2       0.11      9552  M S WALKER INC               \n4               1       0.79      3924  HEAVEN HILL DISTILLERIES     ",
      "text/html": "<div>\n<style scoped>\n    .dataframe tbody tr th:only-of-type {\n        vertical-align: middle;\n    }\n\n    .dataframe tbody tr th {\n        vertical-align: top;\n    }\n\n    .dataframe thead th {\n        text-align: right;\n    }\n</style>\n<table border=\"1\" class=\"dataframe\">\n  <thead>\n    <tr style=\"text-align: right;\">\n      <th></th>\n      <th>InventoryId</th>\n      <th>Store</th>\n      <th>Brand</th>\n      <th>Description</th>\n      <th>Size</th>\n      <th>SalesQuantity</th>\n      <th>SalesDollars</th>\n      <th>SalesPrice</th>\n      <th>SalesDate</th>\n      <th>Volume</th>\n      <th>Classification</th>\n      <th>ExciseTax</th>\n      <th>VendorNo</th>\n      <th>VendorName</th>\n    </tr>\n  </thead>\n  <tbody>\n    <tr>\n      <th>0</th>\n      <td>1_HARDERSFIELD_1009</td>\n      <td>1</td>\n      <td>1009</td>\n      <td>Rebel Yell Variety Pack</td>\n      <td>750mL 3 Pk</td>\n      <td>1</td>\n      <td>49.99</td>\n      <td>49.99</td>\n      <td>2016-01-02</td>\n      <td>750.0</td>\n      <td>1</td>\n      <td>0.79</td>\n      <td>8352</td>\n      <td>LUXCO INC</td>\n    </tr>\n    <tr>\n      <th>1</th>\n      <td>1_HARDERSFIELD_10238</td>\n      <td>1</td>\n      <td>10238</td>\n      <td>Layer Cake Primitivo Puglia</td>\n      <td>750mL</td>\n      <td>2</td>\n      <td>31.98</td>\n      <td>15.99</td>\n      <td>2016-01-02</td>\n      <td>750.0</td>\n      <td>2</td>\n      <td>0.22</td>\n      <td>4425</td>\n      <td>MARTIGNETTI COMPANIES</td>\n    </tr>\n    <tr>\n      <th>2</th>\n      <td>1_HARDERSFIELD_10239</td>\n      <td>1</td>\n      <td>10239</td>\n      <td>Cannonball Cab Svgn Cal</td>\n      <td>750mL</td>\n      <td>1</td>\n      <td>13.99</td>\n      <td>13.99</td>\n      <td>2016-01-02</td>\n      <td>750.0</td>\n      <td>2</td>\n      <td>0.11</td>\n      <td>4425</td>\n      <td>MARTIGNETTI COMPANIES</td>\n    </tr>\n    <tr>\n      <th>3</th>\n      <td>1_HARDERSFIELD_10266</td>\n      <td>1</td>\n      <td>10266</td>\n      <td>Klinker Brick Old Vine Znfdl</td>\n      <td>750mL</td>\n      <td>1</td>\n      <td>16.99</td>\n      <td>16.99</td>\n      <td>2016-01-09</td>\n      <td>750.0</td>\n      <td>2</td>\n      <td>0.11</td>\n      <td>9552</td>\n      <td>M S WALKER INC</td>\n    </tr>\n    <tr>\n      <th>4</th>\n      <td>1_HARDERSFIELD_1029</td>\n      <td>1</td>\n      <td>1029</td>\n      <td>Fulton's Harvest Apple Pie L</td>\n      <td>750mL</td>\n      <td>1</td>\n      <td>9.99</td>\n      <td>9.99</td>\n      <td>2016-01-03</td>\n      <td>750.0</td>\n      <td>1</td>\n      <td>0.79</td>\n      <td>3924</td>\n      <td>HEAVEN HILL DISTILLERIES</td>\n    </tr>\n  </tbody>\n</table>\n</div>"
     },
     "execution_count": 40,
     "metadata": {},
     "output_type": "execute_result"
    }
   ],
   "source": [
    "Volume_Sold = pd.read_csv(\"SalesFINAL12-31-16Sample.csv\")\n",
    "Volume_Sold.head()"
   ]
  },
  {
   "cell_type": "code",
   "execution_count": 41,
   "id": "8d248ad5-6774-44d8-8f00-306b11b05f69",
   "metadata": {
    "ExecuteTime": {
     "end_time": "2024-05-13T18:27:44.318684800Z",
     "start_time": "2024-05-13T18:27:41.248270100Z"
    }
   },
   "outputs": [
    {
     "data": {
      "text/plain": "         InventoryId  Store  Brand                   Description   Size  \\\n0  69_MOUNTMEND_8412     69   8412     Tequila Ocho Plata Fresno  750mL   \n1  34_PITMERDEN_5215     34   5215  TGI Fridays Long Island Iced  1.75L   \n2  76_DONCASTER_2034     76   2034     Glendalough Double Barrel  750mL   \n3      5_SUTTON_3348      5   3348           Bombay Sapphire Gin  1.75L   \n4   30_CULCHETH_4903     30   4903          Bacardi Superior Rum  200mL   \n\n   VendorNumber                   VendorName  PONumber      PODate  \\\n0           105  ALTAMAR BRANDS LLC               8124  2015-12-21   \n1          4466  AMERICAN VINTAGE BEVERAGE        8137  2015-12-22   \n2           388  ATLANTIC IMPORTING COMPANY       8169  2015-12-24   \n3           480  BACARDI USA INC                  8106  2015-12-20   \n4           480  BACARDI USA INC                  8106  2015-12-20   \n\n  ReceivingDate InvoiceDate     PayDate  PurchasePrice  Quantity  Dollars  \\\n0    2016-01-02  2016-01-04  2016-02-16          35.71         6   214.26   \n1    2016-01-02  2016-01-07  2016-02-21           9.41         5    47.05   \n2    2016-01-02  2016-01-09  2016-02-16          21.32         5   106.60   \n3    2016-01-02  2016-01-12  2016-02-05          22.38         6   134.28   \n4    2016-01-01  2016-01-12  2016-02-05           2.87        48   137.76   \n\n   Classification  \n0               1  \n1               1  \n2               1  \n3               1  \n4               1  ",
      "text/html": "<div>\n<style scoped>\n    .dataframe tbody tr th:only-of-type {\n        vertical-align: middle;\n    }\n\n    .dataframe tbody tr th {\n        vertical-align: top;\n    }\n\n    .dataframe thead th {\n        text-align: right;\n    }\n</style>\n<table border=\"1\" class=\"dataframe\">\n  <thead>\n    <tr style=\"text-align: right;\">\n      <th></th>\n      <th>InventoryId</th>\n      <th>Store</th>\n      <th>Brand</th>\n      <th>Description</th>\n      <th>Size</th>\n      <th>VendorNumber</th>\n      <th>VendorName</th>\n      <th>PONumber</th>\n      <th>PODate</th>\n      <th>ReceivingDate</th>\n      <th>InvoiceDate</th>\n      <th>PayDate</th>\n      <th>PurchasePrice</th>\n      <th>Quantity</th>\n      <th>Dollars</th>\n      <th>Classification</th>\n    </tr>\n  </thead>\n  <tbody>\n    <tr>\n      <th>0</th>\n      <td>69_MOUNTMEND_8412</td>\n      <td>69</td>\n      <td>8412</td>\n      <td>Tequila Ocho Plata Fresno</td>\n      <td>750mL</td>\n      <td>105</td>\n      <td>ALTAMAR BRANDS LLC</td>\n      <td>8124</td>\n      <td>2015-12-21</td>\n      <td>2016-01-02</td>\n      <td>2016-01-04</td>\n      <td>2016-02-16</td>\n      <td>35.71</td>\n      <td>6</td>\n      <td>214.26</td>\n      <td>1</td>\n    </tr>\n    <tr>\n      <th>1</th>\n      <td>34_PITMERDEN_5215</td>\n      <td>34</td>\n      <td>5215</td>\n      <td>TGI Fridays Long Island Iced</td>\n      <td>1.75L</td>\n      <td>4466</td>\n      <td>AMERICAN VINTAGE BEVERAGE</td>\n      <td>8137</td>\n      <td>2015-12-22</td>\n      <td>2016-01-02</td>\n      <td>2016-01-07</td>\n      <td>2016-02-21</td>\n      <td>9.41</td>\n      <td>5</td>\n      <td>47.05</td>\n      <td>1</td>\n    </tr>\n    <tr>\n      <th>2</th>\n      <td>76_DONCASTER_2034</td>\n      <td>76</td>\n      <td>2034</td>\n      <td>Glendalough Double Barrel</td>\n      <td>750mL</td>\n      <td>388</td>\n      <td>ATLANTIC IMPORTING COMPANY</td>\n      <td>8169</td>\n      <td>2015-12-24</td>\n      <td>2016-01-02</td>\n      <td>2016-01-09</td>\n      <td>2016-02-16</td>\n      <td>21.32</td>\n      <td>5</td>\n      <td>106.60</td>\n      <td>1</td>\n    </tr>\n    <tr>\n      <th>3</th>\n      <td>5_SUTTON_3348</td>\n      <td>5</td>\n      <td>3348</td>\n      <td>Bombay Sapphire Gin</td>\n      <td>1.75L</td>\n      <td>480</td>\n      <td>BACARDI USA INC</td>\n      <td>8106</td>\n      <td>2015-12-20</td>\n      <td>2016-01-02</td>\n      <td>2016-01-12</td>\n      <td>2016-02-05</td>\n      <td>22.38</td>\n      <td>6</td>\n      <td>134.28</td>\n      <td>1</td>\n    </tr>\n    <tr>\n      <th>4</th>\n      <td>30_CULCHETH_4903</td>\n      <td>30</td>\n      <td>4903</td>\n      <td>Bacardi Superior Rum</td>\n      <td>200mL</td>\n      <td>480</td>\n      <td>BACARDI USA INC</td>\n      <td>8106</td>\n      <td>2015-12-20</td>\n      <td>2016-01-01</td>\n      <td>2016-01-12</td>\n      <td>2016-02-05</td>\n      <td>2.87</td>\n      <td>48</td>\n      <td>137.76</td>\n      <td>1</td>\n    </tr>\n  </tbody>\n</table>\n</div>"
     },
     "execution_count": 41,
     "metadata": {},
     "output_type": "execute_result"
    }
   ],
   "source": [
    "Volume_Cost = pd.read_csv(\"PurchasesFINAL12-31-16Sample.csv\")\n",
    "Volume_Cost.head()"
   ]
  },
  {
   "cell_type": "code",
   "execution_count": 42,
   "id": "72e048a2-5c9f-4d73-a797-dd8ec2c1ba82",
   "metadata": {
    "ExecuteTime": {
     "end_time": "2024-05-13T18:27:44.318684800Z",
     "start_time": "2024-05-13T18:27:44.313701Z"
    }
   },
   "outputs": [],
   "source": [
    "Volume_Sold[\"Sold per ML\"] = (Volume_Sold[\"SalesPrice\"] / Volume_Sold[\"Volume\"])"
   ]
  },
  {
   "cell_type": "code",
   "execution_count": 43,
   "id": "c4dda749-23cf-4062-ac5e-46bf854f7588",
   "metadata": {
    "ExecuteTime": {
     "end_time": "2024-05-13T18:27:44.319683900Z",
     "start_time": "2024-05-13T18:27:44.314695200Z"
    }
   },
   "outputs": [
    {
     "data": {
      "text/plain": "                         Description  Volume  SalesPrice  Sold per ML\n428327       Hennessy Richard Cognac   750.0     4696.99     6.262653\n522926    Laphroaig 32 Yr Old Scotch   750.0     1199.99     1.599987\n848847        Johnnie Walker Odyssey   750.0      949.99     1.266653\n356400        Johnnie Walker Odyssey   750.0      949.99     1.266653\n703168  Ch Haut-Brion Blanc 09 Pessc   750.0      899.99     1.199987\n...                              ...     ...         ...          ...\n64063    Livingston Clrs Rhine Calif  3000.0        6.49     0.002163\n64062    Livingston Clrs Rhine Calif  3000.0        6.49     0.002163\n484715             Ciroc Peach Vodka  1750.0        0.00     0.000000\n514051             Ciroc Peach Vodka  1750.0        0.00     0.000000\n534680             Ciroc Peach Vodka  1750.0        0.00     0.000000\n\n[1000000 rows x 4 columns]",
      "text/html": "<div>\n<style scoped>\n    .dataframe tbody tr th:only-of-type {\n        vertical-align: middle;\n    }\n\n    .dataframe tbody tr th {\n        vertical-align: top;\n    }\n\n    .dataframe thead th {\n        text-align: right;\n    }\n</style>\n<table border=\"1\" class=\"dataframe\">\n  <thead>\n    <tr style=\"text-align: right;\">\n      <th></th>\n      <th>Description</th>\n      <th>Volume</th>\n      <th>SalesPrice</th>\n      <th>Sold per ML</th>\n    </tr>\n  </thead>\n  <tbody>\n    <tr>\n      <th>428327</th>\n      <td>Hennessy Richard Cognac</td>\n      <td>750.0</td>\n      <td>4696.99</td>\n      <td>6.262653</td>\n    </tr>\n    <tr>\n      <th>522926</th>\n      <td>Laphroaig 32 Yr Old Scotch</td>\n      <td>750.0</td>\n      <td>1199.99</td>\n      <td>1.599987</td>\n    </tr>\n    <tr>\n      <th>848847</th>\n      <td>Johnnie Walker Odyssey</td>\n      <td>750.0</td>\n      <td>949.99</td>\n      <td>1.266653</td>\n    </tr>\n    <tr>\n      <th>356400</th>\n      <td>Johnnie Walker Odyssey</td>\n      <td>750.0</td>\n      <td>949.99</td>\n      <td>1.266653</td>\n    </tr>\n    <tr>\n      <th>703168</th>\n      <td>Ch Haut-Brion Blanc 09 Pessc</td>\n      <td>750.0</td>\n      <td>899.99</td>\n      <td>1.199987</td>\n    </tr>\n    <tr>\n      <th>...</th>\n      <td>...</td>\n      <td>...</td>\n      <td>...</td>\n      <td>...</td>\n    </tr>\n    <tr>\n      <th>64063</th>\n      <td>Livingston Clrs Rhine Calif</td>\n      <td>3000.0</td>\n      <td>6.49</td>\n      <td>0.002163</td>\n    </tr>\n    <tr>\n      <th>64062</th>\n      <td>Livingston Clrs Rhine Calif</td>\n      <td>3000.0</td>\n      <td>6.49</td>\n      <td>0.002163</td>\n    </tr>\n    <tr>\n      <th>484715</th>\n      <td>Ciroc Peach Vodka</td>\n      <td>1750.0</td>\n      <td>0.00</td>\n      <td>0.000000</td>\n    </tr>\n    <tr>\n      <th>514051</th>\n      <td>Ciroc Peach Vodka</td>\n      <td>1750.0</td>\n      <td>0.00</td>\n      <td>0.000000</td>\n    </tr>\n    <tr>\n      <th>534680</th>\n      <td>Ciroc Peach Vodka</td>\n      <td>1750.0</td>\n      <td>0.00</td>\n      <td>0.000000</td>\n    </tr>\n  </tbody>\n</table>\n<p>1000000 rows × 4 columns</p>\n</div>"
     },
     "execution_count": 43,
     "metadata": {},
     "output_type": "execute_result"
    }
   ],
   "source": [
    "Volume_Sold[[\"Description\",\"Volume\",\"SalesPrice\",\"Sold per ML\"]].sort_values(by=\"Sold per ML\", ascending=False)"
   ]
  },
  {
   "cell_type": "code",
   "execution_count": 44,
   "id": "e67bceac-58b9-4837-b1d2-690d9c5418e1",
   "metadata": {
    "ExecuteTime": {
     "end_time": "2024-05-13T18:29:06.770613500Z",
     "start_time": "2024-05-13T18:27:44.314695200Z"
    }
   },
   "outputs": [
    {
     "ename": "MemoryError",
     "evalue": "Unable to allocate 8.57 GiB for an array with shape (1149717109,) and data type int64",
     "output_type": "error",
     "traceback": [
      "\u001B[1;31m---------------------------------------------------------------------------\u001B[0m",
      "\u001B[1;31mMemoryError\u001B[0m                               Traceback (most recent call last)",
      "Cell \u001B[1;32mIn[44], line 1\u001B[0m\n\u001B[1;32m----> 1\u001B[0m Sold_Cost \u001B[38;5;241m=\u001B[39m \u001B[43mpd\u001B[49m\u001B[38;5;241;43m.\u001B[39;49m\u001B[43mmerge\u001B[49m\u001B[43m(\u001B[49m\u001B[43mleft\u001B[49m\u001B[43m \u001B[49m\u001B[38;5;241;43m=\u001B[39;49m\u001B[43m \u001B[49m\u001B[43mVolume_Sold\u001B[49m\u001B[43m,\u001B[49m\u001B[43m \u001B[49m\u001B[43mright\u001B[49m\u001B[43m \u001B[49m\u001B[38;5;241;43m=\u001B[39;49m\u001B[43m \u001B[49m\u001B[43mVolume_Cost\u001B[49m\u001B[43m,\u001B[49m\u001B[43m \u001B[49m\u001B[43mhow\u001B[49m\u001B[43m \u001B[49m\u001B[38;5;241;43m=\u001B[39;49m\u001B[43m \u001B[49m\u001B[38;5;124;43m\"\u001B[39;49m\u001B[38;5;124;43minner\u001B[39;49m\u001B[38;5;124;43m\"\u001B[39;49m\u001B[43m,\u001B[49m\u001B[43m \u001B[49m\u001B[43mon\u001B[49m\u001B[43m \u001B[49m\u001B[38;5;241;43m=\u001B[39;49m\u001B[43m[\u001B[49m\u001B[38;5;124;43m\"\u001B[39;49m\u001B[38;5;124;43mDescription\u001B[39;49m\u001B[38;5;124;43m\"\u001B[39;49m\u001B[43m]\u001B[49m\u001B[43m)\u001B[49m\n",
      "File \u001B[1;32m~\\PycharmProjects\\pythonProject1\\venv\\lib\\site-packages\\pandas\\core\\reshape\\merge.py:184\u001B[0m, in \u001B[0;36mmerge\u001B[1;34m(left, right, how, on, left_on, right_on, left_index, right_index, sort, suffixes, copy, indicator, validate)\u001B[0m\n\u001B[0;32m    169\u001B[0m \u001B[38;5;28;01melse\u001B[39;00m:\n\u001B[0;32m    170\u001B[0m     op \u001B[38;5;241m=\u001B[39m _MergeOperation(\n\u001B[0;32m    171\u001B[0m         left_df,\n\u001B[0;32m    172\u001B[0m         right_df,\n\u001B[1;32m   (...)\u001B[0m\n\u001B[0;32m    182\u001B[0m         validate\u001B[38;5;241m=\u001B[39mvalidate,\n\u001B[0;32m    183\u001B[0m     )\n\u001B[1;32m--> 184\u001B[0m     \u001B[38;5;28;01mreturn\u001B[39;00m \u001B[43mop\u001B[49m\u001B[38;5;241;43m.\u001B[39;49m\u001B[43mget_result\u001B[49m\u001B[43m(\u001B[49m\u001B[43mcopy\u001B[49m\u001B[38;5;241;43m=\u001B[39;49m\u001B[43mcopy\u001B[49m\u001B[43m)\u001B[49m\n",
      "File \u001B[1;32m~\\PycharmProjects\\pythonProject1\\venv\\lib\\site-packages\\pandas\\core\\reshape\\merge.py:886\u001B[0m, in \u001B[0;36m_MergeOperation.get_result\u001B[1;34m(self, copy)\u001B[0m\n\u001B[0;32m    883\u001B[0m \u001B[38;5;28;01mif\u001B[39;00m \u001B[38;5;28mself\u001B[39m\u001B[38;5;241m.\u001B[39mindicator:\n\u001B[0;32m    884\u001B[0m     \u001B[38;5;28mself\u001B[39m\u001B[38;5;241m.\u001B[39mleft, \u001B[38;5;28mself\u001B[39m\u001B[38;5;241m.\u001B[39mright \u001B[38;5;241m=\u001B[39m \u001B[38;5;28mself\u001B[39m\u001B[38;5;241m.\u001B[39m_indicator_pre_merge(\u001B[38;5;28mself\u001B[39m\u001B[38;5;241m.\u001B[39mleft, \u001B[38;5;28mself\u001B[39m\u001B[38;5;241m.\u001B[39mright)\n\u001B[1;32m--> 886\u001B[0m join_index, left_indexer, right_indexer \u001B[38;5;241m=\u001B[39m \u001B[38;5;28;43mself\u001B[39;49m\u001B[38;5;241;43m.\u001B[39;49m\u001B[43m_get_join_info\u001B[49m\u001B[43m(\u001B[49m\u001B[43m)\u001B[49m\n\u001B[0;32m    888\u001B[0m result \u001B[38;5;241m=\u001B[39m \u001B[38;5;28mself\u001B[39m\u001B[38;5;241m.\u001B[39m_reindex_and_concat(\n\u001B[0;32m    889\u001B[0m     join_index, left_indexer, right_indexer, copy\u001B[38;5;241m=\u001B[39mcopy\n\u001B[0;32m    890\u001B[0m )\n\u001B[0;32m    891\u001B[0m result \u001B[38;5;241m=\u001B[39m result\u001B[38;5;241m.\u001B[39m__finalize__(\u001B[38;5;28mself\u001B[39m, method\u001B[38;5;241m=\u001B[39m\u001B[38;5;28mself\u001B[39m\u001B[38;5;241m.\u001B[39m_merge_type)\n",
      "File \u001B[1;32m~\\PycharmProjects\\pythonProject1\\venv\\lib\\site-packages\\pandas\\core\\reshape\\merge.py:1151\u001B[0m, in \u001B[0;36m_MergeOperation._get_join_info\u001B[1;34m(self)\u001B[0m\n\u001B[0;32m   1147\u001B[0m     join_index, right_indexer, left_indexer \u001B[38;5;241m=\u001B[39m _left_join_on_index(\n\u001B[0;32m   1148\u001B[0m         right_ax, left_ax, \u001B[38;5;28mself\u001B[39m\u001B[38;5;241m.\u001B[39mright_join_keys, sort\u001B[38;5;241m=\u001B[39m\u001B[38;5;28mself\u001B[39m\u001B[38;5;241m.\u001B[39msort\n\u001B[0;32m   1149\u001B[0m     )\n\u001B[0;32m   1150\u001B[0m \u001B[38;5;28;01melse\u001B[39;00m:\n\u001B[1;32m-> 1151\u001B[0m     (left_indexer, right_indexer) \u001B[38;5;241m=\u001B[39m \u001B[38;5;28;43mself\u001B[39;49m\u001B[38;5;241;43m.\u001B[39;49m\u001B[43m_get_join_indexers\u001B[49m\u001B[43m(\u001B[49m\u001B[43m)\u001B[49m\n\u001B[0;32m   1153\u001B[0m     \u001B[38;5;28;01mif\u001B[39;00m \u001B[38;5;28mself\u001B[39m\u001B[38;5;241m.\u001B[39mright_index:\n\u001B[0;32m   1154\u001B[0m         \u001B[38;5;28;01mif\u001B[39;00m \u001B[38;5;28mlen\u001B[39m(\u001B[38;5;28mself\u001B[39m\u001B[38;5;241m.\u001B[39mleft) \u001B[38;5;241m>\u001B[39m \u001B[38;5;241m0\u001B[39m:\n",
      "File \u001B[1;32m~\\PycharmProjects\\pythonProject1\\venv\\lib\\site-packages\\pandas\\core\\reshape\\merge.py:1125\u001B[0m, in \u001B[0;36m_MergeOperation._get_join_indexers\u001B[1;34m(self)\u001B[0m\n\u001B[0;32m   1123\u001B[0m \u001B[38;5;66;03m# make mypy happy\u001B[39;00m\n\u001B[0;32m   1124\u001B[0m \u001B[38;5;28;01massert\u001B[39;00m \u001B[38;5;28mself\u001B[39m\u001B[38;5;241m.\u001B[39mhow \u001B[38;5;241m!=\u001B[39m \u001B[38;5;124m\"\u001B[39m\u001B[38;5;124masof\u001B[39m\u001B[38;5;124m\"\u001B[39m\n\u001B[1;32m-> 1125\u001B[0m \u001B[38;5;28;01mreturn\u001B[39;00m \u001B[43mget_join_indexers\u001B[49m\u001B[43m(\u001B[49m\n\u001B[0;32m   1126\u001B[0m \u001B[43m    \u001B[49m\u001B[38;5;28;43mself\u001B[39;49m\u001B[38;5;241;43m.\u001B[39;49m\u001B[43mleft_join_keys\u001B[49m\u001B[43m,\u001B[49m\u001B[43m \u001B[49m\u001B[38;5;28;43mself\u001B[39;49m\u001B[38;5;241;43m.\u001B[39;49m\u001B[43mright_join_keys\u001B[49m\u001B[43m,\u001B[49m\u001B[43m \u001B[49m\u001B[43msort\u001B[49m\u001B[38;5;241;43m=\u001B[39;49m\u001B[38;5;28;43mself\u001B[39;49m\u001B[38;5;241;43m.\u001B[39;49m\u001B[43msort\u001B[49m\u001B[43m,\u001B[49m\u001B[43m \u001B[49m\u001B[43mhow\u001B[49m\u001B[38;5;241;43m=\u001B[39;49m\u001B[38;5;28;43mself\u001B[39;49m\u001B[38;5;241;43m.\u001B[39;49m\u001B[43mhow\u001B[49m\n\u001B[0;32m   1127\u001B[0m \u001B[43m\u001B[49m\u001B[43m)\u001B[49m\n",
      "File \u001B[1;32m~\\PycharmProjects\\pythonProject1\\venv\\lib\\site-packages\\pandas\\core\\reshape\\merge.py:1759\u001B[0m, in \u001B[0;36mget_join_indexers\u001B[1;34m(left_keys, right_keys, sort, how)\u001B[0m\n\u001B[0;32m   1757\u001B[0m     _, lidx, ridx \u001B[38;5;241m=\u001B[39m left\u001B[38;5;241m.\u001B[39mjoin(right, how\u001B[38;5;241m=\u001B[39mhow, return_indexers\u001B[38;5;241m=\u001B[39m\u001B[38;5;28;01mTrue\u001B[39;00m, sort\u001B[38;5;241m=\u001B[39msort)\n\u001B[0;32m   1758\u001B[0m \u001B[38;5;28;01melse\u001B[39;00m:\n\u001B[1;32m-> 1759\u001B[0m     lidx, ridx \u001B[38;5;241m=\u001B[39m \u001B[43mget_join_indexers_non_unique\u001B[49m\u001B[43m(\u001B[49m\n\u001B[0;32m   1760\u001B[0m \u001B[43m        \u001B[49m\u001B[43mleft\u001B[49m\u001B[38;5;241;43m.\u001B[39;49m\u001B[43m_values\u001B[49m\u001B[43m,\u001B[49m\u001B[43m \u001B[49m\u001B[43mright\u001B[49m\u001B[38;5;241;43m.\u001B[39;49m\u001B[43m_values\u001B[49m\u001B[43m,\u001B[49m\u001B[43m \u001B[49m\u001B[43msort\u001B[49m\u001B[43m,\u001B[49m\u001B[43m \u001B[49m\u001B[43mhow\u001B[49m\n\u001B[0;32m   1761\u001B[0m \u001B[43m    \u001B[49m\u001B[43m)\u001B[49m\n\u001B[0;32m   1763\u001B[0m \u001B[38;5;28;01mif\u001B[39;00m lidx \u001B[38;5;129;01mis\u001B[39;00m \u001B[38;5;129;01mnot\u001B[39;00m \u001B[38;5;28;01mNone\u001B[39;00m \u001B[38;5;129;01mand\u001B[39;00m is_range_indexer(lidx, \u001B[38;5;28mlen\u001B[39m(left)):\n\u001B[0;32m   1764\u001B[0m     lidx \u001B[38;5;241m=\u001B[39m \u001B[38;5;28;01mNone\u001B[39;00m\n",
      "File \u001B[1;32m~\\PycharmProjects\\pythonProject1\\venv\\lib\\site-packages\\pandas\\core\\reshape\\merge.py:1799\u001B[0m, in \u001B[0;36mget_join_indexers_non_unique\u001B[1;34m(left, right, sort, how)\u001B[0m\n\u001B[0;32m   1797\u001B[0m     ridx, lidx \u001B[38;5;241m=\u001B[39m libjoin\u001B[38;5;241m.\u001B[39mleft_outer_join(rkey, lkey, count, sort\u001B[38;5;241m=\u001B[39msort)\n\u001B[0;32m   1798\u001B[0m \u001B[38;5;28;01melif\u001B[39;00m how \u001B[38;5;241m==\u001B[39m \u001B[38;5;124m\"\u001B[39m\u001B[38;5;124minner\u001B[39m\u001B[38;5;124m\"\u001B[39m:\n\u001B[1;32m-> 1799\u001B[0m     lidx, ridx \u001B[38;5;241m=\u001B[39m \u001B[43mlibjoin\u001B[49m\u001B[38;5;241;43m.\u001B[39;49m\u001B[43minner_join\u001B[49m\u001B[43m(\u001B[49m\u001B[43mlkey\u001B[49m\u001B[43m,\u001B[49m\u001B[43m \u001B[49m\u001B[43mrkey\u001B[49m\u001B[43m,\u001B[49m\u001B[43m \u001B[49m\u001B[43mcount\u001B[49m\u001B[43m,\u001B[49m\u001B[43m \u001B[49m\u001B[43msort\u001B[49m\u001B[38;5;241;43m=\u001B[39;49m\u001B[43msort\u001B[49m\u001B[43m)\u001B[49m\n\u001B[0;32m   1800\u001B[0m \u001B[38;5;28;01melif\u001B[39;00m how \u001B[38;5;241m==\u001B[39m \u001B[38;5;124m\"\u001B[39m\u001B[38;5;124mouter\u001B[39m\u001B[38;5;124m\"\u001B[39m:\n\u001B[0;32m   1801\u001B[0m     lidx, ridx \u001B[38;5;241m=\u001B[39m libjoin\u001B[38;5;241m.\u001B[39mfull_outer_join(lkey, rkey, count)\n",
      "File \u001B[1;32mjoin.pyx:81\u001B[0m, in \u001B[0;36mpandas._libs.join.inner_join\u001B[1;34m()\u001B[0m\n",
      "File \u001B[1;32malgos.pyx:240\u001B[0m, in \u001B[0;36mpandas._libs.algos.groupsort_indexer\u001B[1;34m()\u001B[0m\n",
      "\u001B[1;31mMemoryError\u001B[0m: Unable to allocate 8.57 GiB for an array with shape (1149717109,) and data type int64"
     ]
    }
   ],
   "source": [
    "Sold_Cost = pd.merge(left = Volume_Sold, right = Volume_Cost, how = \"inner\", on =[\"Description\"])"
   ]
  },
  {
   "cell_type": "code",
   "execution_count": null,
   "id": "8b558dfa-52f6-4864-a085-53ccfbba54bd",
   "metadata": {
    "ExecuteTime": {
     "start_time": "2024-05-13T18:29:06.762482600Z"
    }
   },
   "outputs": [],
   "source": [
    "Sold_Cost[[\"Description\",\"Volume\",\"SalesPrice\",\"Sold per ML\",\"PurchasePrice\"]].sort_values(by=\"Sold per ML\", ascending=False)"
   ]
  },
  {
   "cell_type": "code",
   "execution_count": null,
   "outputs": [],
   "source": [],
   "metadata": {
    "collapsed": false
   }
  },
  {
   "cell_type": "code",
   "execution_count": null,
   "outputs": [],
   "source": [],
   "metadata": {
    "collapsed": false
   }
  },
  {
   "cell_type": "code",
   "execution_count": null,
   "outputs": [],
   "source": [],
   "metadata": {
    "collapsed": false
   }
  }
 ],
 "metadata": {
  "kernelspec": {
   "display_name": "Python 3 (ipykernel)",
   "language": "python",
   "name": "python3"
  },
  "language_info": {
   "codemirror_mode": {
    "name": "ipython",
    "version": 3
   },
   "file_extension": ".py",
   "mimetype": "text/x-python",
   "name": "python",
   "nbconvert_exporter": "python",
   "pygments_lexer": "ipython3",
   "version": "3.10.9"
  }
 },
 "nbformat": 4,
 "nbformat_minor": 5
}
