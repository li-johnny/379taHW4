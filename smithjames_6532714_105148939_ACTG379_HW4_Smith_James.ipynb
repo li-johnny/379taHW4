{
 "cells": [
  {
   "cell_type": "markdown",
   "id": "26727723",
   "metadata": {},
   "source": [
    "# Import PANDAS Library"
   ]
  },
  {
   "cell_type": "markdown",
   "id": "95c12af2",
   "metadata": {},
   "source": [
    "Notice that we are using pd as an abbreviation so each time we want to use the PANDAS library, we can simply type pd instead of pandas."
   ]
  },
  {
   "cell_type": "code",
   "execution_count": 172,
   "id": "310512c1",
   "metadata": {},
   "outputs": [],
   "source": [
    "import pandas as pd"
   ]
  },
  {
   "cell_type": "code",
   "execution_count": 173,
   "id": "2066bb5f-9ad8-4200-b298-3a8b1a17b6b8",
   "metadata": {},
   "outputs": [],
   "source": [
    "pd.options.display.float_format = '{:,.2f}'.format"
   ]
  },
  {
   "cell_type": "markdown",
   "id": "de360231",
   "metadata": {},
   "source": [
    "# Import Dataset (either full dataset or simplified)"
   ]
  },
  {
   "cell_type": "markdown",
   "id": "e12f49f5",
   "metadata": {},
   "source": [
    "You can use either set of datafiles (full or simplified). In the past some students' computers could not handle the full dataset. If you worry that your computer will not handle the full dataset (or if you find your code is running very slow), use the simplified version. \n",
    "\n",
    "The simplified version was created by taking a sample of the full data; hence the simplified files have \"Sample\" added to the end of the file names. Some files were not large to begin with and didn't need to be reduced. Those files do not have Sample added to the end of the file name."
   ]
  },
  {
   "cell_type": "markdown",
   "id": "a81d00b1",
   "metadata": {},
   "source": [
    "## Adjust the file address below to match your computer."
   ]
  },
  {
   "cell_type": "markdown",
   "id": "5fcdb8f9",
   "metadata": {},
   "source": [
    "You will want to replace the begining of the address below (i.e., everything before OneDrive - Oregon State University/)"
   ]
  },
  {
   "cell_type": "code",
   "execution_count": 174,
   "id": "1b0b00e0",
   "metadata": {},
   "outputs": [],
   "source": [
    "begInv = pd.read_csv(\"BegInvFINAL12312016.csv\")"
   ]
  },
  {
   "cell_type": "code",
   "execution_count": 175,
   "id": "745b0e67",
   "metadata": {},
   "outputs": [
    {
     "data": {
      "text/html": [
       "<div>\n",
       "<style scoped>\n",
       "    .dataframe tbody tr th:only-of-type {\n",
       "        vertical-align: middle;\n",
       "    }\n",
       "\n",
       "    .dataframe tbody tr th {\n",
       "        vertical-align: top;\n",
       "    }\n",
       "\n",
       "    .dataframe thead th {\n",
       "        text-align: right;\n",
       "    }\n",
       "</style>\n",
       "<table border=\"1\" class=\"dataframe\">\n",
       "  <thead>\n",
       "    <tr style=\"text-align: right;\">\n",
       "      <th></th>\n",
       "      <th>InventoryId</th>\n",
       "      <th>Store</th>\n",
       "      <th>City</th>\n",
       "      <th>Brand</th>\n",
       "      <th>Description</th>\n",
       "      <th>Size</th>\n",
       "      <th>onHand</th>\n",
       "      <th>Price</th>\n",
       "      <th>startDate</th>\n",
       "    </tr>\n",
       "  </thead>\n",
       "  <tbody>\n",
       "    <tr>\n",
       "      <th>0</th>\n",
       "      <td>1_HARDERSFIELD_58</td>\n",
       "      <td>1</td>\n",
       "      <td>HARDERSFIELD</td>\n",
       "      <td>58</td>\n",
       "      <td>Gekkeikan Black &amp; Gold Sake</td>\n",
       "      <td>750mL</td>\n",
       "      <td>8</td>\n",
       "      <td>12.99</td>\n",
       "      <td>2016-01-01</td>\n",
       "    </tr>\n",
       "    <tr>\n",
       "      <th>1</th>\n",
       "      <td>1_HARDERSFIELD_60</td>\n",
       "      <td>1</td>\n",
       "      <td>HARDERSFIELD</td>\n",
       "      <td>60</td>\n",
       "      <td>Canadian Club 1858 VAP</td>\n",
       "      <td>750mL</td>\n",
       "      <td>7</td>\n",
       "      <td>10.99</td>\n",
       "      <td>2016-01-01</td>\n",
       "    </tr>\n",
       "  </tbody>\n",
       "</table>\n",
       "</div>"
      ],
      "text/plain": [
       "         InventoryId  Store          City  Brand                  Description  \\\n",
       "0  1_HARDERSFIELD_58      1  HARDERSFIELD     58  Gekkeikan Black & Gold Sake   \n",
       "1  1_HARDERSFIELD_60      1  HARDERSFIELD     60       Canadian Club 1858 VAP   \n",
       "\n",
       "    Size  onHand  Price   startDate  \n",
       "0  750mL       8  12.99  2016-01-01  \n",
       "1  750mL       7  10.99  2016-01-01  "
      ]
     },
     "execution_count": 175,
     "metadata": {},
     "output_type": "execute_result"
    }
   ],
   "source": [
    "begInv.head(2)"
   ]
  },
  {
   "cell_type": "code",
   "execution_count": 176,
   "id": "4aec2074",
   "metadata": {},
   "outputs": [
    {
     "data": {
      "text/html": [
       "<div>\n",
       "<style scoped>\n",
       "    .dataframe tbody tr th:only-of-type {\n",
       "        vertical-align: middle;\n",
       "    }\n",
       "\n",
       "    .dataframe tbody tr th {\n",
       "        vertical-align: top;\n",
       "    }\n",
       "\n",
       "    .dataframe thead th {\n",
       "        text-align: right;\n",
       "    }\n",
       "</style>\n",
       "<table border=\"1\" class=\"dataframe\">\n",
       "  <thead>\n",
       "    <tr style=\"text-align: right;\">\n",
       "      <th></th>\n",
       "      <th>InventoryId</th>\n",
       "      <th>Store</th>\n",
       "      <th>City</th>\n",
       "      <th>Brand</th>\n",
       "      <th>Description</th>\n",
       "      <th>Size</th>\n",
       "      <th>01_01_2016_Qty</th>\n",
       "      <th>Price</th>\n",
       "      <th>startDate</th>\n",
       "    </tr>\n",
       "  </thead>\n",
       "  <tbody>\n",
       "    <tr>\n",
       "      <th>0</th>\n",
       "      <td>1_HARDERSFIELD_58</td>\n",
       "      <td>1</td>\n",
       "      <td>HARDERSFIELD</td>\n",
       "      <td>58</td>\n",
       "      <td>Gekkeikan Black &amp; Gold Sake</td>\n",
       "      <td>750mL</td>\n",
       "      <td>8</td>\n",
       "      <td>12.99</td>\n",
       "      <td>2016-01-01</td>\n",
       "    </tr>\n",
       "    <tr>\n",
       "      <th>1</th>\n",
       "      <td>1_HARDERSFIELD_60</td>\n",
       "      <td>1</td>\n",
       "      <td>HARDERSFIELD</td>\n",
       "      <td>60</td>\n",
       "      <td>Canadian Club 1858 VAP</td>\n",
       "      <td>750mL</td>\n",
       "      <td>7</td>\n",
       "      <td>10.99</td>\n",
       "      <td>2016-01-01</td>\n",
       "    </tr>\n",
       "  </tbody>\n",
       "</table>\n",
       "</div>"
      ],
      "text/plain": [
       "         InventoryId  Store          City  Brand                  Description  \\\n",
       "0  1_HARDERSFIELD_58      1  HARDERSFIELD     58  Gekkeikan Black & Gold Sake   \n",
       "1  1_HARDERSFIELD_60      1  HARDERSFIELD     60       Canadian Club 1858 VAP   \n",
       "\n",
       "    Size  01_01_2016_Qty  Price   startDate  \n",
       "0  750mL               8  12.99  2016-01-01  \n",
       "1  750mL               7  10.99  2016-01-01  "
      ]
     },
     "execution_count": 176,
     "metadata": {},
     "output_type": "execute_result"
    }
   ],
   "source": [
    "begInv = begInv.rename(columns = {'onHand':'01_01_2016_Qty'})\n",
    "begInv.head(2)"
   ]
  },
  {
   "cell_type": "code",
   "execution_count": 177,
   "id": "a1c86acf",
   "metadata": {},
   "outputs": [
    {
     "data": {
      "text/html": [
       "<div>\n",
       "<style scoped>\n",
       "    .dataframe tbody tr th:only-of-type {\n",
       "        vertical-align: middle;\n",
       "    }\n",
       "\n",
       "    .dataframe tbody tr th {\n",
       "        vertical-align: top;\n",
       "    }\n",
       "\n",
       "    .dataframe thead th {\n",
       "        text-align: right;\n",
       "    }\n",
       "</style>\n",
       "<table border=\"1\" class=\"dataframe\">\n",
       "  <thead>\n",
       "    <tr style=\"text-align: right;\">\n",
       "      <th></th>\n",
       "      <th>InventoryId</th>\n",
       "      <th>Store</th>\n",
       "      <th>City</th>\n",
       "      <th>Brand</th>\n",
       "      <th>Description</th>\n",
       "      <th>Size</th>\n",
       "      <th>01_01_2016_Qty</th>\n",
       "      <th>Price</th>\n",
       "      <th>startDate</th>\n",
       "      <th>InvCost01_01_2016</th>\n",
       "    </tr>\n",
       "  </thead>\n",
       "  <tbody>\n",
       "    <tr>\n",
       "      <th>0</th>\n",
       "      <td>1_HARDERSFIELD_58</td>\n",
       "      <td>1</td>\n",
       "      <td>HARDERSFIELD</td>\n",
       "      <td>58</td>\n",
       "      <td>Gekkeikan Black &amp; Gold Sake</td>\n",
       "      <td>750mL</td>\n",
       "      <td>8</td>\n",
       "      <td>12.99</td>\n",
       "      <td>2016-01-01</td>\n",
       "      <td>103.92</td>\n",
       "    </tr>\n",
       "    <tr>\n",
       "      <th>1</th>\n",
       "      <td>1_HARDERSFIELD_60</td>\n",
       "      <td>1</td>\n",
       "      <td>HARDERSFIELD</td>\n",
       "      <td>60</td>\n",
       "      <td>Canadian Club 1858 VAP</td>\n",
       "      <td>750mL</td>\n",
       "      <td>7</td>\n",
       "      <td>10.99</td>\n",
       "      <td>2016-01-01</td>\n",
       "      <td>76.93</td>\n",
       "    </tr>\n",
       "  </tbody>\n",
       "</table>\n",
       "</div>"
      ],
      "text/plain": [
       "         InventoryId  Store          City  Brand                  Description  \\\n",
       "0  1_HARDERSFIELD_58      1  HARDERSFIELD     58  Gekkeikan Black & Gold Sake   \n",
       "1  1_HARDERSFIELD_60      1  HARDERSFIELD     60       Canadian Club 1858 VAP   \n",
       "\n",
       "    Size  01_01_2016_Qty  Price   startDate  InvCost01_01_2016  \n",
       "0  750mL               8  12.99  2016-01-01             103.92  \n",
       "1  750mL               7  10.99  2016-01-01              76.93  "
      ]
     },
     "execution_count": 177,
     "metadata": {},
     "output_type": "execute_result"
    }
   ],
   "source": [
    "begInv['InvCost01_01_2016'] = begInv['01_01_2016_Qty'] * begInv['Price']\n",
    "begInv.head(2)"
   ]
  },
  {
   "cell_type": "code",
   "execution_count": 178,
   "id": "d4cca6d3",
   "metadata": {},
   "outputs": [
    {
     "data": {
      "text/html": [
       "<div>\n",
       "<style scoped>\n",
       "    .dataframe tbody tr th:only-of-type {\n",
       "        vertical-align: middle;\n",
       "    }\n",
       "\n",
       "    .dataframe tbody tr th {\n",
       "        vertical-align: top;\n",
       "    }\n",
       "\n",
       "    .dataframe thead th {\n",
       "        text-align: right;\n",
       "    }\n",
       "</style>\n",
       "<table border=\"1\" class=\"dataframe\">\n",
       "  <thead>\n",
       "    <tr style=\"text-align: right;\">\n",
       "      <th></th>\n",
       "      <th>01_01_2016_Qty</th>\n",
       "      <th>InvCost01_01_2016</th>\n",
       "    </tr>\n",
       "    <tr>\n",
       "      <th>Store</th>\n",
       "      <th></th>\n",
       "      <th></th>\n",
       "    </tr>\n",
       "  </thead>\n",
       "  <tbody>\n",
       "    <tr>\n",
       "      <th>1</th>\n",
       "      <td>49917</td>\n",
       "      <td>838,079.59</td>\n",
       "    </tr>\n",
       "    <tr>\n",
       "      <th>2</th>\n",
       "      <td>52925</td>\n",
       "      <td>840,452.20</td>\n",
       "    </tr>\n",
       "  </tbody>\n",
       "</table>\n",
       "</div>"
      ],
      "text/plain": [
       "       01_01_2016_Qty  InvCost01_01_2016\n",
       "Store                                   \n",
       "1               49917         838,079.59\n",
       "2               52925         840,452.20"
      ]
     },
     "execution_count": 178,
     "metadata": {},
     "output_type": "execute_result"
    }
   ],
   "source": [
    "begInv_Store = begInv[['Store','01_01_2016_Qty','InvCost01_01_2016']].groupby('Store').sum()\n",
    "begInv_Store.head(2)"
   ]
  },
  {
   "cell_type": "markdown",
   "id": "5c0b635f-2f4a-4f68-94aa-c53525c8a000",
   "metadata": {},
   "source": [
    "# Deliverable 1 a"
   ]
  },
  {
   "cell_type": "code",
   "execution_count": 179,
   "id": "78503522",
   "metadata": {},
   "outputs": [
    {
     "data": {
      "text/html": [
       "<div>\n",
       "<style scoped>\n",
       "    .dataframe tbody tr th:only-of-type {\n",
       "        vertical-align: middle;\n",
       "    }\n",
       "\n",
       "    .dataframe tbody tr th {\n",
       "        vertical-align: top;\n",
       "    }\n",
       "\n",
       "    .dataframe thead th {\n",
       "        text-align: right;\n",
       "    }\n",
       "</style>\n",
       "<table border=\"1\" class=\"dataframe\">\n",
       "  <thead>\n",
       "    <tr style=\"text-align: right;\">\n",
       "      <th></th>\n",
       "      <th>01_01_2016_Qty</th>\n",
       "      <th>InvCost01_01_2016</th>\n",
       "    </tr>\n",
       "    <tr>\n",
       "      <th>Store</th>\n",
       "      <th></th>\n",
       "      <th></th>\n",
       "    </tr>\n",
       "  </thead>\n",
       "  <tbody>\n",
       "    <tr>\n",
       "      <th>34</th>\n",
       "      <td>153852</td>\n",
       "      <td>3,291,170.24</td>\n",
       "    </tr>\n",
       "    <tr>\n",
       "      <th>73</th>\n",
       "      <td>162551</td>\n",
       "      <td>3,142,497.36</td>\n",
       "    </tr>\n",
       "    <tr>\n",
       "      <th>67</th>\n",
       "      <td>158996</td>\n",
       "      <td>3,079,578.63</td>\n",
       "    </tr>\n",
       "    <tr>\n",
       "      <th>66</th>\n",
       "      <td>149314</td>\n",
       "      <td>2,973,033.90</td>\n",
       "    </tr>\n",
       "    <tr>\n",
       "      <th>76</th>\n",
       "      <td>140208</td>\n",
       "      <td>2,952,418.44</td>\n",
       "    </tr>\n",
       "    <tr>\n",
       "      <th>69</th>\n",
       "      <td>144255</td>\n",
       "      <td>2,946,726.65</td>\n",
       "    </tr>\n",
       "    <tr>\n",
       "      <th>38</th>\n",
       "      <td>114368</td>\n",
       "      <td>2,232,698.77</td>\n",
       "    </tr>\n",
       "    <tr>\n",
       "      <th>55</th>\n",
       "      <td>119641</td>\n",
       "      <td>2,001,263.66</td>\n",
       "    </tr>\n",
       "    <tr>\n",
       "      <th>50</th>\n",
       "      <td>94720</td>\n",
       "      <td>1,649,808.22</td>\n",
       "    </tr>\n",
       "    <tr>\n",
       "      <th>79</th>\n",
       "      <td>95330</td>\n",
       "      <td>1,503,149.48</td>\n",
       "    </tr>\n",
       "  </tbody>\n",
       "</table>\n",
       "</div>"
      ],
      "text/plain": [
       "       01_01_2016_Qty  InvCost01_01_2016\n",
       "Store                                   \n",
       "34             153852       3,291,170.24\n",
       "73             162551       3,142,497.36\n",
       "67             158996       3,079,578.63\n",
       "66             149314       2,973,033.90\n",
       "76             140208       2,952,418.44\n",
       "69             144255       2,946,726.65\n",
       "38             114368       2,232,698.77\n",
       "55             119641       2,001,263.66\n",
       "50              94720       1,649,808.22\n",
       "79              95330       1,503,149.48"
      ]
     },
     "execution_count": 179,
     "metadata": {},
     "output_type": "execute_result"
    }
   ],
   "source": [
    "begInv_Store.sort_values(by='InvCost01_01_2016',ascending=False).head(10)"
   ]
  },
  {
   "cell_type": "markdown",
   "id": "70d16f42-3f44-41d7-8257-bf2cef6794a5",
   "metadata": {},
   "source": [
    "# The 10 stores listed above are the 10 stores holding the highest $ value of inventory at the start of the year."
   ]
  },
  {
   "cell_type": "markdown",
   "id": "399e18c1-6a86-47a4-ae64-91ec10239e3a",
   "metadata": {},
   "source": [
    "# Deliverable 1 b"
   ]
  },
  {
   "cell_type": "code",
   "execution_count": 180,
   "id": "bc47013a-bd33-4081-bf55-e15dc902577f",
   "metadata": {},
   "outputs": [],
   "source": [
    "begInv_Brand = begInv[['Brand','01_01_2016_Qty','InvCost01_01_2016']].groupby('Brand').sum()"
   ]
  },
  {
   "cell_type": "code",
   "execution_count": 181,
   "id": "7f42d112-8e3f-4c96-ba54-098a735967af",
   "metadata": {},
   "outputs": [
    {
     "data": {
      "text/html": [
       "<div>\n",
       "<style scoped>\n",
       "    .dataframe tbody tr th:only-of-type {\n",
       "        vertical-align: middle;\n",
       "    }\n",
       "\n",
       "    .dataframe tbody tr th {\n",
       "        vertical-align: top;\n",
       "    }\n",
       "\n",
       "    .dataframe thead th {\n",
       "        text-align: right;\n",
       "    }\n",
       "</style>\n",
       "<table border=\"1\" class=\"dataframe\">\n",
       "  <thead>\n",
       "    <tr style=\"text-align: right;\">\n",
       "      <th></th>\n",
       "      <th>01_01_2016_Qty</th>\n",
       "      <th>InvCost01_01_2016</th>\n",
       "    </tr>\n",
       "    <tr>\n",
       "      <th>Brand</th>\n",
       "      <th></th>\n",
       "      <th></th>\n",
       "    </tr>\n",
       "  </thead>\n",
       "  <tbody>\n",
       "    <tr>\n",
       "      <th>3545</th>\n",
       "      <td>14499</td>\n",
       "      <td>463,823.01</td>\n",
       "    </tr>\n",
       "    <tr>\n",
       "      <th>1233</th>\n",
       "      <td>12016</td>\n",
       "      <td>432,455.84</td>\n",
       "    </tr>\n",
       "    <tr>\n",
       "      <th>8068</th>\n",
       "      <td>15341</td>\n",
       "      <td>383,371.59</td>\n",
       "    </tr>\n",
       "    <tr>\n",
       "      <th>4261</th>\n",
       "      <td>15499</td>\n",
       "      <td>340,823.01</td>\n",
       "    </tr>\n",
       "    <tr>\n",
       "      <th>3858</th>\n",
       "      <td>13649</td>\n",
       "      <td>327,439.51</td>\n",
       "    </tr>\n",
       "    <tr>\n",
       "      <th>2753</th>\n",
       "      <td>4625</td>\n",
       "      <td>286,703.75</td>\n",
       "    </tr>\n",
       "    <tr>\n",
       "      <th>8082</th>\n",
       "      <td>9287</td>\n",
       "      <td>278,517.13</td>\n",
       "    </tr>\n",
       "    <tr>\n",
       "      <th>8680</th>\n",
       "      <td>7066</td>\n",
       "      <td>275,503.34</td>\n",
       "    </tr>\n",
       "    <tr>\n",
       "      <th>2589</th>\n",
       "      <td>6766</td>\n",
       "      <td>270,572.34</td>\n",
       "    </tr>\n",
       "    <tr>\n",
       "      <th>3876</th>\n",
       "      <td>14829</td>\n",
       "      <td>266,773.71</td>\n",
       "    </tr>\n",
       "  </tbody>\n",
       "</table>\n",
       "</div>"
      ],
      "text/plain": [
       "       01_01_2016_Qty  InvCost01_01_2016\n",
       "Brand                                   \n",
       "3545            14499         463,823.01\n",
       "1233            12016         432,455.84\n",
       "8068            15341         383,371.59\n",
       "4261            15499         340,823.01\n",
       "3858            13649         327,439.51\n",
       "2753             4625         286,703.75\n",
       "8082             9287         278,517.13\n",
       "8680             7066         275,503.34\n",
       "2589             6766         270,572.34\n",
       "3876            14829         266,773.71"
      ]
     },
     "execution_count": 181,
     "metadata": {},
     "output_type": "execute_result"
    }
   ],
   "source": [
    "begInv_Brand.sort_values(by='InvCost01_01_2016',ascending=False).head(10)"
   ]
  },
  {
   "cell_type": "markdown",
   "id": "aa1a39d5-ac14-432c-98a8-c097b70e1ecb",
   "metadata": {},
   "source": [
    "# The 10 brands listed above are the 10 brands holding the highest $ value of inventory at the start of the year."
   ]
  },
  {
   "cell_type": "markdown",
   "id": "6708eb2f-eeea-4a98-8b16-777c9176a4c7",
   "metadata": {},
   "source": [
    "# Deliverable 2 a"
   ]
  },
  {
   "cell_type": "code",
   "execution_count": 182,
   "id": "1ffc0f23-ac23-47b2-aa7c-f09275468568",
   "metadata": {},
   "outputs": [],
   "source": [
    "endInv = pd.read_csv(\"EndInvFINAL12312016.csv\")"
   ]
  },
  {
   "cell_type": "code",
   "execution_count": 183,
   "id": "ebac07fd-4ccf-4e03-b582-c4f1732d6956",
   "metadata": {},
   "outputs": [],
   "source": [
    "endInv = endInv.rename(columns = {'onHand':'12_31_2016_Qty'})"
   ]
  },
  {
   "cell_type": "code",
   "execution_count": 184,
   "id": "f5c56d3b-f4d6-494f-820c-ebd4031bb349",
   "metadata": {},
   "outputs": [],
   "source": [
    "endInv['InvCost12_31_2016'] = endInv['12_31_2016_Qty'] * endInv['Price']"
   ]
  },
  {
   "cell_type": "code",
   "execution_count": 185,
   "id": "b6ede6a2-340e-42f7-91c0-1f1f05123d34",
   "metadata": {},
   "outputs": [],
   "source": [
    "endInv_Store = endInv[['Store','12_31_2016_Qty','InvCost12_31_2016']].groupby('Store').sum()"
   ]
  },
  {
   "cell_type": "code",
   "execution_count": 186,
   "id": "8765230d-ce30-46cb-8e75-dd96e246bf62",
   "metadata": {},
   "outputs": [
    {
     "data": {
      "text/html": [
       "<div>\n",
       "<style scoped>\n",
       "    .dataframe tbody tr th:only-of-type {\n",
       "        vertical-align: middle;\n",
       "    }\n",
       "\n",
       "    .dataframe tbody tr th {\n",
       "        vertical-align: top;\n",
       "    }\n",
       "\n",
       "    .dataframe thead th {\n",
       "        text-align: right;\n",
       "    }\n",
       "</style>\n",
       "<table border=\"1\" class=\"dataframe\">\n",
       "  <thead>\n",
       "    <tr style=\"text-align: right;\">\n",
       "      <th></th>\n",
       "      <th>12_31_2016_Qty</th>\n",
       "      <th>InvCost12_31_2016</th>\n",
       "    </tr>\n",
       "    <tr>\n",
       "      <th>Store</th>\n",
       "      <th></th>\n",
       "      <th></th>\n",
       "    </tr>\n",
       "  </thead>\n",
       "  <tbody>\n",
       "    <tr>\n",
       "      <th>50</th>\n",
       "      <td>260717</td>\n",
       "      <td>4,887,260.68</td>\n",
       "    </tr>\n",
       "    <tr>\n",
       "      <th>73</th>\n",
       "      <td>164589</td>\n",
       "      <td>3,254,662.81</td>\n",
       "    </tr>\n",
       "    <tr>\n",
       "      <th>67</th>\n",
       "      <td>163765</td>\n",
       "      <td>3,076,114.82</td>\n",
       "    </tr>\n",
       "    <tr>\n",
       "      <th>34</th>\n",
       "      <td>145829</td>\n",
       "      <td>3,074,616.75</td>\n",
       "    </tr>\n",
       "    <tr>\n",
       "      <th>76</th>\n",
       "      <td>143866</td>\n",
       "      <td>2,975,945.18</td>\n",
       "    </tr>\n",
       "    <tr>\n",
       "      <th>69</th>\n",
       "      <td>150848</td>\n",
       "      <td>2,968,678.82</td>\n",
       "    </tr>\n",
       "    <tr>\n",
       "      <th>66</th>\n",
       "      <td>144579</td>\n",
       "      <td>2,860,504.99</td>\n",
       "    </tr>\n",
       "    <tr>\n",
       "      <th>74</th>\n",
       "      <td>166015</td>\n",
       "      <td>2,803,645.13</td>\n",
       "    </tr>\n",
       "    <tr>\n",
       "      <th>38</th>\n",
       "      <td>129397</td>\n",
       "      <td>2,463,906.85</td>\n",
       "    </tr>\n",
       "    <tr>\n",
       "      <th>55</th>\n",
       "      <td>125584</td>\n",
       "      <td>2,234,836.35</td>\n",
       "    </tr>\n",
       "  </tbody>\n",
       "</table>\n",
       "</div>"
      ],
      "text/plain": [
       "       12_31_2016_Qty  InvCost12_31_2016\n",
       "Store                                   \n",
       "50             260717       4,887,260.68\n",
       "73             164589       3,254,662.81\n",
       "67             163765       3,076,114.82\n",
       "34             145829       3,074,616.75\n",
       "76             143866       2,975,945.18\n",
       "69             150848       2,968,678.82\n",
       "66             144579       2,860,504.99\n",
       "74             166015       2,803,645.13\n",
       "38             129397       2,463,906.85\n",
       "55             125584       2,234,836.35"
      ]
     },
     "execution_count": 186,
     "metadata": {},
     "output_type": "execute_result"
    }
   ],
   "source": [
    "endInv_Store.sort_values(by='InvCost12_31_2016',ascending=False).head(10)"
   ]
  },
  {
   "cell_type": "markdown",
   "id": "463b7a1c-46c6-4a06-bd88-205a50858550",
   "metadata": {},
   "source": [
    "# The 10 stores listed above are the 10 stores with the highest $ value of inventory at the end of the year."
   ]
  },
  {
   "cell_type": "markdown",
   "id": "01e173c6-51c0-4a83-9cd5-2de9e9b348cb",
   "metadata": {},
   "source": [
    "# Deliverable 2 b"
   ]
  },
  {
   "cell_type": "code",
   "execution_count": 187,
   "id": "a2d6eb88-acd8-445a-b92d-c2dea73c9b94",
   "metadata": {},
   "outputs": [],
   "source": [
    "endInv_Brand = endInv[['Brand','12_31_2016_Qty','InvCost12_31_2016']].groupby('Brand').sum()"
   ]
  },
  {
   "cell_type": "code",
   "execution_count": 188,
   "id": "820792af-9a95-4c39-ab95-b535fefb7fd7",
   "metadata": {},
   "outputs": [
    {
     "data": {
      "text/html": [
       "<div>\n",
       "<style scoped>\n",
       "    .dataframe tbody tr th:only-of-type {\n",
       "        vertical-align: middle;\n",
       "    }\n",
       "\n",
       "    .dataframe tbody tr th {\n",
       "        vertical-align: top;\n",
       "    }\n",
       "\n",
       "    .dataframe thead th {\n",
       "        text-align: right;\n",
       "    }\n",
       "</style>\n",
       "<table border=\"1\" class=\"dataframe\">\n",
       "  <thead>\n",
       "    <tr style=\"text-align: right;\">\n",
       "      <th></th>\n",
       "      <th>12_31_2016_Qty</th>\n",
       "      <th>InvCost12_31_2016</th>\n",
       "    </tr>\n",
       "    <tr>\n",
       "      <th>Brand</th>\n",
       "      <th></th>\n",
       "      <th></th>\n",
       "    </tr>\n",
       "  </thead>\n",
       "  <tbody>\n",
       "    <tr>\n",
       "      <th>1233</th>\n",
       "      <td>15047</td>\n",
       "      <td>526,494.53</td>\n",
       "    </tr>\n",
       "    <tr>\n",
       "      <th>3545</th>\n",
       "      <td>16770</td>\n",
       "      <td>502,932.30</td>\n",
       "    </tr>\n",
       "    <tr>\n",
       "      <th>2753</th>\n",
       "      <td>7849</td>\n",
       "      <td>470,861.51</td>\n",
       "    </tr>\n",
       "    <tr>\n",
       "      <th>8068</th>\n",
       "      <td>15608</td>\n",
       "      <td>366,631.92</td>\n",
       "    </tr>\n",
       "    <tr>\n",
       "      <th>3405</th>\n",
       "      <td>12268</td>\n",
       "      <td>355,649.32</td>\n",
       "    </tr>\n",
       "    <tr>\n",
       "      <th>4261</th>\n",
       "      <td>16769</td>\n",
       "      <td>351,981.31</td>\n",
       "    </tr>\n",
       "    <tr>\n",
       "      <th>2757</th>\n",
       "      <td>11603</td>\n",
       "      <td>336,370.97</td>\n",
       "    </tr>\n",
       "    <tr>\n",
       "      <th>2589</th>\n",
       "      <td>7922</td>\n",
       "      <td>300,956.78</td>\n",
       "    </tr>\n",
       "    <tr>\n",
       "      <th>1376</th>\n",
       "      <td>13180</td>\n",
       "      <td>276,648.20</td>\n",
       "    </tr>\n",
       "    <tr>\n",
       "      <th>2585</th>\n",
       "      <td>10487</td>\n",
       "      <td>272,557.13</td>\n",
       "    </tr>\n",
       "  </tbody>\n",
       "</table>\n",
       "</div>"
      ],
      "text/plain": [
       "       12_31_2016_Qty  InvCost12_31_2016\n",
       "Brand                                   \n",
       "1233            15047         526,494.53\n",
       "3545            16770         502,932.30\n",
       "2753             7849         470,861.51\n",
       "8068            15608         366,631.92\n",
       "3405            12268         355,649.32\n",
       "4261            16769         351,981.31\n",
       "2757            11603         336,370.97\n",
       "2589             7922         300,956.78\n",
       "1376            13180         276,648.20\n",
       "2585            10487         272,557.13"
      ]
     },
     "execution_count": 188,
     "metadata": {},
     "output_type": "execute_result"
    }
   ],
   "source": [
    "endInv_Brand.sort_values(by='InvCost12_31_2016',ascending=False).head(10)"
   ]
  },
  {
   "cell_type": "markdown",
   "id": "910b1f11-1ca0-464e-b008-3a2b34f0f126",
   "metadata": {},
   "source": [
    "# The 10 Brands listed above are the 10 Brands with the highest $ value of inventory at the end of the year."
   ]
  },
  {
   "cell_type": "markdown",
   "id": "3901cbcb-311c-4e42-8f17-d74206a6bdba",
   "metadata": {},
   "source": [
    "# Deliverable 3"
   ]
  },
  {
   "cell_type": "code",
   "execution_count": 189,
   "id": "2bd1ae92-dd57-488d-ad51-cc7aab1ec234",
   "metadata": {},
   "outputs": [],
   "source": [
    "MergeInv= pd.merge(left=begInv[['InventoryId','01_01_2016_Qty','InvCost01_01_2016']], right=endInv[['InventoryId','12_31_2016_Qty','InvCost12_31_2016']],how='outer',on=['InventoryId'])"
   ]
  },
  {
   "cell_type": "code",
   "execution_count": 190,
   "id": "5228baac-2b74-4a2c-a008-cfb44159faa5",
   "metadata": {},
   "outputs": [
    {
     "data": {
      "text/html": [
       "<div>\n",
       "<style scoped>\n",
       "    .dataframe tbody tr th:only-of-type {\n",
       "        vertical-align: middle;\n",
       "    }\n",
       "\n",
       "    .dataframe tbody tr th {\n",
       "        vertical-align: top;\n",
       "    }\n",
       "\n",
       "    .dataframe thead th {\n",
       "        text-align: right;\n",
       "    }\n",
       "</style>\n",
       "<table border=\"1\" class=\"dataframe\">\n",
       "  <thead>\n",
       "    <tr style=\"text-align: right;\">\n",
       "      <th></th>\n",
       "      <th>InventoryId</th>\n",
       "      <th>01_01_2016_Qty</th>\n",
       "      <th>InvCost01_01_2016</th>\n",
       "      <th>12_31_2016_Qty</th>\n",
       "      <th>InvCost12_31_2016</th>\n",
       "    </tr>\n",
       "  </thead>\n",
       "  <tbody>\n",
       "    <tr>\n",
       "      <th>0</th>\n",
       "      <td>1_HARDERSFIELD_58</td>\n",
       "      <td>8.00</td>\n",
       "      <td>103.92</td>\n",
       "      <td>11.00</td>\n",
       "      <td>142.89</td>\n",
       "    </tr>\n",
       "    <tr>\n",
       "      <th>1</th>\n",
       "      <td>1_HARDERSFIELD_60</td>\n",
       "      <td>7.00</td>\n",
       "      <td>76.93</td>\n",
       "      <td>NaN</td>\n",
       "      <td>NaN</td>\n",
       "    </tr>\n",
       "    <tr>\n",
       "      <th>2</th>\n",
       "      <td>1_HARDERSFIELD_62</td>\n",
       "      <td>6.00</td>\n",
       "      <td>221.94</td>\n",
       "      <td>7.00</td>\n",
       "      <td>258.93</td>\n",
       "    </tr>\n",
       "    <tr>\n",
       "      <th>3</th>\n",
       "      <td>1_HARDERSFIELD_63</td>\n",
       "      <td>3.00</td>\n",
       "      <td>116.97</td>\n",
       "      <td>7.00</td>\n",
       "      <td>272.93</td>\n",
       "    </tr>\n",
       "    <tr>\n",
       "      <th>4</th>\n",
       "      <td>1_HARDERSFIELD_72</td>\n",
       "      <td>6.00</td>\n",
       "      <td>209.94</td>\n",
       "      <td>4.00</td>\n",
       "      <td>139.96</td>\n",
       "    </tr>\n",
       "    <tr>\n",
       "      <th>5</th>\n",
       "      <td>1_HARDERSFIELD_75</td>\n",
       "      <td>18.00</td>\n",
       "      <td>269.82</td>\n",
       "      <td>7.00</td>\n",
       "      <td>104.93</td>\n",
       "    </tr>\n",
       "    <tr>\n",
       "      <th>6</th>\n",
       "      <td>1_HARDERSFIELD_77</td>\n",
       "      <td>7.00</td>\n",
       "      <td>104.93</td>\n",
       "      <td>18.00</td>\n",
       "      <td>269.82</td>\n",
       "    </tr>\n",
       "    <tr>\n",
       "      <th>7</th>\n",
       "      <td>1_HARDERSFIELD_79</td>\n",
       "      <td>2.00</td>\n",
       "      <td>29.98</td>\n",
       "      <td>7.00</td>\n",
       "      <td>104.93</td>\n",
       "    </tr>\n",
       "    <tr>\n",
       "      <th>8</th>\n",
       "      <td>1_HARDERSFIELD_115</td>\n",
       "      <td>5.00</td>\n",
       "      <td>139.95</td>\n",
       "      <td>35.00</td>\n",
       "      <td>979.65</td>\n",
       "    </tr>\n",
       "    <tr>\n",
       "      <th>9</th>\n",
       "      <td>1_HARDERSFIELD_120</td>\n",
       "      <td>11.00</td>\n",
       "      <td>153.89</td>\n",
       "      <td>NaN</td>\n",
       "      <td>NaN</td>\n",
       "    </tr>\n",
       "  </tbody>\n",
       "</table>\n",
       "</div>"
      ],
      "text/plain": [
       "          InventoryId  01_01_2016_Qty  InvCost01_01_2016  12_31_2016_Qty  \\\n",
       "0   1_HARDERSFIELD_58            8.00             103.92           11.00   \n",
       "1   1_HARDERSFIELD_60            7.00              76.93             NaN   \n",
       "2   1_HARDERSFIELD_62            6.00             221.94            7.00   \n",
       "3   1_HARDERSFIELD_63            3.00             116.97            7.00   \n",
       "4   1_HARDERSFIELD_72            6.00             209.94            4.00   \n",
       "5   1_HARDERSFIELD_75           18.00             269.82            7.00   \n",
       "6   1_HARDERSFIELD_77            7.00             104.93           18.00   \n",
       "7   1_HARDERSFIELD_79            2.00              29.98            7.00   \n",
       "8  1_HARDERSFIELD_115            5.00             139.95           35.00   \n",
       "9  1_HARDERSFIELD_120           11.00             153.89             NaN   \n",
       "\n",
       "   InvCost12_31_2016  \n",
       "0             142.89  \n",
       "1                NaN  \n",
       "2             258.93  \n",
       "3             272.93  \n",
       "4             139.96  \n",
       "5             104.93  \n",
       "6             269.82  \n",
       "7             104.93  \n",
       "8             979.65  \n",
       "9                NaN  "
      ]
     },
     "execution_count": 190,
     "metadata": {},
     "output_type": "execute_result"
    }
   ],
   "source": [
    "MergeInv.head(10)"
   ]
  },
  {
   "cell_type": "markdown",
   "id": "06c1b495-f82c-433d-8775-ec23730c83f7",
   "metadata": {},
   "source": [
    "# The above Dataframe shows the beg and end inventory balances in terms of both quantity and total $ value held for each InventoryId."
   ]
  },
  {
   "cell_type": "markdown",
   "id": "0b88989c-e186-4c87-b08a-41df5f97026e",
   "metadata": {},
   "source": [
    "# Deliverable 4a"
   ]
  },
  {
   "cell_type": "code",
   "execution_count": 191,
   "id": "bb598182-429b-4c2f-bf6e-d412bd8e7fde",
   "metadata": {},
   "outputs": [],
   "source": [
    "PurchaseData = pd.read_csv(\"PurchasesFINAL12312016.csv\")"
   ]
  },
  {
   "cell_type": "code",
   "execution_count": 192,
   "id": "3f2fb844-df06-45a8-9aa3-b98bc72ebad9",
   "metadata": {},
   "outputs": [
    {
     "data": {
      "text/html": [
       "<div>\n",
       "<style scoped>\n",
       "    .dataframe tbody tr th:only-of-type {\n",
       "        vertical-align: middle;\n",
       "    }\n",
       "\n",
       "    .dataframe tbody tr th {\n",
       "        vertical-align: top;\n",
       "    }\n",
       "\n",
       "    .dataframe thead th {\n",
       "        text-align: right;\n",
       "    }\n",
       "</style>\n",
       "<table border=\"1\" class=\"dataframe\">\n",
       "  <thead>\n",
       "    <tr style=\"text-align: right;\">\n",
       "      <th></th>\n",
       "      <th>InventoryId</th>\n",
       "      <th>Store</th>\n",
       "      <th>Brand</th>\n",
       "      <th>Description</th>\n",
       "      <th>Size</th>\n",
       "      <th>VendorNumber</th>\n",
       "      <th>VendorName</th>\n",
       "      <th>PONumber</th>\n",
       "      <th>PODate</th>\n",
       "      <th>ReceivingDate</th>\n",
       "      <th>InvoiceDate</th>\n",
       "      <th>PayDate</th>\n",
       "      <th>PurchasePrice</th>\n",
       "      <th>Quantity</th>\n",
       "      <th>Dollars</th>\n",
       "      <th>Classification</th>\n",
       "    </tr>\n",
       "  </thead>\n",
       "  <tbody>\n",
       "    <tr>\n",
       "      <th>0</th>\n",
       "      <td>69_MOUNTMEND_8412</td>\n",
       "      <td>69</td>\n",
       "      <td>8412</td>\n",
       "      <td>Tequila Ocho Plata Fresno</td>\n",
       "      <td>750mL</td>\n",
       "      <td>105</td>\n",
       "      <td>ALTAMAR BRANDS LLC</td>\n",
       "      <td>8124</td>\n",
       "      <td>2015-12-21</td>\n",
       "      <td>2016-01-02</td>\n",
       "      <td>2016-01-04</td>\n",
       "      <td>2016-02-16</td>\n",
       "      <td>35.71</td>\n",
       "      <td>6</td>\n",
       "      <td>214.26</td>\n",
       "      <td>1</td>\n",
       "    </tr>\n",
       "    <tr>\n",
       "      <th>1</th>\n",
       "      <td>30_CULCHETH_5255</td>\n",
       "      <td>30</td>\n",
       "      <td>5255</td>\n",
       "      <td>TGI Fridays Ultimte Mudslide</td>\n",
       "      <td>1.75L</td>\n",
       "      <td>4466</td>\n",
       "      <td>AMERICAN VINTAGE BEVERAGE</td>\n",
       "      <td>8137</td>\n",
       "      <td>2015-12-22</td>\n",
       "      <td>2016-01-01</td>\n",
       "      <td>2016-01-07</td>\n",
       "      <td>2016-02-21</td>\n",
       "      <td>9.35</td>\n",
       "      <td>4</td>\n",
       "      <td>37.40</td>\n",
       "      <td>1</td>\n",
       "    </tr>\n",
       "    <tr>\n",
       "      <th>2</th>\n",
       "      <td>34_PITMERDEN_5215</td>\n",
       "      <td>34</td>\n",
       "      <td>5215</td>\n",
       "      <td>TGI Fridays Long Island Iced</td>\n",
       "      <td>1.75L</td>\n",
       "      <td>4466</td>\n",
       "      <td>AMERICAN VINTAGE BEVERAGE</td>\n",
       "      <td>8137</td>\n",
       "      <td>2015-12-22</td>\n",
       "      <td>2016-01-02</td>\n",
       "      <td>2016-01-07</td>\n",
       "      <td>2016-02-21</td>\n",
       "      <td>9.41</td>\n",
       "      <td>5</td>\n",
       "      <td>47.05</td>\n",
       "      <td>1</td>\n",
       "    </tr>\n",
       "    <tr>\n",
       "      <th>3</th>\n",
       "      <td>1_HARDERSFIELD_5255</td>\n",
       "      <td>1</td>\n",
       "      <td>5255</td>\n",
       "      <td>TGI Fridays Ultimte Mudslide</td>\n",
       "      <td>1.75L</td>\n",
       "      <td>4466</td>\n",
       "      <td>AMERICAN VINTAGE BEVERAGE</td>\n",
       "      <td>8137</td>\n",
       "      <td>2015-12-22</td>\n",
       "      <td>2016-01-01</td>\n",
       "      <td>2016-01-07</td>\n",
       "      <td>2016-02-21</td>\n",
       "      <td>9.35</td>\n",
       "      <td>6</td>\n",
       "      <td>56.10</td>\n",
       "      <td>1</td>\n",
       "    </tr>\n",
       "    <tr>\n",
       "      <th>4</th>\n",
       "      <td>76_DONCASTER_2034</td>\n",
       "      <td>76</td>\n",
       "      <td>2034</td>\n",
       "      <td>Glendalough Double Barrel</td>\n",
       "      <td>750mL</td>\n",
       "      <td>388</td>\n",
       "      <td>ATLANTIC IMPORTING COMPANY</td>\n",
       "      <td>8169</td>\n",
       "      <td>2015-12-24</td>\n",
       "      <td>2016-01-02</td>\n",
       "      <td>2016-01-09</td>\n",
       "      <td>2016-02-16</td>\n",
       "      <td>21.32</td>\n",
       "      <td>5</td>\n",
       "      <td>106.60</td>\n",
       "      <td>1</td>\n",
       "    </tr>\n",
       "  </tbody>\n",
       "</table>\n",
       "</div>"
      ],
      "text/plain": [
       "           InventoryId  Store  Brand                   Description   Size  \\\n",
       "0    69_MOUNTMEND_8412     69   8412     Tequila Ocho Plata Fresno  750mL   \n",
       "1     30_CULCHETH_5255     30   5255  TGI Fridays Ultimte Mudslide  1.75L   \n",
       "2    34_PITMERDEN_5215     34   5215  TGI Fridays Long Island Iced  1.75L   \n",
       "3  1_HARDERSFIELD_5255      1   5255  TGI Fridays Ultimte Mudslide  1.75L   \n",
       "4    76_DONCASTER_2034     76   2034     Glendalough Double Barrel  750mL   \n",
       "\n",
       "   VendorNumber                   VendorName  PONumber      PODate  \\\n",
       "0           105  ALTAMAR BRANDS LLC               8124  2015-12-21   \n",
       "1          4466  AMERICAN VINTAGE BEVERAGE        8137  2015-12-22   \n",
       "2          4466  AMERICAN VINTAGE BEVERAGE        8137  2015-12-22   \n",
       "3          4466  AMERICAN VINTAGE BEVERAGE        8137  2015-12-22   \n",
       "4           388  ATLANTIC IMPORTING COMPANY       8169  2015-12-24   \n",
       "\n",
       "  ReceivingDate InvoiceDate     PayDate  PurchasePrice  Quantity  Dollars  \\\n",
       "0    2016-01-02  2016-01-04  2016-02-16          35.71         6   214.26   \n",
       "1    2016-01-01  2016-01-07  2016-02-21           9.35         4    37.40   \n",
       "2    2016-01-02  2016-01-07  2016-02-21           9.41         5    47.05   \n",
       "3    2016-01-01  2016-01-07  2016-02-21           9.35         6    56.10   \n",
       "4    2016-01-02  2016-01-09  2016-02-16          21.32         5   106.60   \n",
       "\n",
       "   Classification  \n",
       "0               1  \n",
       "1               1  \n",
       "2               1  \n",
       "3               1  \n",
       "4               1  "
      ]
     },
     "execution_count": 192,
     "metadata": {},
     "output_type": "execute_result"
    }
   ],
   "source": [
    "PurchaseData.head()"
   ]
  },
  {
   "cell_type": "code",
   "execution_count": 193,
   "id": "d07a5f9e-9bc2-4ab6-b21c-5b54c1ac23c3",
   "metadata": {},
   "outputs": [],
   "source": [
    "VSold = PurchaseData[['VendorName','Dollars']].groupby('VendorName').sum()"
   ]
  },
  {
   "cell_type": "code",
   "execution_count": 194,
   "id": "90fa4277-80d8-4b36-a050-2691337c4ea8",
   "metadata": {},
   "outputs": [
    {
     "data": {
      "text/html": [
       "<div>\n",
       "<style scoped>\n",
       "    .dataframe tbody tr th:only-of-type {\n",
       "        vertical-align: middle;\n",
       "    }\n",
       "\n",
       "    .dataframe tbody tr th {\n",
       "        vertical-align: top;\n",
       "    }\n",
       "\n",
       "    .dataframe thead th {\n",
       "        text-align: right;\n",
       "    }\n",
       "</style>\n",
       "<table border=\"1\" class=\"dataframe\">\n",
       "  <thead>\n",
       "    <tr style=\"text-align: right;\">\n",
       "      <th></th>\n",
       "      <th>Dollars</th>\n",
       "    </tr>\n",
       "    <tr>\n",
       "      <th>VendorName</th>\n",
       "      <th></th>\n",
       "    </tr>\n",
       "  </thead>\n",
       "  <tbody>\n",
       "    <tr>\n",
       "      <th>DIAGEO NORTH AMERICA INC</th>\n",
       "      <td>50,959,796.85</td>\n",
       "    </tr>\n",
       "    <tr>\n",
       "      <th>MARTIGNETTI COMPANIES</th>\n",
       "      <td>27,821,473.91</td>\n",
       "    </tr>\n",
       "    <tr>\n",
       "      <th>JIM BEAM BRANDS COMPANY</th>\n",
       "      <td>24,203,151.05</td>\n",
       "    </tr>\n",
       "    <tr>\n",
       "      <th>PERNOD RICARD USA</th>\n",
       "      <td>24,124,091.56</td>\n",
       "    </tr>\n",
       "    <tr>\n",
       "      <th>BACARDI USA INC</th>\n",
       "      <td>17,624,378.72</td>\n",
       "    </tr>\n",
       "    <tr>\n",
       "      <th>CONSTELLATION BRANDS INC</th>\n",
       "      <td>15,573,917.90</td>\n",
       "    </tr>\n",
       "    <tr>\n",
       "      <th>BROWN-FORMAN CORP</th>\n",
       "      <td>13,529,433.08</td>\n",
       "    </tr>\n",
       "    <tr>\n",
       "      <th>ULTRA BEVERAGE COMPANY LLP</th>\n",
       "      <td>13,210,613.93</td>\n",
       "    </tr>\n",
       "    <tr>\n",
       "      <th>E &amp; J GALLO WINERY</th>\n",
       "      <td>12,289,608.09</td>\n",
       "    </tr>\n",
       "    <tr>\n",
       "      <th>M S WALKER INC</th>\n",
       "      <td>10,935,817.30</td>\n",
       "    </tr>\n",
       "  </tbody>\n",
       "</table>\n",
       "</div>"
      ],
      "text/plain": [
       "                                  Dollars\n",
       "VendorName                               \n",
       "DIAGEO NORTH AMERICA INC    50,959,796.85\n",
       "MARTIGNETTI COMPANIES       27,821,473.91\n",
       "JIM BEAM BRANDS COMPANY     24,203,151.05\n",
       "PERNOD RICARD USA           24,124,091.56\n",
       "BACARDI USA INC             17,624,378.72\n",
       "CONSTELLATION BRANDS INC    15,573,917.90\n",
       "BROWN-FORMAN CORP           13,529,433.08\n",
       "ULTRA BEVERAGE COMPANY LLP  13,210,613.93\n",
       "E & J GALLO WINERY          12,289,608.09\n",
       "M S WALKER INC              10,935,817.30"
      ]
     },
     "execution_count": 194,
     "metadata": {},
     "output_type": "execute_result"
    }
   ],
   "source": [
    "VSold.sort_values(by='Dollars',ascending=False).head(10)"
   ]
  },
  {
   "cell_type": "markdown",
   "id": "a8b8eee2-0a7d-43e9-93da-072cf11b0c0e",
   "metadata": {},
   "source": [
    "# The above Dataframe shows the top 10 Vendors who sold Bibtor the most inventory in total $ during 2016."
   ]
  },
  {
   "cell_type": "markdown",
   "id": "63e46e5f-637f-4e2c-819d-d9d303523081",
   "metadata": {},
   "source": [
    "# Deliverable 4 b"
   ]
  },
  {
   "cell_type": "code",
   "execution_count": 195,
   "id": "9130c9af-f771-49e1-a988-6459a5bca116",
   "metadata": {},
   "outputs": [],
   "source": [
    "InvoiceData = pd.read_csv(\"InvoicePurchases12312016.csv\")"
   ]
  },
  {
   "cell_type": "code",
   "execution_count": 196,
   "id": "ee6022fc-df15-40fe-ba4c-ce9cb8c4ab4c",
   "metadata": {},
   "outputs": [
    {
     "data": {
      "text/html": [
       "<div>\n",
       "<style scoped>\n",
       "    .dataframe tbody tr th:only-of-type {\n",
       "        vertical-align: middle;\n",
       "    }\n",
       "\n",
       "    .dataframe tbody tr th {\n",
       "        vertical-align: top;\n",
       "    }\n",
       "\n",
       "    .dataframe thead th {\n",
       "        text-align: right;\n",
       "    }\n",
       "</style>\n",
       "<table border=\"1\" class=\"dataframe\">\n",
       "  <thead>\n",
       "    <tr style=\"text-align: right;\">\n",
       "      <th></th>\n",
       "      <th>VendorNumber</th>\n",
       "      <th>VendorName</th>\n",
       "      <th>InvoiceDate</th>\n",
       "      <th>PONumber</th>\n",
       "      <th>PODate</th>\n",
       "      <th>PayDate</th>\n",
       "      <th>Quantity</th>\n",
       "      <th>Dollars</th>\n",
       "      <th>Freight</th>\n",
       "      <th>Approval</th>\n",
       "    </tr>\n",
       "  </thead>\n",
       "  <tbody>\n",
       "    <tr>\n",
       "      <th>0</th>\n",
       "      <td>105</td>\n",
       "      <td>ALTAMAR BRANDS LLC</td>\n",
       "      <td>2016-01-04</td>\n",
       "      <td>8124</td>\n",
       "      <td>2015-12-21</td>\n",
       "      <td>2016-02-16</td>\n",
       "      <td>6</td>\n",
       "      <td>214.26</td>\n",
       "      <td>3.47</td>\n",
       "      <td>NaN</td>\n",
       "    </tr>\n",
       "    <tr>\n",
       "      <th>1</th>\n",
       "      <td>4466</td>\n",
       "      <td>AMERICAN VINTAGE BEVERAGE</td>\n",
       "      <td>2016-01-07</td>\n",
       "      <td>8137</td>\n",
       "      <td>2015-12-22</td>\n",
       "      <td>2016-02-21</td>\n",
       "      <td>15</td>\n",
       "      <td>140.55</td>\n",
       "      <td>8.57</td>\n",
       "      <td>NaN</td>\n",
       "    </tr>\n",
       "    <tr>\n",
       "      <th>2</th>\n",
       "      <td>388</td>\n",
       "      <td>ATLANTIC IMPORTING COMPANY</td>\n",
       "      <td>2016-01-09</td>\n",
       "      <td>8169</td>\n",
       "      <td>2015-12-24</td>\n",
       "      <td>2016-02-16</td>\n",
       "      <td>5</td>\n",
       "      <td>106.60</td>\n",
       "      <td>4.61</td>\n",
       "      <td>NaN</td>\n",
       "    </tr>\n",
       "    <tr>\n",
       "      <th>3</th>\n",
       "      <td>480</td>\n",
       "      <td>BACARDI USA INC</td>\n",
       "      <td>2016-01-12</td>\n",
       "      <td>8106</td>\n",
       "      <td>2015-12-20</td>\n",
       "      <td>2016-02-05</td>\n",
       "      <td>10100</td>\n",
       "      <td>137,483.78</td>\n",
       "      <td>2,935.20</td>\n",
       "      <td>NaN</td>\n",
       "    </tr>\n",
       "    <tr>\n",
       "      <th>4</th>\n",
       "      <td>516</td>\n",
       "      <td>BANFI PRODUCTS CORP</td>\n",
       "      <td>2016-01-07</td>\n",
       "      <td>8170</td>\n",
       "      <td>2015-12-24</td>\n",
       "      <td>2016-02-12</td>\n",
       "      <td>1935</td>\n",
       "      <td>15,527.25</td>\n",
       "      <td>429.20</td>\n",
       "      <td>NaN</td>\n",
       "    </tr>\n",
       "  </tbody>\n",
       "</table>\n",
       "</div>"
      ],
      "text/plain": [
       "   VendorNumber                   VendorName InvoiceDate  PONumber  \\\n",
       "0           105  ALTAMAR BRANDS LLC           2016-01-04      8124   \n",
       "1          4466  AMERICAN VINTAGE BEVERAGE    2016-01-07      8137   \n",
       "2           388  ATLANTIC IMPORTING COMPANY   2016-01-09      8169   \n",
       "3           480  BACARDI USA INC              2016-01-12      8106   \n",
       "4           516  BANFI PRODUCTS CORP          2016-01-07      8170   \n",
       "\n",
       "       PODate     PayDate  Quantity    Dollars  Freight Approval  \n",
       "0  2015-12-21  2016-02-16         6     214.26     3.47      NaN  \n",
       "1  2015-12-22  2016-02-21        15     140.55     8.57      NaN  \n",
       "2  2015-12-24  2016-02-16         5     106.60     4.61      NaN  \n",
       "3  2015-12-20  2016-02-05     10100 137,483.78 2,935.20      NaN  \n",
       "4  2015-12-24  2016-02-12      1935  15,527.25   429.20      NaN  "
      ]
     },
     "execution_count": 196,
     "metadata": {},
     "output_type": "execute_result"
    }
   ],
   "source": [
    "InvoiceData.head()"
   ]
  },
  {
   "cell_type": "code",
   "execution_count": 197,
   "id": "f40de236-bbee-45aa-b4a5-69ec5e71d007",
   "metadata": {},
   "outputs": [],
   "source": [
    "VCharged = InvoiceData[['VendorName','Freight']].groupby('VendorName').sum()"
   ]
  },
  {
   "cell_type": "code",
   "execution_count": 198,
   "id": "616446d2-ea26-42a5-a615-4a5c3f3af3df",
   "metadata": {
    "scrolled": true
   },
   "outputs": [
    {
     "data": {
      "text/html": [
       "<div>\n",
       "<style scoped>\n",
       "    .dataframe tbody tr th:only-of-type {\n",
       "        vertical-align: middle;\n",
       "    }\n",
       "\n",
       "    .dataframe tbody tr th {\n",
       "        vertical-align: top;\n",
       "    }\n",
       "\n",
       "    .dataframe thead th {\n",
       "        text-align: right;\n",
       "    }\n",
       "</style>\n",
       "<table border=\"1\" class=\"dataframe\">\n",
       "  <thead>\n",
       "    <tr style=\"text-align: right;\">\n",
       "      <th></th>\n",
       "      <th>Freight</th>\n",
       "    </tr>\n",
       "    <tr>\n",
       "      <th>VendorName</th>\n",
       "      <th></th>\n",
       "    </tr>\n",
       "  </thead>\n",
       "  <tbody>\n",
       "    <tr>\n",
       "      <th>DIAGEO NORTH AMERICA INC</th>\n",
       "      <td>257,032.07</td>\n",
       "    </tr>\n",
       "    <tr>\n",
       "      <th>MARTIGNETTI COMPANIES</th>\n",
       "      <td>144,719.92</td>\n",
       "    </tr>\n",
       "    <tr>\n",
       "      <th>JIM BEAM BRANDS COMPANY</th>\n",
       "      <td>123,880.97</td>\n",
       "    </tr>\n",
       "    <tr>\n",
       "      <th>PERNOD RICARD USA</th>\n",
       "      <td>123,780.22</td>\n",
       "    </tr>\n",
       "    <tr>\n",
       "      <th>BACARDI USA INC</th>\n",
       "      <td>89,286.27</td>\n",
       "    </tr>\n",
       "    <tr>\n",
       "      <th>CONSTELLATION BRANDS INC</th>\n",
       "      <td>79,528.99</td>\n",
       "    </tr>\n",
       "    <tr>\n",
       "      <th>BROWN-FORMAN CORP</th>\n",
       "      <td>68,601.68</td>\n",
       "    </tr>\n",
       "    <tr>\n",
       "      <th>ULTRA BEVERAGE COMPANY LLP</th>\n",
       "      <td>68,054.70</td>\n",
       "    </tr>\n",
       "    <tr>\n",
       "      <th>E &amp; J GALLO WINERY</th>\n",
       "      <td>61,966.91</td>\n",
       "    </tr>\n",
       "    <tr>\n",
       "      <th>M S WALKER INC</th>\n",
       "      <td>55,551.82</td>\n",
       "    </tr>\n",
       "  </tbody>\n",
       "</table>\n",
       "</div>"
      ],
      "text/plain": [
       "                               Freight\n",
       "VendorName                            \n",
       "DIAGEO NORTH AMERICA INC    257,032.07\n",
       "MARTIGNETTI COMPANIES       144,719.92\n",
       "JIM BEAM BRANDS COMPANY     123,880.97\n",
       "PERNOD RICARD USA           123,780.22\n",
       "BACARDI USA INC              89,286.27\n",
       "CONSTELLATION BRANDS INC     79,528.99\n",
       "BROWN-FORMAN CORP            68,601.68\n",
       "ULTRA BEVERAGE COMPANY LLP   68,054.70\n",
       "E & J GALLO WINERY           61,966.91\n",
       "M S WALKER INC               55,551.82"
      ]
     },
     "execution_count": 198,
     "metadata": {},
     "output_type": "execute_result"
    }
   ],
   "source": [
    "VCharged.sort_values(by='Freight',ascending=False).head(10)"
   ]
  },
  {
   "cell_type": "markdown",
   "id": "62312a52-6a01-41e9-8ea4-f85bcdb5ffc3",
   "metadata": {},
   "source": [
    "# The above Dataframe shows the top 10 Vendors who charged Bibtor the most Freight in total $ during 2016."
   ]
  },
  {
   "cell_type": "markdown",
   "id": "9e635102-218c-4f62-94c0-f0dc18eaa008",
   "metadata": {},
   "source": [
    "# Deliverable 4 c"
   ]
  },
  {
   "cell_type": "code",
   "execution_count": 199,
   "id": "9d322b0b-a103-4ed1-8439-f3c10ba38cc5",
   "metadata": {},
   "outputs": [],
   "source": [
    "total_purchase_amount = InvoiceData.groupby('VendorName')['Dollars'].sum()\n",
    "filtered_total_purchase_amount = total_purchase_amount[total_purchase_amount >= 250000]"
   ]
  },
  {
   "cell_type": "code",
   "execution_count": 200,
   "id": "517c26a3-3270-4f69-871c-2c87dd9e7126",
   "metadata": {},
   "outputs": [],
   "source": [
    "freight_per_dollar = InvoiceData.groupby('VendorName').apply(lambda x: x['Freight'].sum() / x['Dollars'].sum())"
   ]
  },
  {
   "cell_type": "code",
   "execution_count": 201,
   "id": "a494e077-3754-4cd5-9474-8f6cf4a205f8",
   "metadata": {},
   "outputs": [],
   "source": [
    "top_10_vendors = freight_per_dollar.sort_values(ascending=False).head(10)\n",
    "bottom_5_vendors = freight_per_dollar.sort_values(ascending=True).head(5)"
   ]
  },
  {
   "cell_type": "code",
   "execution_count": 202,
   "id": "24e6a51b-ad29-41cd-a0d2-96d36c1e79c7",
   "metadata": {},
   "outputs": [],
   "source": [
    "D4C = pd.concat([top_10_vendors, bottom_5_vendors], axis=0)"
   ]
  },
  {
   "cell_type": "code",
   "execution_count": 203,
   "id": "1fbc5cad-0012-46f7-a3e4-184c4f8fe977",
   "metadata": {},
   "outputs": [
    {
     "name": "stdout",
     "output_type": "stream",
     "text": [
      "VendorName\n",
      "TALL SHIP DISTILLERY LLC      0.01\n",
      "WESTERN SPIRITS BEVERAGE CO   0.01\n",
      "HIGHLAND WINE MERCHANTS LLC   0.01\n",
      "ALTAMAR BRANDS LLC            0.01\n",
      "DIAGEO CHATEAU ESTATE WINES   0.01\n",
      "CANDIA VINEYARDS              0.01\n",
      "LABELLE VYDS AND WINERY       0.01\n",
      "FLAVOR ESSENCE INC            0.01\n",
      "TRUETT HURST                  0.01\n",
      "Russian Standard Vodka        0.01\n",
      "AAPER ALCOHOL & CHEMICAL CO   0.00\n",
      "LOYAL DOG WINERY              0.00\n",
      "SILVER MOUNTAIN CIDERS        0.00\n",
      "FANTASY FINE WINES CORP       0.00\n",
      "ADAMBA IMPORTS INTL INC       0.00\n",
      "dtype: float64\n"
     ]
    }
   ],
   "source": [
    "print(D4C)"
   ]
  },
  {
   "cell_type": "markdown",
   "id": "60d75e47-bc47-48fa-8b04-de1d225641f5",
   "metadata": {},
   "source": [
    "# The above is a list of the top 10 and bottom 5 vendors who sold at least $250,000 to Bibitor in terms of cost of Freight per Dollar purchased. "
   ]
  },
  {
   "cell_type": "markdown",
   "id": "0e93889a-9ef9-44a7-b758-ee48b25c1f6d",
   "metadata": {},
   "source": [
    "# Deliverable 4d"
   ]
  },
  {
   "cell_type": "code",
   "execution_count": 204,
   "id": "e5ca2cbd-7026-45c4-8190-88844b3a4372",
   "metadata": {},
   "outputs": [],
   "source": [
    "high_freight = InvoiceData[(InvoiceData['Freight'] > 100) & (InvoiceData['Quantity'] <= 1000)]"
   ]
  },
  {
   "cell_type": "code",
   "execution_count": 205,
   "id": "4ed9d3dd-f61c-4252-9eb8-e371a12929bb",
   "metadata": {},
   "outputs": [
    {
     "data": {
      "text/html": [
       "<div>\n",
       "<style scoped>\n",
       "    .dataframe tbody tr th:only-of-type {\n",
       "        vertical-align: middle;\n",
       "    }\n",
       "\n",
       "    .dataframe tbody tr th {\n",
       "        vertical-align: top;\n",
       "    }\n",
       "\n",
       "    .dataframe thead th {\n",
       "        text-align: right;\n",
       "    }\n",
       "</style>\n",
       "<table border=\"1\" class=\"dataframe\">\n",
       "  <thead>\n",
       "    <tr style=\"text-align: right;\">\n",
       "      <th></th>\n",
       "      <th>VendorName</th>\n",
       "      <th>Freight</th>\n",
       "    </tr>\n",
       "  </thead>\n",
       "  <tbody>\n",
       "    <tr>\n",
       "      <th>71</th>\n",
       "      <td>STOLI GROUP,(USA) LLC</td>\n",
       "      <td>349.02</td>\n",
       "    </tr>\n",
       "    <tr>\n",
       "      <th>59</th>\n",
       "      <td>REMY COINTREAU USA INC</td>\n",
       "      <td>348.07</td>\n",
       "    </tr>\n",
       "    <tr>\n",
       "      <th>69</th>\n",
       "      <td>STATE WINE &amp; SPIRITS</td>\n",
       "      <td>303.70</td>\n",
       "    </tr>\n",
       "    <tr>\n",
       "      <th>50</th>\n",
       "      <td>PALM BAY INTERNATIONAL INC</td>\n",
       "      <td>242.73</td>\n",
       "    </tr>\n",
       "    <tr>\n",
       "      <th>407</th>\n",
       "      <td>EDRINGTON AMERICAS</td>\n",
       "      <td>219.65</td>\n",
       "    </tr>\n",
       "    <tr>\n",
       "      <th>23</th>\n",
       "      <td>EDRINGTON AMERICAS</td>\n",
       "      <td>218.18</td>\n",
       "    </tr>\n",
       "    <tr>\n",
       "      <th>40</th>\n",
       "      <td>MAJESTIC FINE WINES</td>\n",
       "      <td>218.05</td>\n",
       "    </tr>\n",
       "    <tr>\n",
       "      <th>28</th>\n",
       "      <td>HEAVEN HILL DISTILLERIES</td>\n",
       "      <td>200.02</td>\n",
       "    </tr>\n",
       "    <tr>\n",
       "      <th>38</th>\n",
       "      <td>LUXCO INC</td>\n",
       "      <td>196.61</td>\n",
       "    </tr>\n",
       "    <tr>\n",
       "      <th>34</th>\n",
       "      <td>KOBRAND CORPORATION</td>\n",
       "      <td>185.93</td>\n",
       "    </tr>\n",
       "  </tbody>\n",
       "</table>\n",
       "</div>"
      ],
      "text/plain": [
       "                      VendorName  Freight\n",
       "71   STOLI GROUP,(USA) LLC         349.02\n",
       "59   REMY COINTREAU USA INC        348.07\n",
       "69       STATE WINE & SPIRITS      303.70\n",
       "50   PALM BAY INTERNATIONAL INC    242.73\n",
       "407  EDRINGTON AMERICAS            219.65\n",
       "23   EDRINGTON AMERICAS            218.18\n",
       "40   MAJESTIC FINE WINES           218.05\n",
       "28   HEAVEN HILL DISTILLERIES      200.02\n",
       "38   LUXCO INC                     196.61\n",
       "34   KOBRAND CORPORATION           185.93"
      ]
     },
     "execution_count": 205,
     "metadata": {},
     "output_type": "execute_result"
    }
   ],
   "source": [
    "high_freight[['VendorName', 'Freight']].sort_values('Freight', ascending=False).head(10)"
   ]
  },
  {
   "cell_type": "markdown",
   "id": "81302263-90db-46de-9c13-a273d007955f",
   "metadata": {},
   "source": [
    "# The above data frame displays the Vendors who had the highest freight cost to Bibitor where the quantity purchased was equal to or less than 1,000 units."
   ]
  },
  {
   "cell_type": "markdown",
   "id": "c91429b0-9c4d-40ee-a6bf-f9d853c29540",
   "metadata": {},
   "source": [
    "# Deliverable 4e"
   ]
  },
  {
   "cell_type": "code",
   "execution_count": 206,
   "id": "290296a5-1dbd-491a-9ce4-1a1c501c2216",
   "metadata": {},
   "outputs": [],
   "source": [
    "high_freight_copy = high_freight.copy()"
   ]
  },
  {
   "cell_type": "code",
   "execution_count": 207,
   "id": "b448f347-af03-4ee5-bc7c-5aadb99ed6f7",
   "metadata": {},
   "outputs": [],
   "source": [
    "high_freight_copy.loc[:, 'Freight per $'] = high_freight_copy['Freight'] / high_freight_copy['Dollars']\n",
    "high_freight_copy.loc[:, 'Freight per unit'] = high_freight_copy['Freight'] / high_freight_copy['Quantity']"
   ]
  },
  {
   "cell_type": "code",
   "execution_count": 208,
   "id": "801f5a37-3941-47c2-8214-9ff82a56079f",
   "metadata": {},
   "outputs": [
    {
     "name": "stdout",
     "output_type": "stream",
     "text": [
      "                     VendorName  Freight per $  Freight per unit\n",
      "11  CASTLE BRANDS CORP.                   0.03              0.56\n",
      "16  DELICATO VINEYARDS INC                0.02              0.16\n",
      "19  DISARONNO INTERNATIONAL LLC           0.04              0.38\n",
      "23  EDRINGTON AMERICAS                    0.04              1.60\n",
      "28  HEAVEN HILL DISTILLERIES              0.03              0.24\n",
      "34  KOBRAND CORPORATION                   0.03              0.44\n",
      "38  LUXCO INC                             0.03              0.24\n",
      "40  MAJESTIC FINE WINES                   0.03              0.25\n",
      "45  MHW LTD                               0.04              0.43\n",
      "50  PALM BAY INTERNATIONAL INC            0.04              0.34\n"
     ]
    }
   ],
   "source": [
    "result = high_freight_copy[['VendorName', 'Freight per $', 'Freight per unit']]\n",
    "print(result.head(10))"
   ]
  },
  {
   "cell_type": "markdown",
   "id": "ef36f708-60b5-44a2-91da-220d088c6c23",
   "metadata": {},
   "source": [
    "# the above data frame Calculate the freight per $ & per unit for those transactions in d. They compare to my findings in 4c above in that they are not the same. 4c had much lower freight by dollar ratios."
   ]
  },
  {
   "cell_type": "markdown",
   "id": "2f2ffc40-7d35-43d9-ba39-0f0e87af5b64",
   "metadata": {},
   "source": [
    "# Deliverable 5"
   ]
  },
  {
   "cell_type": "code",
   "execution_count": 209,
   "id": "96b59fdd-4bf2-45bb-b170-7095f20f66fb",
   "metadata": {},
   "outputs": [],
   "source": [
    "zales = pd.read_csv('SalesFINAL12312016.csv')"
   ]
  },
  {
   "cell_type": "code",
   "execution_count": 212,
   "id": "3ad50a7a-f6fb-4dad-adf9-c13c6a7cef8c",
   "metadata": {},
   "outputs": [],
   "source": [
    "sales_dollars_sum = zales['SalesDollars'].sum()\n",
    "sales_df = pd.DataFrame({'Total SalesDollars': [sales_dollars_sum]})"
   ]
  },
  {
   "cell_type": "code",
   "execution_count": 214,
   "id": "8b82330e-44dd-463c-996d-76fa82486554",
   "metadata": {},
   "outputs": [
    {
     "name": "stdout",
     "output_type": "stream",
     "text": [
      "   Total SalesDollars\n",
      "0      452,062,952.02\n"
     ]
    }
   ],
   "source": [
    "print(sales_df)"
   ]
  },
  {
   "cell_type": "markdown",
   "id": "d3af9a3b-35ac-4db9-8582-21e7975ec8a4",
   "metadata": {},
   "source": [
    "# The above shows the total sales revenue earned by BiBitor during the 2016 year. This total includes sales from all stores including all brands and products."
   ]
  },
  {
   "cell_type": "code",
   "execution_count": null,
   "id": "3d634687-baf6-4587-90b3-7910403d9847",
   "metadata": {},
   "outputs": [],
   "source": []
  }
 ],
 "metadata": {
  "kernelspec": {
   "display_name": "Python 3 (ipykernel)",
   "language": "python",
   "name": "python3"
  },
  "language_info": {
   "codemirror_mode": {
    "name": "ipython",
    "version": 3
   },
   "file_extension": ".py",
   "mimetype": "text/x-python",
   "name": "python",
   "nbconvert_exporter": "python",
   "pygments_lexer": "ipython3",
   "version": "3.11.7"
  }
 },
 "nbformat": 4,
 "nbformat_minor": 5
}
